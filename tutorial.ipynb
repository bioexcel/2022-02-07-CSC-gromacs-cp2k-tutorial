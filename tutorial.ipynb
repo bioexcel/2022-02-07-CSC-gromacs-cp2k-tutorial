{
 "cells": [
  {
   "cell_type": "code",
   "execution_count": 1,
   "metadata": {
    "nbpresent": {
     "id": "57ae234e-1d9a-4341-ae4b-7e2ae3da2144"
    },
    "scrolled": true
   },
   "outputs": [
    {
     "data": {
      "text/html": [
       "<style>\n",
       ".solarized.base03 { color: #002b36; }\n",
       ".solarized.base02 { color: #073642; }\n",
       ".solarized.base01 { color: #586e75; }\n",
       ".solarized.base00 { color: #657b83; }\n",
       ".solarized.base0 { color: #839496; }\n",
       ".solarized.base1 { color: #93a1a1; }\n",
       ".solarized.base2 { color: #eee8d5; }\n",
       ".solarized.base3  { color: #fdf6e3; }\n",
       ".solarized.solar-yellow  { color: #b58900; }\n",
       ".solarized.solar-orange  { color: #cb4b16; }\n",
       ".solarized.solar-red { color: #dc322f; }\n",
       ".solarized.solar-magenta { color: #d33682; }\n",
       ".solarized.solar-violet  { color: #6c71c4; }\n",
       ".solarized.solar-blue { color: #268bd2; }\n",
       ".solarized.solar-cyan { color: #2aa198; }\n",
       ".solarized.solar-green { color: #859900; }\n",
       "\n",
       ".ansiyellow { color: #b58900; }\n",
       ".ansiorange { color: #cb4b16; }\n",
       ".ansired { color: #dc322f; }\n",
       ".ansimagenta { color: #d33682; }\n",
       ".ansiviolet { color: #6c71c4; }\n",
       ".ansiblue { color: #268bd2; }\n",
       ".ansicyan { color: #2aa198; }\n",
       ".ansigreen { color: #859900; }\n",
       "\n",
       ".gromacs.blue {color: #3e3e7f}\n",
       "/* Notebook styling */\n",
       "\n",
       "body, p, div.rendered_html { \n",
       "    color: #3e3e7f;\n",
       "/*    font-family: 'PT Serif', Georgia, Times, 'Times New Roman', serif; */\n",
       "    font-size: 12pt;\n",
       "}\n",
       "\n",
       "body { background-color: #eee8d5 !important; }\n",
       "\n",
       "#notebook { \n",
       "    background-color: #d0d0ff !important;\n",
       "    box-shadow: inset 20px 36px 20px -35px black !important;\n",
       "}\n",
       "\n",
       "/*\n",
       "#maintoolbar { padding-top: 1em; padding-bottom: 1em; }\n",
       "#header { border-color: #93a1a1 !important; }\n",
       "*/\n",
       "/* Pager */\n",
       "\n",
       "#pager_splitter { background: none !important; }\n",
       "#pager {\n",
       "    background-color: #eee8d5;\n",
       "}\n",
       "div#pager pre {\n",
       "    background-color: #fdf6e3;\n",
       "    color: #586e75;\n",
       "}    \n",
       "\n",
       "/* Forms and menus */\n",
       "/*\n",
       ".navbar-default, .navbar-static-top {\n",
       "    background-color: #fdf6e3 !important;\n",
       "    color: #586e75 !important;\n",
       "}\n",
       ".navbar-default { border: none !important; }\n",
       ".navbar-nav > li > a { color: #586e75 !important; }\n",
       ".navbar-nav > li.open > a { background-color: #eee8d5 !important; color: #93a1a1 !important; }\n",
       ".nav > li.active > a { background-color: #eee8d5 !important; color: #586e75 !important; }\n",
       "\n",
       ".dropdown-menu { background-color: #fdf6e3 !important; border: none !important; }\n",
       ".dropdown-menu > li > a { color: #586e75 !important; }\n",
       ".dropdown-menu > li > a:hover { background-color: #eee8d5 !important; }\n",
       ".dropdown-menu > li.disabled > a { color: #93a1a1 !important; }\n",
       "\n",
       "button, .btn-default, .form-control, select {\n",
       "    background-color: #fdf6e3 !important;\n",
       "    color: #586e75 !important;\n",
       "}\n",
       "*/\n",
       "/* Tooltips */\n",
       "\n",
       ".completions {\n",
       "    border: none;\n",
       "    -moz-box-shadow: none;\n",
       "    -webkit-box-shadow: none;\n",
       "    box-shadow: none;\n",
       "    border-radius: 0;\n",
       "    margin-top: 0.5em;\n",
       "}\n",
       ".completions select { font-size: 11pt; }\n",
       "\n",
       ".ipython_tooltip .tooltiptext pre { \n",
       "    font-size: 10pt;\n",
       "    background-color: #eee8d5;\n",
       "    color: #586e75;\n",
       "}\n",
       ".ipython_tooltip {\n",
       "    -moz-box-shadow: none;\n",
       "    -webkit-box-shadow: none;\n",
       "    box-shadow: none;\n",
       "    background-color: #eee8d5;\n",
       "    color: #586e75;\n",
       "}\n",
       ".pretooltiparrow:before {\n",
       "    background-color: #eee8d5;\n",
       "}\n",
       "\n",
       "/* Cell output */\n",
       "\n",
       ".rendered_html pre, .rendered_html code {\n",
       "    color: inherit !important;\n",
       "    background-color: inherit !important;\n",
       "}\n",
       "div.output_area pre {\n",
       "    color: #93a1a1 !important;\n",
       "    white-space: pre;\n",
       "}\n",
       ".rendered_html table, .rendered_html td, .rendered_html th {\n",
       "    border: 1px solid #586e75 !important;\n",
       "}\n",
       "\n",
       "/* Modal dialogs */\n",
       "\n",
       ".modal-content, .modal-content p {\n",
       "    background-color: #eee8d5 !important;\n",
       "    color: #586e75 !important;\n",
       "}\n",
       "\n",
       "/* Cell styling */\n",
       "\n",
       "div.cell.selected { border-color: #839496 !important; }\n",
       "div.cell.edit_mode { border-color: #268bd2 !important; }\n",
       "div.input_prompt { color: #268bd2 !important; }\n",
       "div.output_prompt { color: #dc322f !important; }\n",
       "div.input_area { border: none !important; background: none !important; }\n",
       "\n",
       ".celltoolbar {\n",
       "    background: #eee8d5 !important;\n",
       "    color: #586e75 !important;\n",
       "}\n",
       "\n",
       "/*    border: 1px solid #002b36 !important;*/\n",
       "/* CodeMirror Styling */\n",
       "/*\n",
       ".cm-s-ipython {\n",
       "    line-height: 1.45em;\n",
       "    color-profile: sRGB;\n",
       "    rendering-intent: auto;\n",
       "    background-color: #002b36;\n",
       "    color: #93a1a1;\n",
       "    text-shadow: none;\n",
       "    border-radius: 4px;\n",
       "}\n",
       "*/\n",
       "/* Cursor */\n",
       "\n",
       ".cm-s-ipython div.CodeMirror-cursor {\n",
       "    border: none;\n",
       "    width: 0.6em;\n",
       "    background-color: rgba(100, 100, 100, 0.5);\n",
       "}\n",
       "\n",
       "/* Gutters */\n",
       "\n",
       "/*\n",
       ".cm-s-ipython .CodeMirror-gutters {\n",
       "  border-right: 1px solid;\n",
       "}\n",
       "\n",
       ".cm-s-ipython .CodeMirror-gutters {\n",
       "  background-color:  #002b36;\n",
       "  border-color: #00232c;\n",
       "}\n",
       "\n",
       ".cm-s-ipython .CodeMirror-linenumber {\n",
       "  text-shadow: #021014 0 -1px;\n",
       "  padding: 0 8px 0 0;\n",
       "  color: #586e75;\n",
       "}\n",
       "*/\n",
       "/*\n",
       ".cm-s-ipython .CodeMirror-guttermarker-subtle { color: #586e75; }\n",
       ".cm-s-ipython .CodeMirror-guttermarker { color: #ddd; }\n",
       "*/\n",
       "/* Syntax highlighting */\n",
       "/*\n",
       ".cm-s-ipython span.cm-keyword { color: #cb4b16 }\n",
       ".cm-s-ipython span.cm-atom { color: #d33682; }\n",
       ".cm-s-ipython span.cm-number { color: #d33682; }\n",
       ".cm-s-ipython span.cm-def { color: #268bd2; font-weight: bold; }\n",
       "\n",
       ".cm-s-ipython span.cm-variable { color: #93a1a1; }\n",
       ".cm-s-ipython span.cm-variable-2 { color: #b58900; }\n",
       ".cm-s-ipython span.cm-variable-3 { color: #6c71c4; }\n",
       "\n",
       ".cm-s-ipython span.cm-property { color: #2aa198; }\n",
       ".cm-s-ipython span.cm-operator {color: #6c71c4;}\n",
       "\n",
       ".cm-s-ipython span.cm-comment { color: #6c71c4; font-style: italic; }\n",
       "\n",
       ".cm-s-ipython span.cm-string { color: #2aa198; }\n",
       ".cm-s-ipython span.cm-string-2 { color: #b58900; }\n",
       "\n",
       ".cm-s-ipython span.cm-meta { color: #859900; }\n",
       ".cm-s-ipython span.cm-qualifier { color: #b58900; }\n",
       ".cm-s-ipython span.cm-builtin { color: #859900; }\n",
       ".cm-s-ipython span.cm-bracket { color: #cb4b16; }\n",
       ".cm-s-ipython .CodeMirror-matchingbracket { color: #b58900 !important; font-weight: bold; }\n",
       ".cm-s-ipython .CodeMirror-nonmatchingbracket { color: #dc322f; }\n",
       ".cm-s-ipython span.cm-tag { color: #93a1a1 }\n",
       ".cm-s-ipython span.cm-attribute {  color: #2aa198; }\n",
       ".cm-s-ipython span.cm-header { color: #586e75; }\n",
       ".cm-s-ipython span.cm-quote { color: #93a1a1; }\n",
       ".cm-s-ipython span.cm-hr {\n",
       "  color: transparent;\n",
       "  border-top: 1px solid #080e05;\n",
       "  display: block;\n",
       "}\n",
       ".cm-s-ipython span.cm-link { color: #93a1a1; cursor: pointer; }\n",
       ".cm-s-ipython span.cm-special { color: #6c71c4; }\n",
       ".cm-s-ipython span.cm-em {\n",
       "  color: #999;\n",
       "  text-decoration: underline;\n",
       "  text-decoration-style: dotted;\n",
       "}\n",
       ".cm-s-ipython span.cm-strong { color: #eee; }\n",
       ".cm-s-ipython span.cm-error,\n",
       ".cm-s-ipython span.cm-invalidchar {\n",
       "  color: #586e75;\n",
       "  border-bottom: 1px dotted #dc322f;\n",
       "}\n",
       "*/\n",
       "</style>\n"
      ],
      "text/plain": [
       "<IPython.core.display.HTML object>"
      ]
     },
     "metadata": {},
     "output_type": "display_data"
    },
    {
     "data": {
      "application/vnd.jupyter.widget-view+json": {
       "model_id": "a438fc2c4cf5499c91afa264e4be6c5f",
       "version_major": 2,
       "version_minor": 0
      },
      "text/plain": []
     },
     "metadata": {},
     "output_type": "display_data"
    }
   ],
   "source": [
    "# Execute this first \n",
    "#\n",
    "#  * Trigger notebook styling\n",
    "#  * Save current directory \n",
    "%run src/init_notebooks.py\n",
    "import os\n",
    "rdir = os.getcwd()"
   ]
  },
  {
   "cell_type": "markdown",
   "metadata": {
    "nbpresent": {
     "id": "dde7b85f-ae2f-42f9-9ebf-58ab93239983"
    }
   },
   "source": [
    "# Molecular dynamics simulation of a small protein using GROMACS "
   ]
  },
  {
   "cell_type": "markdown",
   "metadata": {
    "nbpresent": {
     "id": "59d19417-8116-4511-8fc5-c5abbbfe82b3"
    }
   },
   "source": [
    "    authors  : Dmitry Morozov (based on a Gerrit Groenhof tutorial see http://wwwuser.gwdg.de/~ggroenh/EMBO2004/html/introduction.html ).    \n",
    "    goal     : learn how to explore energy surface of reaction using GROMACS-CP2K QM/MM interface \n",
    "    time     : 60 minutes\n",
    "    software : GROMACS 2022 with CP2K 9.0, python modules: numpy, matplotlib, nglviewer, md_traj, pandas) \n",
    "    optional software: visualization software VMD, Xmgrace plotting tool"
   ]
  },
  {
   "cell_type": "markdown",
   "metadata": {},
   "source": [
    "# Preparations to run this notebook"
   ]
  },
  {
   "cell_type": "code",
   "execution_count": 6,
   "metadata": {
    "nbpresent": {
     "id": "cf4e0e9a-6503-430f-8c60-815a9ae22616"
    },
    "scrolled": true
   },
   "outputs": [
    {
     "name": "stdout",
     "output_type": "stream",
     "text": [
      "[Errno 2] No such file or directory: 'data'\n",
      "/mnt/i/Presentations/CSC-AWH-tutorial-2022/tutorial/data\n"
     ]
    }
   ],
   "source": [
    "# Change to the data directory\n",
    "# Note that executing this command twice will result in an error you can ignore\n",
    "%cd data"
   ]
  },
  {
   "cell_type": "markdown",
   "metadata": {
    "nbpresent": {
     "id": "3d13b2f5-7423-4201-b832-303524849db8"
    }
   },
   "source": [
    "# Input for a simulation"
   ]
  },
  {
   "cell_type": "markdown",
   "metadata": {
    "nbpresent": {
     "id": "40fa54aa-811b-4991-8dcf-3fdc464b1249"
    }
   },
   "source": [
    "In this tutorial we are going to study a catalytic antibody that catalyzes the Diels Alder cyclo-addition reaction shown here. The x-ray structure of the analogue-antibody complex has been determined by Xu et al. (Science 1999, 286, 2345-2348) and is available from the protein databank [1C1E](https://www.rcsb.org/structure/1C1E)."
   ]
  },
  {
   "cell_type": "code",
   "execution_count": 3,
   "metadata": {
    "scrolled": true
   },
   "outputs": [
    {
     "data": {
      "application/vnd.jupyter.widget-view+json": {
       "model_id": "57f1350b7f514a1891da60d95831f532",
       "version_major": 2,
       "version_minor": 0
      },
      "text/plain": [
       "NGLWidget()"
      ]
     },
     "metadata": {},
     "output_type": "display_data"
    }
   ],
   "source": [
    "import nglview as ng\n",
    "view = ng.show_structure_file(rdir + \"/reference-data/1c1e.pdb\")\n",
    "view.center(selection='ENH')\n",
    "view\n",
    "\n",
    "# click and drag to rotate, zoom with your mouseweel \n",
    "# for more infor on this viewer have a look at https://github.com/nglviewer/nglview"
   ]
  },
  {
   "cell_type": "markdown",
   "metadata": {},
   "source": [
    "It should be noted that structure contains analogue of the substrate. Real substrate, which will be studied in the tutorial, is looking like that: "
   ]
  },
  {
   "cell_type": "code",
   "execution_count": 11,
   "metadata": {
    "scrolled": true
   },
   "outputs": [
    {
     "data": {
      "application/vnd.jupyter.widget-view+json": {
       "model_id": "b5f44331445849bc9dba4ecc40bfaf3a",
       "version_major": 2,
       "version_minor": 0
      },
      "text/plain": [
       "NGLWidget()"
      ]
     },
     "metadata": {},
     "output_type": "display_data"
    }
   ],
   "source": [
    "import nglview as ng\n",
    "view = ng.show_structure_file(rdir + \"/reference-data/dat.pdb\")\n",
    "view"
   ]
  },
  {
   "cell_type": "markdown",
   "metadata": {
    "nbpresent": {
     "id": "d5d197b7-16ea-4cb7-bc4c-dc18ea76e1d1"
    }
   },
   "source": [
    "# Linear transit scan of the Diels-Alder reaction potential energy surface *in vacuo*"
   ]
  },
  {
   "cell_type": "markdown",
   "metadata": {
    "nbpresent": {
     "id": "992503cc-771a-439b-bae3-3a660a755b7c"
    }
   },
   "source": [
    "Once you've had a look at the system, you are going to want to study it in the vacuum. In the Linear Transit method (also known as Relaxed Surface scan)) a coordinate is choosen along which the reactants are transformed into product. This so called reaction coordinate is varied linearly while all other degrees of freedom are minimized (relaxed). Choosing such reaction coordinate requires some intuition and understanding of the process studied, but is in general easier to chose than a reasonable guess geometry. The concept of the reaction coordinate is best explained by an example. In case of a Diels-Alder cyclo-addition, a good reaction coordinate would be the distance between the two atom pairs that are forming the two new bonds upon reaction:\n",
    "![img](files/images/react-coord.gif)"
   ]
  },
  {
   "cell_type": "markdown",
   "metadata": {},
   "source": [
    "Once the reaction coordinate is choosen, we slowly progress along that coordinate, while minimizing all other degrees of freedom. In practice, the reaction coordinate is constrained or restrained at a number of distances. Afterwards, the potential energy is plotted as a function the reaction coordinate. The maximum of this curve is the transition state and the minima are the reactant and product states.\n",
    "\n",
    "Here we will use the GROMACS QM/MM features to perform a Linear Transit calculation of the Diels-Alder cyclo-addition reaction foor substrate shown above. The -R group, which was missing in the x-ray model and ignored in the previous part of the tutorial, will now be taken into account. Because this group is unlikely to have a large effect on the reaction, we will describe it at the MM level in our model:\n",
    "![img](files/images/qmmm_vac_small.gif)\n",
    "\n",
    "The QM/MM division splits the systems along a chemical bond. Therefore, we need to cap the QM subsystem with a so-called link atom. This link atom is present as a hydrogen atom only at the QM calculation step within CP2K. It is not physically present in the GROMACS system, but the forces on it, that are computed in the QM step, are distributed over the two atoms of the bond. The broken bond length itself is still accounted with MM forecfield during the simulation."
   ]
  },
  {
   "cell_type": "code",
   "execution_count": 7,
   "metadata": {
    "nbpresent": {
     "id": "2655e386-be87-4ac5-91ef-9ac4ee9360f9"
    },
    "scrolled": false
   },
   "outputs": [
    {
     "name": "stdout",
     "output_type": "stream",
     "text": [
      "/mnt/i/Presentations/CSC-AWH-tutorial-2022/tutorial/data/DA-opt\n"
     ]
    }
   ],
   "source": [
    "# Change to the DA-opt directory\n",
    "# Note that executing this command twice will result in an error you can ignore\n",
    "%cd DA-opt"
   ]
  },
  {
   "cell_type": "markdown",
   "metadata": {},
   "source": [
    "### Specifying QM/MM simulation setup"
   ]
  },
  {
   "cell_type": "markdown",
   "metadata": {},
   "source": [
    "Once we have decided which atoms should be treated by a QM method we add these atoms to the index file. We can either use the make_ndx program, or hack the atoms into the index.ndx file ourselves. The index file we will use in this tutorial is found here: "
   ]
  },
  {
   "cell_type": "code",
   "execution_count": 13,
   "metadata": {
    "scrolled": true
   },
   "outputs": [
    {
     "name": "stdout",
     "output_type": "stream",
     "text": [
      "[ System ]\r\n",
      "   1    2    3    4    5    6    7    8    9   10   11   12   13   14   15\r\n",
      "  16   17   18   19   20   21   22   23   24   25   26   27   28   29   30\r\n",
      "  31   32   33   34   35   36   37   38\r\n",
      "[ Other ]\r\n",
      "   1    2    3    4    5    6    7    8    9   10   11   12   13   14   15\r\n",
      "  16   17   18   19   20   21   22   23   24   25   26   27   28   29   30\r\n",
      "  31   32   33   34   35   36   37   38\r\n",
      "[ DAT ]\r\n",
      "   1    2    3    4    5    6    7    8    9   10   11   12   13   14   15\r\n",
      "  16   17   18   19   20   21   22   23   24   25   26   27   28   29   30\r\n",
      "  31   32   33   34   35   36   37   38\r\n",
      "[ QMatoms ]\r\n",
      "   1    2    3    4    5    6    7    8    9   10   11   12   13   14   15\r\n",
      "  16   17   18   19   20   21   22   23\r\n",
      "[ group1 ]\r\n",
      "  14   16\r\n",
      "[ group2 ]\r\n",
      "   1    7\r\n"
     ]
    }
   ],
   "source": [
    "!cat index.ndx"
   ]
  },
  {
   "cell_type": "markdown",
   "metadata": {},
   "source": [
    "Atoms that will be treated at the QM level are defined in **[ QMatoms ]** group.  \n",
    "Next we should request GROMACS to perform QM/MM simulation, that is done by specifying several parameters in the *.mdp* file:"
   ]
  },
  {
   "cell_type": "code",
   "execution_count": 14,
   "metadata": {
    "scrolled": true
   },
   "outputs": [
    {
     "name": "stdout",
     "output_type": "stream",
     "text": [
      "title                    = relaxed-surface\r\n",
      "\r\n",
      "integrator               = steep\r\n",
      "\r\n",
      "tinit                    = 0\r\n",
      "dt                       = 0.002\r\n",
      "nsteps                   = 100\r\n",
      "\r\n",
      "nstcomm                  = 1\r\n",
      "comm_grps                = system\r\n",
      "\r\n",
      "emtol                    = 100.0\r\n",
      "emstep                   = 0.0001\r\n",
      "\r\n",
      "nstxout                  = 1\r\n",
      "nstvout                  = 1\r\n",
      "nstfout                  = 1\r\n",
      "nstlog                   = 1\r\n",
      "nstenergy                = 1\r\n",
      "nstxtcout                = 1\r\n",
      "xtc-precision            = 1000\r\n",
      "xtc_grps                 = system\r\n",
      "energy_grps              = \r\n",
      "\r\n",
      "nstlist                  = 10\r\n",
      "ns_type                  = grid\r\n",
      "pbc                      = xyz\r\n",
      "rlist                    = 1.0\r\n",
      "coulombtype              = PME\r\n",
      "rcoulomb-switch          = 1.0\r\n",
      "rcoulomb                 = 1.6\r\n",
      "\r\n",
      "vdwtype                  = Cut-off\r\n",
      "rvdw-switch              = 0\r\n",
      "rvdw                     = 1.6\r\n",
      "DispCorr                 = No\r\n",
      "\r\n",
      "constraints              = none\r\n",
      "\r\n",
      "qmmm-cp2k-active         = true\r\n",
      "qmmm-cp2k-qmgroup        = QMatoms\r\n",
      "qmmm-cp2k-qmmethod       = PBE\r\n",
      "qmmm-cp2k-qmcharge       = 0\r\n",
      "qmmm-cp2k-qmmultiplicity = 1\r\n",
      "\r\n",
      "\r\n",
      "\r\n"
     ]
    }
   ],
   "source": [
    "!cat LT.mdp"
   ]
  },
  {
   "cell_type": "markdown",
   "metadata": {},
   "source": [
    "- **qmmm-cp2k-active         = true** - activates QM/MM MDModule\n",
    "- **qmmm-cp2k-qmgroup        = QMatoms** - specifies group of atoms, that should be treated with QM\n",
    "- **qmmm-cp2k-qmmethod       = PBE** - specifies QM method to be used\n",
    "- **qmmm-cp2k-qmcharge       = 0** - total charge os QM system\n",
    "- **qmmm-cp2k-qmmultiplicity = 1** - total multiplicity of QM system (singlet here)\n",
    "\n",
    "\n",
    "In all other points this is typical minimization run using steepest descent intergator"
   ]
  },
  {
   "cell_type": "markdown",
   "metadata": {},
   "source": [
    "Now take a look into the topology of substrate:"
   ]
  },
  {
   "cell_type": "code",
   "execution_count": 15,
   "metadata": {
    "scrolled": true
   },
   "outputs": [
    {
     "name": "stdout",
     "output_type": "stream",
     "text": [
      "; dat_GMX.itp created by acpype (v: 2021-02-05T22:15:50CET) on Wed Jan 19 21:43:58 2022\r\n",
      "\r\n",
      "[ atomtypes ]\r\n",
      ";name   bond_type     mass     charge   ptype   sigma         epsilon       Amb\r\n",
      " c3       6           0.00000  0.00000   A     3.39967e-01   4.57730e-01 ; 1.91  0.1094\r\n",
      " cl       17          0.00000  0.00000   A     3.47094e-01   1.10876e+00 ; 1.95  0.2650\r\n",
      " c2       6           0.00000  0.00000   A     3.39967e-01   3.59824e-01 ; 1.91  0.0860\r\n",
      " s6       16          0.00000  0.00000   A     3.56359e-01   1.04600e+00 ; 2.00  0.2500\r\n",
      " o        8           0.00000  0.00000   A     2.95992e-01   8.78640e-01 ; 1.66  0.2100\r\n",
      " c        6           0.00000  0.00000   A     3.39967e-01   3.59824e-01 ; 1.91  0.0860\r\n",
      " hc       1           0.00000  0.00000   A     2.64953e-01   6.56888e-02 ; 1.49  0.0157\r\n",
      " n        7           0.00000  0.00000   A     3.25000e-01   7.11280e-01 ; 1.82  0.1700\r\n",
      " h1       1           0.00000  0.00000   A     2.47135e-01   6.56888e-02 ; 1.39  0.0157\r\n",
      " \r\n",
      "[ moleculetype ]\r\n",
      ";name            nrexcl\r\n",
      " dat              3\r\n",
      "\r\n",
      "[ atoms ]\r\n",
      ";   nr  type  resi  res  atom  cgnr     charge      mass       ; qtot   bond_type\r\n",
      "     1   c3     1   DAT    CA    1    -0.001100     12.01000 ; qtot -0.001\r\n",
      "     2   cl     1   DAT   CLA    2    -0.036900     35.45000 ; qtot -0.038\r\n",
      "     3   c2     1   DAT    CB    3    -0.032300     12.01000 ; qtot -0.070\r\n",
      "     4   cl     1   DAT   CLB    4     0.022100     35.45000 ; qtot -0.048\r\n",
      "     5   c2     1   DAT    CC    5    -0.032300     12.01000 ; qtot -0.081\r\n",
      "     6   cl     1   DAT   CLC    6     0.022100     35.45000 ; qtot -0.058\r\n",
      "     7   c3     1   DAT    CD    7    -0.001100     12.01000 ; qtot -0.059\r\n",
      "     8   cl     1   DAT   CLD    8    -0.036900     35.45000 ; qtot -0.096\r\n",
      "     9   s6     1   DAT    SE    9     1.179000     32.06000 ; qtot 1.083\r\n",
      "    10    o     1   DAT   OE1   10    -0.587300     16.00000 ; qtot 0.495\r\n",
      "    11    o     1   DAT   OE2   11    -0.587300     16.00000 ; qtot -0.092\r\n",
      "    12    c     1   DAT    C1   12     0.715500     12.01000 ; qtot 0.623\r\n",
      "    13    o     1   DAT    O1   13    -0.549000     16.00000 ; qtot 0.074\r\n",
      "    14   c3     1   DAT    C2   14    -0.158200     12.01000 ; qtot -0.084\r\n",
      "    15   hc     1   DAT    H2   15     0.129700      1.00800 ; qtot 0.046\r\n",
      "    16   c3     1   DAT    C3   16    -0.158200     12.01000 ; qtot -0.112\r\n",
      "    17   hc     1   DAT    H3   17     0.129700      1.00800 ; qtot 0.017\r\n",
      "    18    c     1   DAT    C4   18     0.715500     12.01000 ; qtot 0.733\r\n",
      "    19    o     1   DAT    O4   19    -0.549000     16.00000 ; qtot 0.184\r\n",
      "    20    n     1   DAT    N5   20    -0.490400     14.01000 ; qtot -0.306\r\n",
      "    21   c3     1   DAT    C6   21     0.091000     12.01000 ; qtot -0.215\r\n",
      "    22   h1     1   DAT   H61   22     0.086200      1.00800 ; qtot -0.129\r\n",
      "    23   h1     1   DAT   H62   23     0.086200      1.00800 ; qtot -0.043\r\n",
      "    24   c3     1   DAT    C7   24    -0.093400     12.01000 ; qtot -0.136\r\n",
      "    25   hc     1   DAT   H71   25     0.038200      1.00800 ; qtot -0.098\r\n",
      "    26   hc     1   DAT   H72   26     0.038200      1.00800 ; qtot -0.060\r\n",
      "    27   c3     1   DAT    C8   27    -0.078400     12.01000 ; qtot -0.138\r\n",
      "    28   hc     1   DAT   H81   28     0.033700      1.00800 ; qtot -0.105\r\n",
      "    29   hc     1   DAT   H82   29     0.033700      1.00800 ; qtot -0.071\r\n",
      "    30   c3     1   DAT    C9   30    -0.072400     12.01000 ; qtot -0.143\r\n",
      "    31   hc     1   DAT   H91   31     0.046700      1.00800 ; qtot -0.097\r\n",
      "    32   hc     1   DAT   H92   32     0.046700      1.00800 ; qtot -0.050\r\n",
      "    33   c3     1   DAT   C10   33    -0.196400     12.01000 ; qtot -0.246\r\n",
      "    34   hc     1   DAT  HH10   34     0.020200      1.00800 ; qtot -0.226\r\n",
      "    35   hc     1   DAT    H1   35     0.020200      1.00800 ; qtot -0.206\r\n",
      "    36    c     1   DAT   C11   36     0.908600     12.01000 ; qtot 0.703\r\n",
      "    37    o     1   DAT   O12   37    -0.851300     16.00000 ; qtot -0.149\r\n",
      "    38    o     1   DAT   O13   38    -0.851300     16.00000 ; qtot -1.000\r\n",
      "\r\n",
      "[ bonds ]\r\n",
      ";   ai     aj funct   r             k\r\n",
      "     1      2   1    1.8045e-01    2.2284e+05 ;     CA - CLA   \r\n",
      "     1      3   1    1.5095e-01    2.7347e+05 ;     CA - CB    \r\n",
      "     1      9   1    1.8075e-01    1.9539e+05 ;     CA - SE    \r\n",
      "     1     14   1    1.5375e-01    2.5179e+05 ;     CA - C2    \r\n",
      "     3      4   1    1.7308e-01    2.6886e+05 ;     CB - CLB   \r\n",
      "     3      5   1    1.3343e-01    4.7647e+05 ;     CB - CC    \r\n",
      "     5      6   1    1.7308e-01    2.6886e+05 ;     CC - CLC   \r\n",
      "     5      7   1    1.5095e-01    2.7347e+05 ;     CC - CD    \r\n",
      "     7      8   1    1.8045e-01    2.2284e+05 ;     CD - CLD   \r\n",
      "     7      9   1    1.8075e-01    1.9539e+05 ;     CD - SE    \r\n",
      "     7     16   1    1.5375e-01    2.5179e+05 ;     CD - C3    \r\n",
      "     9     10   1    1.4533e-01    4.2903e+05 ;     SE - OE1   \r\n",
      "     9     11   1    1.4533e-01    4.2903e+05 ;     SE - OE2   \r\n",
      "    12     13   1    1.2183e-01    5.3363e+05 ;     C1 - O1    \r\n",
      "    12     14   1    1.5241e-01    2.6192e+05 ;     C1 - C2    \r\n",
      "    12     20   1    1.3789e-01    3.5782e+05 ;     C1 - N5    \r\n",
      "    14     15   1    1.0969e-01    2.7665e+05 ;     C2 - H2    \r\n",
      "    14     16   1    1.5375e-01    2.5179e+05 ;     C2 - C3    \r\n",
      "    16     17   1    1.0969e-01    2.7665e+05 ;     C3 - H3    \r\n",
      "    16     18   1    1.5241e-01    2.6192e+05 ;     C3 - C4    \r\n",
      "    18     19   1    1.2183e-01    5.3363e+05 ;     C4 - O4    \r\n",
      "    18     20   1    1.3789e-01    3.5782e+05 ;     C4 - N5    \r\n",
      "    20     21   1    1.4619e-01    2.7506e+05 ;     N5 - C6    \r\n",
      "    21     22   1    1.0969e-01    2.7665e+05 ;     C6 - H61   \r\n",
      "    21     23   1    1.0969e-01    2.7665e+05 ;     C6 - H62   \r\n",
      "    21     24   1    1.5375e-01    2.5179e+05 ;     C6 - C7    \r\n",
      "    24     25   1    1.0969e-01    2.7665e+05 ;     C7 - H71   \r\n",
      "    24     26   1    1.0969e-01    2.7665e+05 ;     C7 - H72   \r\n",
      "    24     27   1    1.5375e-01    2.5179e+05 ;     C7 - C8    \r\n",
      "    27     28   1    1.0969e-01    2.7665e+05 ;     C8 - H81   \r\n",
      "    27     29   1    1.0969e-01    2.7665e+05 ;     C8 - H82   \r\n",
      "    27     30   1    1.5375e-01    2.5179e+05 ;     C8 - C9    \r\n",
      "    30     31   1    1.0969e-01    2.7665e+05 ;     C9 - H91   \r\n",
      "    30     32   1    1.0969e-01    2.7665e+05 ;     C9 - H92   \r\n",
      "    30     33   1    1.5375e-01    2.5179e+05 ;     C9 - C10   \r\n",
      "    33     34   1    1.0969e-01    2.7665e+05 ;    C10 - HH10  \r\n",
      "    33     35   1    1.0969e-01    2.7665e+05 ;    C10 - H1    \r\n",
      "    33     36   1    1.5241e-01    2.6192e+05 ;    C10 - C11   \r\n",
      "    36     37   1    1.2183e-01    5.3363e+05 ;    C11 - O12   \r\n",
      "    36     38   1    1.2183e-01    5.3363e+05 ;    C11 - O13   \r\n",
      "\r\n",
      "[ pairs ]\r\n",
      ";   ai     aj    funct\r\n",
      "     1      6      1 ;     CA - CLC   \r\n",
      "     1      8      1 ;     CA - CLD   \r\n",
      "     1     13      1 ;     CA - O1    \r\n",
      "     1     17      1 ;     CA - H3    \r\n",
      "     1     18      1 ;     CA - C4    \r\n",
      "     1     20      1 ;     CA - N5    \r\n",
      "     2      4      1 ;    CLA - CLB   \r\n",
      "     2      5      1 ;    CLA - CC    \r\n",
      "     2      7      1 ;    CLA - CD    \r\n",
      "     2     10      1 ;    CLA - OE1   \r\n",
      "     2     11      1 ;    CLA - OE2   \r\n",
      "     2     12      1 ;    CLA - C1    \r\n",
      "     2     15      1 ;    CLA - H2    \r\n",
      "     2     16      1 ;    CLA - C3    \r\n",
      "     3      8      1 ;     CB - CLD   \r\n",
      "     3     10      1 ;     CB - OE1   \r\n",
      "     3     11      1 ;     CB - OE2   \r\n",
      "     3     12      1 ;     CB - C1    \r\n",
      "     3     15      1 ;     CB - H2    \r\n",
      "     3     16      1 ;     CB - C3    \r\n",
      "     4      6      1 ;    CLB - CLC   \r\n",
      "     4      7      1 ;    CLB - CD    \r\n",
      "     5     10      1 ;     CC - OE1   \r\n",
      "     5     11      1 ;     CC - OE2   \r\n",
      "     5     14      1 ;     CC - C2    \r\n",
      "     5     17      1 ;     CC - H3    \r\n",
      "     5     18      1 ;     CC - C4    \r\n",
      "     6      8      1 ;    CLC - CLD   \r\n",
      "     6      9      1 ;    CLC - SE    \r\n",
      "     6     16      1 ;    CLC - C3    \r\n",
      "     7     12      1 ;     CD - C1    \r\n",
      "     7     15      1 ;     CD - H2    \r\n",
      "     7     19      1 ;     CD - O4    \r\n",
      "     7     20      1 ;     CD - N5    \r\n",
      "     8     10      1 ;    CLD - OE1   \r\n",
      "     8     11      1 ;    CLD - OE2   \r\n",
      "     8     14      1 ;    CLD - C2    \r\n",
      "     8     17      1 ;    CLD - H3    \r\n",
      "     8     18      1 ;    CLD - C4    \r\n",
      "     9      4      1 ;     SE - CLB   \r\n",
      "     9     12      1 ;     SE - C1    \r\n",
      "     9     15      1 ;     SE - H2    \r\n",
      "     9     17      1 ;     SE - H3    \r\n",
      "     9     18      1 ;     SE - C4    \r\n",
      "    10     16      1 ;    OE1 - C3    \r\n",
      "    11     16      1 ;    OE2 - C3    \r\n",
      "    12     17      1 ;     C1 - H3    \r\n",
      "    12     19      1 ;     C1 - O4    \r\n",
      "    12     22      1 ;     C1 - H61   \r\n",
      "    12     23      1 ;     C1 - H62   \r\n",
      "    12     24      1 ;     C1 - C7    \r\n",
      "    13     15      1 ;     O1 - H2    \r\n",
      "    13     16      1 ;     O1 - C3    \r\n",
      "    13     18      1 ;     O1 - C4    \r\n",
      "    13     21      1 ;     O1 - C6    \r\n",
      "    14      4      1 ;     C2 - CLB   \r\n",
      "    14     10      1 ;     C2 - OE1   \r\n",
      "    14     11      1 ;     C2 - OE2   \r\n",
      "    14     19      1 ;     C2 - O4    \r\n",
      "    14     21      1 ;     C2 - C6    \r\n",
      "    15     17      1 ;     H2 - H3    \r\n",
      "    15     18      1 ;     H2 - C4    \r\n",
      "    15     20      1 ;     H2 - N5    \r\n",
      "    16     21      1 ;     C3 - C6    \r\n",
      "    17     19      1 ;     H3 - O4    \r\n",
      "    17     20      1 ;     H3 - N5    \r\n",
      "    18     22      1 ;     C4 - H61   \r\n",
      "    18     23      1 ;     C4 - H62   \r\n",
      "    18     24      1 ;     C4 - C7    \r\n",
      "    19     21      1 ;     O4 - C6    \r\n",
      "    20     25      1 ;     N5 - H71   \r\n",
      "    20     26      1 ;     N5 - H72   \r\n",
      "    20     27      1 ;     N5 - C8    \r\n",
      "    21     28      1 ;     C6 - H81   \r\n",
      "    21     29      1 ;     C6 - H82   \r\n",
      "    21     30      1 ;     C6 - C9    \r\n",
      "    22     25      1 ;    H61 - H71   \r\n",
      "    22     26      1 ;    H61 - H72   \r\n",
      "    22     27      1 ;    H61 - C8    \r\n",
      "    23     25      1 ;    H62 - H71   \r\n",
      "    23     26      1 ;    H62 - H72   \r\n",
      "    23     27      1 ;    H62 - C8    \r\n",
      "    24     31      1 ;     C7 - H91   \r\n",
      "    24     32      1 ;     C7 - H92   \r\n",
      "    24     33      1 ;     C7 - C10   \r\n",
      "    25     28      1 ;    H71 - H81   \r\n",
      "    25     29      1 ;    H71 - H82   \r\n",
      "    25     30      1 ;    H71 - C9    \r\n",
      "    26     28      1 ;    H72 - H81   \r\n",
      "    26     29      1 ;    H72 - H82   \r\n",
      "    26     30      1 ;    H72 - C9    \r\n",
      "    27     34      1 ;     C8 - HH10  \r\n",
      "    27     35      1 ;     C8 - H1    \r\n",
      "    27     36      1 ;     C8 - C11   \r\n",
      "    28     31      1 ;    H81 - H91   \r\n",
      "    28     32      1 ;    H81 - H92   \r\n",
      "    28     33      1 ;    H81 - C10   \r\n",
      "    29     31      1 ;    H82 - H91   \r\n",
      "    29     32      1 ;    H82 - H92   \r\n",
      "    29     33      1 ;    H82 - C10   \r\n",
      "    30     37      1 ;     C9 - O12   \r\n",
      "    30     38      1 ;     C9 - O13   \r\n",
      "    31     34      1 ;    H91 - HH10  \r\n",
      "    31     35      1 ;    H91 - H1    \r\n",
      "    31     36      1 ;    H91 - C11   \r\n",
      "    32     34      1 ;    H92 - HH10  \r\n",
      "    32     35      1 ;    H92 - H1    \r\n",
      "    32     36      1 ;    H92 - C11   \r\n",
      "    34     37      1 ;   HH10 - O12   \r\n",
      "    34     38      1 ;   HH10 - O13   \r\n",
      "    35     37      1 ;     H1 - O12   \r\n",
      "    35     38      1 ;     H1 - O13   \r\n",
      "\r\n",
      "[ angles ]\r\n",
      ";   ai     aj     ak    funct   theta         cth\r\n",
      "     1      3      4      1    1.1532e+02    5.3053e+02 ;     CA - CB     - CLB   \r\n",
      "     1      3      5      1    1.2363e+02    5.3639e+02 ;     CA - CB     - CC    \r\n",
      "     1      9      7      1    1.0383e+02    5.0124e+02 ;     CA - SE     - CD    \r\n",
      "     1      9     10      1    1.0861e+02    5.4727e+02 ;     CA - SE     - OE1   \r\n",
      "     1      9     11      1    1.0861e+02    5.4727e+02 ;     CA - SE     - OE2   \r\n",
      "     1     14     12      1    1.1104e+02    5.2969e+02 ;     CA - C2     - C1    \r\n",
      "     1     14     15      1    1.0980e+02    3.8744e+02 ;     CA - C2     - H2    \r\n",
      "     1     14     16      1    1.1151e+02    5.2635e+02 ;     CA - C2     - C3    \r\n",
      "     2      1      3      1    1.1051e+02    4.8283e+02 ;    CLA - CA     - CB    \r\n",
      "     2      1      9      1    1.1199e+02    4.8032e+02 ;    CLA - CA     - SE    \r\n",
      "     2      1     14      1    1.1041e+02    4.8032e+02 ;    CLA - CA     - C2    \r\n",
      "     3      1      9      1    1.0989e+02    5.1798e+02 ;     CB - CA     - SE    \r\n",
      "     3      1     14      1    1.1156e+02    5.3053e+02 ;     CB - CA     - C2    \r\n",
      "     3      5      6      1    1.2311e+02    4.8534e+02 ;     CB - CC     - CLC   \r\n",
      "     3      5      7      1    1.2363e+02    5.3639e+02 ;     CB - CC     - CD    \r\n",
      "     4      3      5      1    1.2311e+02    4.8534e+02 ;    CLB - CB     - CC    \r\n",
      "     5      7      8      1    1.1051e+02    4.8283e+02 ;     CC - CD     - CLD   \r\n",
      "     5      7      9      1    1.0989e+02    5.1798e+02 ;     CC - CD     - SE    \r\n",
      "     5      7     16      1    1.1156e+02    5.3053e+02 ;     CC - CD     - C3    \r\n",
      "     6      5      7      1    1.1532e+02    5.3053e+02 ;    CLC - CC     - CD    \r\n",
      "     7      9     10      1    1.0861e+02    5.4727e+02 ;     CD - SE     - OE1   \r\n",
      "     7      9     11      1    1.0861e+02    5.4727e+02 ;     CD - SE     - OE2   \r\n",
      "     7     16     14      1    1.1151e+02    5.2635e+02 ;     CD - C3     - C2    \r\n",
      "     7     16     17      1    1.0980e+02    3.8744e+02 ;     CD - C3     - H3    \r\n",
      "     7     16     18      1    1.1104e+02    5.2969e+02 ;     CD - C3     - C4    \r\n",
      "     8      7      9      1    1.1199e+02    4.8032e+02 ;    CLD - CD     - SE    \r\n",
      "     8      7     16      1    1.1041e+02    4.8032e+02 ;    CLD - CD     - C3    \r\n",
      "     9      1     14      1    1.1022e+02    5.1965e+02 ;     SE - CA     - C2    \r\n",
      "     9      7     16      1    1.1022e+02    5.1965e+02 ;     SE - CD     - C3    \r\n",
      "    10      9     11      1    1.2005e+02    6.1588e+02 ;    OE1 - SE     - OE2   \r\n",
      "    12     14     15      1    1.0877e+02    3.9246e+02 ;     C1 - C2     - H2    \r\n",
      "    12     14     16      1    1.1104e+02    5.2969e+02 ;     C1 - C2     - C3    \r\n",
      "    12     20     18      1    1.2708e+02    5.3304e+02 ;     C1 - N5     - C4    \r\n",
      "    12     20     21      1    1.2069e+02    5.3053e+02 ;     C1 - N5     - C6    \r\n",
      "    13     12     14      1    1.2320e+02    5.6400e+02 ;     O1 - C1     - C2    \r\n",
      "    13     12     20      1    1.2305e+02    6.2091e+02 ;     O1 - C1     - N5    \r\n",
      "    14     12     20      1    1.1518e+02    5.5898e+02 ;     C2 - C1     - N5    \r\n",
      "    14     16     17      1    1.0980e+02    3.8744e+02 ;     C2 - C3     - H3    \r\n",
      "    14     16     18      1    1.1104e+02    5.2969e+02 ;     C2 - C3     - C4    \r\n",
      "    15     14     16      1    1.0980e+02    3.8744e+02 ;     H2 - C2     - C3    \r\n",
      "    16     18     19      1    1.2320e+02    5.6400e+02 ;     C3 - C4     - O4    \r\n",
      "    16     18     20      1    1.1518e+02    5.5898e+02 ;     C3 - C4     - N5    \r\n",
      "    17     16     18      1    1.0877e+02    3.9246e+02 ;     H3 - C3     - C4    \r\n",
      "    18     20     21      1    1.2069e+02    5.3053e+02 ;     C4 - N5     - C6    \r\n",
      "    19     18     20      1    1.2305e+02    6.2091e+02 ;     O4 - C4     - N5    \r\n",
      "    20     21     22      1    1.0888e+02    4.1673e+02 ;     N5 - C6     - H61   \r\n",
      "    20     21     23      1    1.0888e+02    4.1673e+02 ;     N5 - C6     - H62   \r\n",
      "    20     21     24      1    1.1161e+02    5.5145e+02 ;     N5 - C6     - C7    \r\n",
      "    21     24     25      1    1.0980e+02    3.8744e+02 ;     C6 - C7     - H71   \r\n",
      "    21     24     26      1    1.0980e+02    3.8744e+02 ;     C6 - C7     - H72   \r\n",
      "    21     24     27      1    1.1151e+02    5.2635e+02 ;     C6 - C7     - C8    \r\n",
      "    22     21     23      1    1.0846e+02    3.2803e+02 ;    H61 - C6     - H62   \r\n",
      "    22     21     24      1    1.0956e+02    3.8828e+02 ;    H61 - C6     - C7    \r\n",
      "    23     21     24      1    1.0956e+02    3.8828e+02 ;    H62 - C6     - C7    \r\n",
      "    24     27     28      1    1.0980e+02    3.8744e+02 ;     C7 - C8     - H81   \r\n",
      "    24     27     29      1    1.0980e+02    3.8744e+02 ;     C7 - C8     - H82   \r\n",
      "    24     27     30      1    1.1151e+02    5.2635e+02 ;     C7 - C8     - C9    \r\n",
      "    25     24     26      1    1.0758e+02    3.2970e+02 ;    H71 - C7     - H72   \r\n",
      "    25     24     27      1    1.0980e+02    3.8744e+02 ;    H71 - C7     - C8    \r\n",
      "    26     24     27      1    1.0980e+02    3.8744e+02 ;    H72 - C7     - C8    \r\n",
      "    27     30     31      1    1.0980e+02    3.8744e+02 ;     C8 - C9     - H91   \r\n",
      "    27     30     32      1    1.0980e+02    3.8744e+02 ;     C8 - C9     - H92   \r\n",
      "    27     30     33      1    1.1151e+02    5.2635e+02 ;     C8 - C9     - C10   \r\n",
      "    28     27     29      1    1.0758e+02    3.2970e+02 ;    H81 - C8     - H82   \r\n",
      "    28     27     30      1    1.0980e+02    3.8744e+02 ;    H81 - C8     - C9    \r\n",
      "    29     27     30      1    1.0980e+02    3.8744e+02 ;    H82 - C8     - C9    \r\n",
      "    30     33     34      1    1.0980e+02    3.8744e+02 ;     C9 - C10    - HH10  \r\n",
      "    30     33     35      1    1.0980e+02    3.8744e+02 ;     C9 - C10    - H1    \r\n",
      "    30     33     36      1    1.1104e+02    5.2969e+02 ;     C9 - C10    - C11   \r\n",
      "    31     30     32      1    1.0758e+02    3.2970e+02 ;    H91 - C9     - H92   \r\n",
      "    31     30     33      1    1.0980e+02    3.8744e+02 ;    H91 - C9     - C10   \r\n",
      "    32     30     33      1    1.0980e+02    3.8744e+02 ;    H92 - C9     - C10   \r\n",
      "    33     36     37      1    1.2320e+02    5.6400e+02 ;    C10 - C11    - O12   \r\n",
      "    33     36     38      1    1.2320e+02    5.6400e+02 ;    C10 - C11    - O13   \r\n",
      "    34     33     35      1    1.0758e+02    3.2970e+02 ;   HH10 - C10    - H1    \r\n",
      "    34     33     36      1    1.0877e+02    3.9246e+02 ;   HH10 - C10    - C11   \r\n",
      "    35     33     36      1    1.0877e+02    3.9246e+02 ;     H1 - C10    - C11   \r\n",
      "    37     36     38      1    1.3025e+02    6.5187e+02 ;    O12 - C11    - O13   \r\n",
      "\r\n",
      "[ dihedrals ] ; propers\r\n",
      "; for gromacs 4.5 or higher, using funct 9\r\n",
      ";    i      j      k      l   func   phase     kd      pn\r\n",
      "     1      3      5      6      9   180.00  27.82360   2 ;     CA-    CB-    CC-   CLC\r\n",
      "     1      3      5      7      9   180.00   7.94960   1 ;     CA-    CB-    CC-    CD\r\n",
      "     1      3      5      7      9   180.00  27.82360   2 ;     CA-    CB-    CC-    CD\r\n",
      "     1      9      7      5      9     0.00   0.60436   3 ;     CA-    SE-    CD-    CC\r\n",
      "     1      9      7      8      9     0.00   0.60436   3 ;     CA-    SE-    CD-   CLD\r\n",
      "     1      9      7     16      9     0.00   0.60436   3 ;     CA-    SE-    CD-    C3\r\n",
      "     1     14     12     13      9   180.00   0.00000   2 ;     CA-    C2-    C1-    O1\r\n",
      "     1     14     12     20      9     0.00   0.29288   2 ;     CA-    C2-    C1-    N5\r\n",
      "     1     14     12     20      9     0.00   0.41840   4 ;     CA-    C2-    C1-    N5\r\n",
      "     1     14     16      7      9     0.00   0.75312   3 ;     CA-    C2-    C3-    CD\r\n",
      "     1     14     16      7      9   180.00   0.83680   1 ;     CA-    C2-    C3-    CD\r\n",
      "     1     14     16      7      9   180.00   1.04600   2 ;     CA-    C2-    C3-    CD\r\n",
      "     1     14     16     17      9     0.00   0.66944   3 ;     CA-    C2-    C3-    H3\r\n",
      "     1     14     16     18      9     0.00   0.65084   3 ;     CA-    C2-    C3-    C4\r\n",
      "     2      1      3      4      9     0.00   0.00000   0 ;    CLA-    CA-    CB-   CLB\r\n",
      "     2      1      3      5      9     0.00   0.00000   0 ;    CLA-    CA-    CB-    CC\r\n",
      "     2      1      9      7      9     0.00   0.60436   3 ;    CLA-    CA-    SE-    CD\r\n",
      "     2      1      9     10      9     0.00   0.60436   3 ;    CLA-    CA-    SE-   OE1\r\n",
      "     2      1      9     11      9     0.00   0.60436   3 ;    CLA-    CA-    SE-   OE2\r\n",
      "     2      1     14     12      9     0.00   0.65084   3 ;    CLA-    CA-    C2-    C1\r\n",
      "     2      1     14     15      9     0.00   0.00000   0 ;    CLA-    CA-    C2-    H2\r\n",
      "     2      1     14     15      9     0.00   1.04600   1 ;    CLA-    CA-    C2-    H2\r\n",
      "     2      1     14     16      9     0.00   0.65084   3 ;    CLA-    CA-    C2-    C3\r\n",
      "     3      1      9      7      9     0.00   0.60436   3 ;     CB-    CA-    SE-    CD\r\n",
      "     3      1      9     10      9     0.00   0.60436   3 ;     CB-    CA-    SE-   OE1\r\n",
      "     3      1      9     11      9     0.00   0.60436   3 ;     CB-    CA-    SE-   OE2\r\n",
      "     3      1     14     12      9     0.00   0.65084   3 ;     CB-    CA-    C2-    C1\r\n",
      "     3      1     14     15      9     0.00   0.65084   3 ;     CB-    CA-    C2-    H2\r\n",
      "     3      1     14     16      9     0.00   0.65084   3 ;     CB-    CA-    C2-    C3\r\n",
      "     3      5      7      8      9     0.00   0.00000   0 ;     CB-    CC-    CD-   CLD\r\n",
      "     3      5      7      9      9     0.00   0.00000   0 ;     CB-    CC-    CD-    SE\r\n",
      "     3      5      7     16      9     0.00   0.00000   0 ;     CB-    CC-    CD-    C3\r\n",
      "     4      3      5      6      9   180.00  27.82360   2 ;    CLB-    CB-    CC-   CLC\r\n",
      "     4      3      5      7      9   180.00  27.82360   2 ;    CLB-    CB-    CC-    CD\r\n",
      "     5      7      9     10      9     0.00   0.60436   3 ;     CC-    CD-    SE-   OE1\r\n",
      "     5      7      9     11      9     0.00   0.60436   3 ;     CC-    CD-    SE-   OE2\r\n",
      "     5      7     16     14      9     0.00   0.65084   3 ;     CC-    CD-    C3-    C2\r\n",
      "     5      7     16     17      9     0.00   0.65084   3 ;     CC-    CD-    C3-    H3\r\n",
      "     5      7     16     18      9     0.00   0.65084   3 ;     CC-    CD-    C3-    C4\r\n",
      "     6      5      7      8      9     0.00   0.00000   0 ;    CLC-    CC-    CD-   CLD\r\n",
      "     6      5      7      9      9     0.00   0.00000   0 ;    CLC-    CC-    CD-    SE\r\n",
      "     6      5      7     16      9     0.00   0.00000   0 ;    CLC-    CC-    CD-    C3\r\n",
      "     7     16     14     12      9     0.00   0.65084   3 ;     CD-    C3-    C2-    C1\r\n",
      "     7     16     14     15      9     0.00   0.66944   3 ;     CD-    C3-    C2-    H2\r\n",
      "     7     16     18     19      9   180.00   0.00000   2 ;     CD-    C3-    C4-    O4\r\n",
      "     7     16     18     20      9     0.00   0.29288   2 ;     CD-    C3-    C4-    N5\r\n",
      "     7     16     18     20      9     0.00   0.41840   4 ;     CD-    C3-    C4-    N5\r\n",
      "     8      7      9     10      9     0.00   0.60436   3 ;    CLD-    CD-    SE-   OE1\r\n",
      "     8      7      9     11      9     0.00   0.60436   3 ;    CLD-    CD-    SE-   OE2\r\n",
      "     8      7     16     14      9     0.00   0.65084   3 ;    CLD-    CD-    C3-    C2\r\n",
      "     8      7     16     17      9     0.00   0.00000   0 ;    CLD-    CD-    C3-    H3\r\n",
      "     8      7     16     17      9     0.00   1.04600   1 ;    CLD-    CD-    C3-    H3\r\n",
      "     8      7     16     18      9     0.00   0.65084   3 ;    CLD-    CD-    C3-    C4\r\n",
      "     9      1      3      4      9     0.00   0.00000   0 ;     SE-    CA-    CB-   CLB\r\n",
      "     9      1      3      5      9     0.00   0.00000   0 ;     SE-    CA-    CB-    CC\r\n",
      "     9      1     14     12      9     0.00   0.65084   3 ;     SE-    CA-    C2-    C1\r\n",
      "     9      1     14     15      9     0.00   0.65084   3 ;     SE-    CA-    C2-    H2\r\n",
      "     9      1     14     16      9     0.00   0.65084   3 ;     SE-    CA-    C2-    C3\r\n",
      "     9      7     16     14      9     0.00   0.65084   3 ;     SE-    CD-    C3-    C2\r\n",
      "     9      7     16     17      9     0.00   0.65084   3 ;     SE-    CD-    C3-    H3\r\n",
      "     9      7     16     18      9     0.00   0.65084   3 ;     SE-    CD-    C3-    C4\r\n",
      "    10      9      7     16      9     0.00   0.60436   3 ;    OE1-    SE-    CD-    C3\r\n",
      "    11      9      7     16      9     0.00   0.60436   3 ;    OE2-    SE-    CD-    C3\r\n",
      "    12     14     16     17      9     0.00   0.65084   3 ;     C1-    C2-    C3-    H3\r\n",
      "    12     14     16     18      9     0.00   0.65084   3 ;     C1-    C2-    C3-    C4\r\n",
      "    12     20     18     16      9   180.00  10.46000   2 ;     C1-    N5-    C4-    C3\r\n",
      "    12     20     18     19      9   180.00  10.46000   2 ;     C1-    N5-    C4-    O4\r\n",
      "    12     20     21     22      9     0.00   0.00000   0 ;     C1-    N5-    C6-   H61\r\n",
      "    12     20     21     23      9     0.00   0.00000   0 ;     C1-    N5-    C6-   H62\r\n",
      "    12     20     21     24      9     0.00   0.00000   0 ;     C1-    N5-    C6-    C7\r\n",
      "    12     20     21     24      9     0.00   2.21752   1 ;     C1-    N5-    C6-    C7\r\n",
      "    12     20     21     24      9   180.00   0.62760   3 ;     C1-    N5-    C6-    C7\r\n",
      "    12     20     21     24      9   180.00   2.09200   4 ;     C1-    N5-    C6-    C7\r\n",
      "    13     12     14     15      9     0.00   0.00000   0 ;     O1-    C1-    C2-    H2\r\n",
      "    13     12     14     15      9     0.00   3.34720   1 ;     O1-    C1-    C2-    H2\r\n",
      "    13     12     14     15      9   180.00   0.33472   3 ;     O1-    C1-    C2-    H2\r\n",
      "    13     12     14     16      9   180.00   0.00000   2 ;     O1-    C1-    C2-    C3\r\n",
      "    13     12     20     18      9   180.00  10.46000   2 ;     O1-    C1-    N5-    C4\r\n",
      "    13     12     20     21      9   180.00  10.46000   2 ;     O1-    C1-    N5-    C6\r\n",
      "    14      1      3      4      9     0.00   0.00000   0 ;     C2-    CA-    CB-   CLB\r\n",
      "    14      1      3      5      9     0.00   0.00000   0 ;     C2-    CA-    CB-    CC\r\n",
      "    14      1      9      7      9     0.00   0.60436   3 ;     C2-    CA-    SE-    CD\r\n",
      "    14      1      9     10      9     0.00   0.60436   3 ;     C2-    CA-    SE-   OE1\r\n",
      "    14      1      9     11      9     0.00   0.60436   3 ;     C2-    CA-    SE-   OE2\r\n",
      "    14     12     20     18      9   180.00  10.46000   2 ;     C2-    C1-    N5-    C4\r\n",
      "    14     12     20     21      9     0.00   0.00000   0 ;     C2-    C1-    N5-    C6\r\n",
      "    14     12     20     21      9   180.00   6.27600   1 ;     C2-    C1-    N5-    C6\r\n",
      "    14     16     18     19      9   180.00   0.00000   2 ;     C2-    C3-    C4-    O4\r\n",
      "    14     16     18     20      9     0.00   0.29288   2 ;     C2-    C3-    C4-    N5\r\n",
      "    14     16     18     20      9     0.00   0.41840   4 ;     C2-    C3-    C4-    N5\r\n",
      "    15     14     12     20      9   180.00   0.00000   2 ;     H2-    C2-    C1-    N5\r\n",
      "    15     14     16     17      9     0.00   0.62760   3 ;     H2-    C2-    C3-    H3\r\n",
      "    15     14     16     18      9     0.00   0.65084   3 ;     H2-    C2-    C3-    C4\r\n",
      "    16     14     12     20      9     0.00   0.29288   2 ;     C3-    C2-    C1-    N5\r\n",
      "    16     14     12     20      9     0.00   0.41840   4 ;     C3-    C2-    C1-    N5\r\n",
      "    16     18     20     21      9     0.00   0.00000   0 ;     C3-    C4-    N5-    C6\r\n",
      "    16     18     20     21      9   180.00   6.27600   1 ;     C3-    C4-    N5-    C6\r\n",
      "    17     16     18     19      9     0.00   0.00000   0 ;     H3-    C3-    C4-    O4\r\n",
      "    17     16     18     19      9     0.00   3.34720   1 ;     H3-    C3-    C4-    O4\r\n",
      "    17     16     18     19      9   180.00   0.33472   3 ;     H3-    C3-    C4-    O4\r\n",
      "    17     16     18     20      9   180.00   0.00000   2 ;     H3-    C3-    C4-    N5\r\n",
      "    18     20     21     22      9     0.00   0.00000   0 ;     C4-    N5-    C6-   H61\r\n",
      "    18     20     21     23      9     0.00   0.00000   0 ;     C4-    N5-    C6-   H62\r\n",
      "    18     20     21     24      9     0.00   0.00000   0 ;     C4-    N5-    C6-    C7\r\n",
      "    18     20     21     24      9     0.00   2.21752   1 ;     C4-    N5-    C6-    C7\r\n",
      "    18     20     21     24      9   180.00   0.62760   3 ;     C4-    N5-    C6-    C7\r\n",
      "    18     20     21     24      9   180.00   2.09200   4 ;     C4-    N5-    C6-    C7\r\n",
      "    19     18     20     21      9   180.00  10.46000   2 ;     O4-    C4-    N5-    C6\r\n",
      "    20     21     24     25      9     0.00   0.65084   3 ;     N5-    C6-    C7-   H71\r\n",
      "    20     21     24     26      9     0.00   0.65084   3 ;     N5-    C6-    C7-   H72\r\n",
      "    20     21     24     27      9     0.00   0.65084   3 ;     N5-    C6-    C7-    C8\r\n",
      "    21     24     27     28      9     0.00   0.66944   3 ;     C6-    C7-    C8-   H81\r\n",
      "    21     24     27     29      9     0.00   0.66944   3 ;     C6-    C7-    C8-   H82\r\n",
      "    21     24     27     30      9     0.00   0.75312   3 ;     C6-    C7-    C8-    C9\r\n",
      "    21     24     27     30      9   180.00   0.83680   1 ;     C6-    C7-    C8-    C9\r\n",
      "    21     24     27     30      9   180.00   1.04600   2 ;     C6-    C7-    C8-    C9\r\n",
      "    22     21     24     25      9     0.00   0.65084   3 ;    H61-    C6-    C7-   H71\r\n",
      "    22     21     24     26      9     0.00   0.65084   3 ;    H61-    C6-    C7-   H72\r\n",
      "    22     21     24     27      9     0.00   0.65084   3 ;    H61-    C6-    C7-    C8\r\n",
      "    23     21     24     25      9     0.00   0.65084   3 ;    H62-    C6-    C7-   H71\r\n",
      "    23     21     24     26      9     0.00   0.65084   3 ;    H62-    C6-    C7-   H72\r\n",
      "    23     21     24     27      9     0.00   0.65084   3 ;    H62-    C6-    C7-    C8\r\n",
      "    24     27     30     31      9     0.00   0.66944   3 ;     C7-    C8-    C9-   H91\r\n",
      "    24     27     30     32      9     0.00   0.66944   3 ;     C7-    C8-    C9-   H92\r\n",
      "    24     27     30     33      9     0.00   0.75312   3 ;     C7-    C8-    C9-   C10\r\n",
      "    24     27     30     33      9   180.00   0.83680   1 ;     C7-    C8-    C9-   C10\r\n",
      "    24     27     30     33      9   180.00   1.04600   2 ;     C7-    C8-    C9-   C10\r\n",
      "    25     24     27     28      9     0.00   0.62760   3 ;    H71-    C7-    C8-   H81\r\n",
      "    25     24     27     29      9     0.00   0.62760   3 ;    H71-    C7-    C8-   H82\r\n",
      "    25     24     27     30      9     0.00   0.66944   3 ;    H71-    C7-    C8-    C9\r\n",
      "    26     24     27     28      9     0.00   0.62760   3 ;    H72-    C7-    C8-   H81\r\n",
      "    26     24     27     29      9     0.00   0.62760   3 ;    H72-    C7-    C8-   H82\r\n",
      "    26     24     27     30      9     0.00   0.66944   3 ;    H72-    C7-    C8-    C9\r\n",
      "    27     30     33     34      9     0.00   0.66944   3 ;     C8-    C9-   C10-  HH10\r\n",
      "    27     30     33     35      9     0.00   0.66944   3 ;     C8-    C9-   C10-    H1\r\n",
      "    27     30     33     36      9     0.00   0.65084   3 ;     C8-    C9-   C10-   C11\r\n",
      "    28     27     30     31      9     0.00   0.62760   3 ;    H81-    C8-    C9-   H91\r\n",
      "    28     27     30     32      9     0.00   0.62760   3 ;    H81-    C8-    C9-   H92\r\n",
      "    28     27     30     33      9     0.00   0.66944   3 ;    H81-    C8-    C9-   C10\r\n",
      "    29     27     30     31      9     0.00   0.62760   3 ;    H82-    C8-    C9-   H91\r\n",
      "    29     27     30     32      9     0.00   0.62760   3 ;    H82-    C8-    C9-   H92\r\n",
      "    29     27     30     33      9     0.00   0.66944   3 ;    H82-    C8-    C9-   C10\r\n",
      "    30     33     36     37      9   180.00   0.00000   2 ;     C9-   C10-   C11-   O12\r\n",
      "    30     33     36     38      9   180.00   0.00000   2 ;     C9-   C10-   C11-   O13\r\n",
      "    31     30     33     34      9     0.00   0.62760   3 ;    H91-    C9-   C10-  HH10\r\n",
      "    31     30     33     35      9     0.00   0.62760   3 ;    H91-    C9-   C10-    H1\r\n",
      "    31     30     33     36      9     0.00   0.65084   3 ;    H91-    C9-   C10-   C11\r\n",
      "    32     30     33     34      9     0.00   0.62760   3 ;    H92-    C9-   C10-  HH10\r\n",
      "    32     30     33     35      9     0.00   0.62760   3 ;    H92-    C9-   C10-    H1\r\n",
      "    32     30     33     36      9     0.00   0.65084   3 ;    H92-    C9-   C10-   C11\r\n",
      "    34     33     36     37      9     0.00   0.00000   0 ;   HH10-   C10-   C11-   O12\r\n",
      "    34     33     36     37      9     0.00   3.34720   1 ;   HH10-   C10-   C11-   O12\r\n",
      "    34     33     36     37      9   180.00   0.33472   3 ;   HH10-   C10-   C11-   O12\r\n",
      "    34     33     36     38      9     0.00   0.00000   0 ;   HH10-   C10-   C11-   O13\r\n",
      "    34     33     36     38      9     0.00   3.34720   1 ;   HH10-   C10-   C11-   O13\r\n",
      "    34     33     36     38      9   180.00   0.33472   3 ;   HH10-   C10-   C11-   O13\r\n",
      "    35     33     36     37      9     0.00   0.00000   0 ;     H1-   C10-   C11-   O12\r\n",
      "    35     33     36     37      9     0.00   3.34720   1 ;     H1-   C10-   C11-   O12\r\n",
      "    35     33     36     37      9   180.00   0.33472   3 ;     H1-   C10-   C11-   O12\r\n",
      "    35     33     36     38      9     0.00   0.00000   0 ;     H1-   C10-   C11-   O13\r\n",
      "    35     33     36     38      9     0.00   3.34720   1 ;     H1-   C10-   C11-   O13\r\n",
      "    35     33     36     38      9   180.00   0.33472   3 ;     H1-   C10-   C11-   O13\r\n",
      "\r\n",
      "[ dihedrals ] ; impropers\r\n",
      "; treated as propers in GROMACS to use correct AMBER analytical function\r\n",
      ";    i      j      k      l   func   phase     kd      pn\r\n",
      "     3      7      5      6      4   180.00   4.60240   2 ;     CB-    CD-    CC-   CLC\r\n",
      "     5      1      3      4      4   180.00   4.60240   2 ;     CC-    CA-    CB-   CLB\r\n",
      "    12     18     20     21      4   180.00   4.60240   2 ;     C1-    C4-    N5-    C6\r\n",
      "    14     20     12     13      4   180.00  43.93200   2 ;     C2-    N5-    C1-    O1\r\n",
      "    16     20     18     19      4   180.00  43.93200   2 ;     C3-    N5-    C4-    O4\r\n",
      "    33     37     36     38      4   180.00   4.60240   2 ;    C10-   O12-   C11-   O13\r\n",
      "\r\n",
      "[ constraints ]\r\n",
      "     1     14      1  @LEN@  \r\n",
      "     7     16      1  @LEN@  \r\n"
     ]
    }
   ],
   "source": [
    "!cat dat.itp"
   ]
  },
  {
   "cell_type": "markdown",
   "metadata": {},
   "source": [
    "At the end of file two constraint have been specified like that:\n",
    "```\n",
    "[ constraints ]\n",
    "     1     14      1  @LEN@  \n",
    "     7     16      1  @LEN@  \n",
    "```\n",
    "They will represent our reaction coordinate and `@LEN@` will be replaced with the specific number at each individual minimization run during the simulation."
   ]
  },
  {
   "cell_type": "markdown",
   "metadata": {},
   "source": [
    "### Running PES scan simulation"
   ]
  },
  {
   "cell_type": "markdown",
   "metadata": {},
   "source": [
    "Lets also look into the simulation batch script, that will be submited for computation:"
   ]
  },
  {
   "cell_type": "code",
   "execution_count": 16,
   "metadata": {
    "scrolled": true
   },
   "outputs": [
    {
     "name": "stdout",
     "output_type": "stream",
     "text": [
      "#!/bin/bash\r",
      "\r\n",
      "\r",
      "\r\n",
      "export OMP_NUM_THREADS=$SLURM_CPUS_PER_TASK\r",
      "\r\n",
      "export OMP_PLACES=cores\r",
      "\r\n",
      "export GMX_MAXBACKUP=-1\r",
      "\r\n",
      "export GMX_PULL_PARTICIPATE_ALL=1\r",
      "\r\n",
      "\r",
      "\r\n",
      "# prepare directory for GROMACS run\r",
      "\r\n",
      "mkdir opt\r",
      "\r\n",
      "cd opt\r",
      "\r\n",
      "rm rsurf.xvg\r",
      "\r\n",
      "\r",
      "\r\n",
      "# copy conf.gro\r",
      "\r\n",
      "cp ../topol.top topol.top\r",
      "\r\n",
      "cp ../conf.gro confout.gro\r",
      "\r\n",
      "\r",
      "\r\n",
      "# loop over distances from  0.12 nm to 0.45 nm\r",
      "\r\n",
      "for d in $(seq 0.12 0.005 0.45)\r",
      "\r\n",
      "do\r",
      "\r\n",
      "\r",
      "\r\n",
      "   # replace constraint length with the actual number\r",
      "\r\n",
      "   sed \"s/@LEN@/${d}/g\" ../dat.itp > dat.itp\r",
      "\r\n",
      "\r",
      "\r\n",
      "   mkdir opt${d}\r",
      "\r\n",
      "\r",
      "\r\n",
      "   # generate tpr using previous step coordinates\r",
      "\r\n",
      "   gmx_mpi_d grompp -f ../LT.mdp -p topol.top -c confout.gro -n ../index.ndx -o opt${d}/dat-opt${d}.tpr -maxwarn 10\r",
      "\r\n",
      "\r",
      "\r\n",
      "   cd opt${d}\r",
      "\r\n",
      "\r",
      "\r\n",
      "   # run GROMACS\r",
      "\r\n",
      "   srun gmx_mpi_d mdrun -s dat-opt${d}.tpr -v\r",
      "\r\n",
      "\r",
      "\r\n",
      "   gmx_mpi_d distance -s *.tpr -f traj.trr -n ../../index.ndx -select \"com of group 4 plus com of group 5\" -oav -oall\r",
      "\r\n",
      "\r",
      "\r\n",
      "   # extract data to xvg file\r",
      "\r\n",
      "   echo -e \"`tail -n1 dist.xvg | grep '.' | awk '{printf(\"%f\\n\",$2)}'`\\t`grep 'Potential Energy  =' md.log | awk '{printf(\"%f\\n\",$4)}'`\" >> ../rsurf.xvg\r",
      "\r\n",
      "\r",
      "\r\n",
      "   cp -f confout.gro ../\r",
      "\r\n",
      "   \r",
      "\r\n",
      "   cd ..\r",
      "\r\n",
      "\r",
      "\r\n",
      "done\r",
      "\r\n"
     ]
    }
   ],
   "source": [
    "!cat run-surface.sh"
   ]
  },
  {
   "cell_type": "markdown",
   "metadata": {},
   "source": [
    "It will loop over the reaction coordiante distance replacing `@LEN` using `sed` in the topology and performing simulation with `srun` command in separate directory. After the simulation it gathers data about final energy and reaction coordinate value into the *rsurf.xvg* file. Now lets submit our jobs to the cluster:"
   ]
  },
  {
   "cell_type": "code",
   "execution_count": 17,
   "metadata": {
    "scrolled": true
   },
   "outputs": [
    {
     "name": "stdout",
     "output_type": "stream",
     "text": [
      "/bin/bash: sbatch: command not found\r\n"
     ]
    }
   ],
   "source": [
    "! sbatch run-surface.sh"
   ]
  },
  {
   "cell_type": "markdown",
   "metadata": {},
   "source": [
    "You can always check status of your job with `squeue` command:"
   ]
  },
  {
   "cell_type": "code",
   "execution_count": 18,
   "metadata": {
    "scrolled": true
   },
   "outputs": [
    {
     "name": "stdout",
     "output_type": "stream",
     "text": [
      "/bin/bash: squeue: command not found\r\n"
     ]
    }
   ],
   "source": [
    "!squeue --user=`whoami`"
   ]
  },
  {
   "cell_type": "markdown",
   "metadata": {},
   "source": [
    "Wait until that job finish before going to the next part of the tutorial."
   ]
  },
  {
   "cell_type": "markdown",
   "metadata": {},
   "source": [
    "As the job takes more time than 10 minutes specified in the batch script we have prepared sample *rsurf.xvg* file with profile. We could plot data from that using Python:"
   ]
  },
  {
   "cell_type": "code",
   "execution_count": 72,
   "metadata": {
    "scrolled": true
   },
   "outputs": [
    {
     "data": {
      "text/plain": [
       "<matplotlib.lines.Line2D at 0x7f65bc713a00>"
      ]
     },
     "execution_count": 72,
     "metadata": {},
     "output_type": "execute_result"
    },
    {
     "data": {
      "image/png": "[encoded data removed]",
      "text/plain": [
       "<Figure size 432x288 with 1 Axes>"
      ]
     },
     "metadata": {
      "needs_background": "light"
     },
     "output_type": "display_data"
    }
   ],
   "source": [
    "import pandas as pd\n",
    "df = pd.read_csv(rdir + \"/reference-data/DA-opt/rsurf.xvg\", sep='\\s+', header=None, names=['distance','energy'])\n",
    "mine = min(df[['energy']].to_numpy()[20:])\n",
    "df['energy'] -= mine\n",
    "ax = df.plot('distance',xlabel='distance, nm', ylabel='energy, kJ/mol', legend=False)\n",
    "ax.grid(True, which='both', linestyle='--')\n",
    "ax.axhline(y=0, color='k', linewidth=0.5)"
   ]
  },
  {
   "cell_type": "markdown",
   "metadata": {},
   "source": [
    "And also calculate TS and Products energy with respect to reagents:"
   ]
  },
  {
   "cell_type": "code",
   "execution_count": 45,
   "metadata": {},
   "outputs": [
    {
     "name": "stdout",
     "output_type": "stream",
     "text": [
      "TS Energy = 59.613 kJ/mol at distance 0.228 nm\n",
      "Products energy = -136.492 kJ/mol at distance 0.148 nm\n"
     ]
    }
   ],
   "source": [
    "print(f\"TS Energy = {df['energy'].loc[10:].max():.3f} kJ/mol at distance {df['distance'][df['energy'].loc[10:].idxmax()]:.3f} nm\")\n",
    "print(f\"Products energy = {df['energy'].min():.3f} kJ/mol at distance {df['distance'][df['energy'].idxmin()]:.3f} nm\")"
   ]
  },
  {
   "cell_type": "markdown",
   "metadata": {},
   "source": [
    "There is also an animation of the optimized reaction pathway:"
   ]
  },
  {
   "cell_type": "code",
   "execution_count": 68,
   "metadata": {
    "scrolled": true
   },
   "outputs": [
    {
     "data": {
      "application/vnd.jupyter.widget-view+json": {
       "model_id": "dcc18840f2df4a379c94123b68ccde91",
       "version_major": 2,
       "version_minor": 0
      },
      "text/plain": [
       "NGLWidget(max_frame=66)"
      ]
     },
     "metadata": {},
     "output_type": "display_data"
    }
   ],
   "source": [
    "import nglview as ng \n",
    "import mdtraj as md\n",
    "traj = md.load(rdir + \"/reference-data/DA-opt/traj_opt.pdb\", top=rdir + \"/reference-data/dat.pdb\")\n",
    "view = ng.show_mdtraj(traj)\n",
    "pair = [ [ 1, 7 ] ]\n",
    "view.add_distance(atom_pair=[[\"@13\",\"@0\"]], label_visible=True, label_color=0x0)\n",
    "view.add_distance(atom_pair=[[\"@15\",\"@6\"]], label_visible=True, label_color=0x0)\n",
    "view"
   ]
  },
  {
   "cell_type": "markdown",
   "metadata": {},
   "source": [
    "# Free-energy profile simulation: umbrella sampling "
   ]
  },
  {
   "cell_type": "markdown",
   "metadata": {},
   "source": [
    "To account for the entropy effect on the reaction profile one typically would like to perform free-energy profile simulation instead of a normal. One of the most wide-spread methods nowadays is called Umbrella Sampling simulations:\n",
    "![img](files/images/umbrella-sampling.png)\n",
    "\n",
    "It requires to perform a set of biased simulations of your system in a presence of external potential (usually harmonic) that will drive sampling of the whole reaction coordinate space by pulling system towards particular point for each individual simulation. It is important that:\n",
    "1. There is sufficient overlap between coordinate distributions of individual windows (like show on the figure above)\n",
    "2. Distributions in each window should be as close to gaussian as possible\n",
    "\n",
    "GROMACS has capabilities to perform such simulations using pulling module in combination with **`gmx wham`** command-line utility. Lets perform that kind of free-energy simulation for the same Diels-Alder reaction as studied above.\n"
   ]
  },
  {
   "cell_type": "code",
   "execution_count": 8,
   "metadata": {
    "scrolled": true
   },
   "outputs": [
    {
     "name": "stdout",
     "output_type": "stream",
     "text": [
      "/mnt/i/Presentations/CSC-AWH-tutorial-2022/tutorial/data/DA-us\n"
     ]
    }
   ],
   "source": [
    "#Go to DA-us directory\n",
    "%cd ../DA-us"
   ]
  },
  {
   "cell_type": "markdown",
   "metadata": {},
   "source": [
    "Here is the same index file as used in previous exercise:"
   ]
  },
  {
   "cell_type": "code",
   "execution_count": 10,
   "metadata": {
    "nbpresent": {
     "id": "345d6e37-b392-4f54-b2ed-4d19f5c13b3d"
    }
   },
   "outputs": [
    {
     "name": "stdout",
     "output_type": "stream",
     "text": [
      "[ System ]\r\n",
      "   1    2    3    4    5    6    7    8    9   10   11   12   13   14   15\r\n",
      "  16   17   18   19   20   21   22   23   24   25   26   27   28   29   30\r\n",
      "  31   32   33   34   35   36   37   38\r\n",
      "[ Other ]\r\n",
      "   1    2    3    4    5    6    7    8    9   10   11   12   13   14   15\r\n",
      "  16   17   18   19   20   21   22   23   24   25   26   27   28   29   30\r\n",
      "  31   32   33   34   35   36   37   38\r\n",
      "[ DAT ]\r\n",
      "   1    2    3    4    5    6    7    8    9   10   11   12   13   14   15\r\n",
      "  16   17   18   19   20   21   22   23   24   25   26   27   28   29   30\r\n",
      "  31   32   33   34   35   36   37   38\r\n",
      "[ QMatoms ]\r\n",
      "   1    2    3    4    5    6    7    8    9   10   11   12   13   14   15\r\n",
      "  16   17   18   19   20   21   22   23\r\n",
      "[ group1 ]\r\n",
      "  14   16\r\n",
      "[ group2 ]\r\n",
      "   1    7\r\n"
     ]
    }
   ],
   "source": [
    "!cat index.ndx"
   ]
  },
  {
   "cell_type": "markdown",
   "metadata": {
    "nbpresent": {
     "id": "345d6e37-b392-4f54-b2ed-4d19f5c13b3d"
    }
   },
   "source": [
    "And topology of the molecule that is the same except of removed `[ constraints ]` section (we will use harmonic potential to bias the system):"
   ]
  },
  {
   "cell_type": "code",
   "execution_count": 11,
   "metadata": {
    "scrolled": true
   },
   "outputs": [
    {
     "name": "stdout",
     "output_type": "stream",
     "text": [
      "; dat_GMX.itp created by acpype (v: 2021-02-05T22:15:50CET) on Wed Jan 19 21:43:58 2022\r\n",
      "\r\n",
      "[ atomtypes ]\r\n",
      ";name   bond_type     mass     charge   ptype   sigma         epsilon       Amb\r\n",
      " c3       6           0.00000  0.00000   A     3.39967e-01   4.57730e-01 ; 1.91  0.1094\r\n",
      " cl       17          0.00000  0.00000   A     3.47094e-01   1.10876e+00 ; 1.95  0.2650\r\n",
      " c2       6           0.00000  0.00000   A     3.39967e-01   3.59824e-01 ; 1.91  0.0860\r\n",
      " s6       16          0.00000  0.00000   A     3.56359e-01   1.04600e+00 ; 2.00  0.2500\r\n",
      " o        8           0.00000  0.00000   A     2.95992e-01   8.78640e-01 ; 1.66  0.2100\r\n",
      " c        6           0.00000  0.00000   A     3.39967e-01   3.59824e-01 ; 1.91  0.0860\r\n",
      " hc       1           0.00000  0.00000   A     2.64953e-01   6.56888e-02 ; 1.49  0.0157\r\n",
      " n        7           0.00000  0.00000   A     3.25000e-01   7.11280e-01 ; 1.82  0.1700\r\n",
      " h1       1           0.00000  0.00000   A     2.47135e-01   6.56888e-02 ; 1.39  0.0157\r\n",
      " \r\n",
      "[ moleculetype ]\r\n",
      ";name            nrexcl\r\n",
      " dat              3\r\n",
      "\r\n",
      "[ atoms ]\r\n",
      ";   nr  type  resi  res  atom  cgnr     charge      mass       ; qtot   bond_type\r\n",
      "     1   c3     1   DAT    CA    1    -0.001100     12.01000 ; qtot -0.001\r\n",
      "     2   cl     1   DAT   CLA    2    -0.036900     35.45000 ; qtot -0.038\r\n",
      "     3   c2     1   DAT    CB    3    -0.032300     12.01000 ; qtot -0.070\r\n",
      "     4   cl     1   DAT   CLB    4     0.022100     35.45000 ; qtot -0.048\r\n",
      "     5   c2     1   DAT    CC    5    -0.032300     12.01000 ; qtot -0.081\r\n",
      "     6   cl     1   DAT   CLC    6     0.022100     35.45000 ; qtot -0.058\r\n",
      "     7   c3     1   DAT    CD    7    -0.001100     12.01000 ; qtot -0.059\r\n",
      "     8   cl     1   DAT   CLD    8    -0.036900     35.45000 ; qtot -0.096\r\n",
      "     9   s6     1   DAT    SE    9     1.179000     32.06000 ; qtot 1.083\r\n",
      "    10    o     1   DAT   OE1   10    -0.587300     16.00000 ; qtot 0.495\r\n",
      "    11    o     1   DAT   OE2   11    -0.587300     16.00000 ; qtot -0.092\r\n",
      "    12    c     1   DAT    C1   12     0.715500     12.01000 ; qtot 0.623\r\n",
      "    13    o     1   DAT    O1   13    -0.549000     16.00000 ; qtot 0.074\r\n",
      "    14   c3     1   DAT    C2   14    -0.158200     12.01000 ; qtot -0.084\r\n",
      "    15   hc     1   DAT    H2   15     0.129700      1.00800 ; qtot 0.046\r\n",
      "    16   c3     1   DAT    C3   16    -0.158200     12.01000 ; qtot -0.112\r\n",
      "    17   hc     1   DAT    H3   17     0.129700      1.00800 ; qtot 0.017\r\n",
      "    18    c     1   DAT    C4   18     0.715500     12.01000 ; qtot 0.733\r\n",
      "    19    o     1   DAT    O4   19    -0.549000     16.00000 ; qtot 0.184\r\n",
      "    20    n     1   DAT    N5   20    -0.490400     14.01000 ; qtot -0.306\r\n",
      "    21   c3     1   DAT    C6   21     0.091000     12.01000 ; qtot -0.215\r\n",
      "    22   h1     1   DAT   H61   22     0.086200      1.00800 ; qtot -0.129\r\n",
      "    23   h1     1   DAT   H62   23     0.086200      1.00800 ; qtot -0.043\r\n",
      "    24   c3     1   DAT    C7   24    -0.093400     12.01000 ; qtot -0.136\r\n",
      "    25   hc     1   DAT   H71   25     0.038200      1.00800 ; qtot -0.098\r\n",
      "    26   hc     1   DAT   H72   26     0.038200      1.00800 ; qtot -0.060\r\n",
      "    27   c3     1   DAT    C8   27    -0.078400     12.01000 ; qtot -0.138\r\n",
      "    28   hc     1   DAT   H81   28     0.033700      1.00800 ; qtot -0.105\r\n",
      "    29   hc     1   DAT   H82   29     0.033700      1.00800 ; qtot -0.071\r\n",
      "    30   c3     1   DAT    C9   30    -0.072400     12.01000 ; qtot -0.143\r\n",
      "    31   hc     1   DAT   H91   31     0.046700      1.00800 ; qtot -0.097\r\n",
      "    32   hc     1   DAT   H92   32     0.046700      1.00800 ; qtot -0.050\r\n",
      "    33   c3     1   DAT   C10   33    -0.196400     12.01000 ; qtot -0.246\r\n",
      "    34   hc     1   DAT  HH10   34     0.020200      1.00800 ; qtot -0.226\r\n",
      "    35   hc     1   DAT    H1   35     0.020200      1.00800 ; qtot -0.206\r\n",
      "    36    c     1   DAT   C11   36     0.908600     12.01000 ; qtot 0.703\r\n",
      "    37    o     1   DAT   O12   37    -0.851300     16.00000 ; qtot -0.149\r\n",
      "    38    o     1   DAT   O13   38    -0.851300     16.00000 ; qtot -1.000\r\n",
      "\r\n",
      "[ bonds ]\r\n",
      ";   ai     aj funct   r             k\r\n",
      "     1      2   1    1.8045e-01    2.2284e+05 ;     CA - CLA   \r\n",
      "     1      3   1    1.5095e-01    2.7347e+05 ;     CA - CB    \r\n",
      "     1      9   1    1.8075e-01    1.9539e+05 ;     CA - SE    \r\n",
      "     1     14   1    1.5375e-01    2.5179e+05 ;     CA - C2    \r\n",
      "     3      4   1    1.7308e-01    2.6886e+05 ;     CB - CLB   \r\n",
      "     3      5   1    1.3343e-01    4.7647e+05 ;     CB - CC    \r\n",
      "     5      6   1    1.7308e-01    2.6886e+05 ;     CC - CLC   \r\n",
      "     5      7   1    1.5095e-01    2.7347e+05 ;     CC - CD    \r\n",
      "     7      8   1    1.8045e-01    2.2284e+05 ;     CD - CLD   \r\n",
      "     7      9   1    1.8075e-01    1.9539e+05 ;     CD - SE    \r\n",
      "     7     16   1    1.5375e-01    2.5179e+05 ;     CD - C3    \r\n",
      "     9     10   1    1.4533e-01    4.2903e+05 ;     SE - OE1   \r\n",
      "     9     11   1    1.4533e-01    4.2903e+05 ;     SE - OE2   \r\n",
      "    12     13   1    1.2183e-01    5.3363e+05 ;     C1 - O1    \r\n",
      "    12     14   1    1.5241e-01    2.6192e+05 ;     C1 - C2    \r\n",
      "    12     20   1    1.3789e-01    3.5782e+05 ;     C1 - N5    \r\n",
      "    14     15   1    1.0969e-01    2.7665e+05 ;     C2 - H2    \r\n",
      "    14     16   1    1.5375e-01    2.5179e+05 ;     C2 - C3    \r\n",
      "    16     17   1    1.0969e-01    2.7665e+05 ;     C3 - H3    \r\n",
      "    16     18   1    1.5241e-01    2.6192e+05 ;     C3 - C4    \r\n",
      "    18     19   1    1.2183e-01    5.3363e+05 ;     C4 - O4    \r\n",
      "    18     20   1    1.3789e-01    3.5782e+05 ;     C4 - N5    \r\n",
      "    20     21   1    1.4619e-01    2.7506e+05 ;     N5 - C6    \r\n",
      "    21     22   1    1.0969e-01    2.7665e+05 ;     C6 - H61   \r\n",
      "    21     23   1    1.0969e-01    2.7665e+05 ;     C6 - H62   \r\n",
      "    21     24   1    1.5375e-01    2.5179e+05 ;     C6 - C7    \r\n",
      "    24     25   1    1.0969e-01    2.7665e+05 ;     C7 - H71   \r\n",
      "    24     26   1    1.0969e-01    2.7665e+05 ;     C7 - H72   \r\n",
      "    24     27   1    1.5375e-01    2.5179e+05 ;     C7 - C8    \r\n",
      "    27     28   1    1.0969e-01    2.7665e+05 ;     C8 - H81   \r\n",
      "    27     29   1    1.0969e-01    2.7665e+05 ;     C8 - H82   \r\n",
      "    27     30   1    1.5375e-01    2.5179e+05 ;     C8 - C9    \r\n",
      "    30     31   1    1.0969e-01    2.7665e+05 ;     C9 - H91   \r\n",
      "    30     32   1    1.0969e-01    2.7665e+05 ;     C9 - H92   \r\n",
      "    30     33   1    1.5375e-01    2.5179e+05 ;     C9 - C10   \r\n",
      "    33     34   1    1.0969e-01    2.7665e+05 ;    C10 - HH10  \r\n",
      "    33     35   1    1.0969e-01    2.7665e+05 ;    C10 - H1    \r\n",
      "    33     36   1    1.5241e-01    2.6192e+05 ;    C10 - C11   \r\n",
      "    36     37   1    1.2183e-01    5.3363e+05 ;    C11 - O12   \r\n",
      "    36     38   1    1.2183e-01    5.3363e+05 ;    C11 - O13   \r\n",
      "\r\n",
      "[ pairs ]\r\n",
      ";   ai     aj    funct\r\n",
      "     1      6      1 ;     CA - CLC   \r\n",
      "     1      8      1 ;     CA - CLD   \r\n",
      "     1     13      1 ;     CA - O1    \r\n",
      "     1     17      1 ;     CA - H3    \r\n",
      "     1     18      1 ;     CA - C4    \r\n",
      "     1     20      1 ;     CA - N5    \r\n",
      "     2      4      1 ;    CLA - CLB   \r\n",
      "     2      5      1 ;    CLA - CC    \r\n",
      "     2      7      1 ;    CLA - CD    \r\n",
      "     2     10      1 ;    CLA - OE1   \r\n",
      "     2     11      1 ;    CLA - OE2   \r\n",
      "     2     12      1 ;    CLA - C1    \r\n",
      "     2     15      1 ;    CLA - H2    \r\n",
      "     2     16      1 ;    CLA - C3    \r\n",
      "     3      8      1 ;     CB - CLD   \r\n",
      "     3     10      1 ;     CB - OE1   \r\n",
      "     3     11      1 ;     CB - OE2   \r\n",
      "     3     12      1 ;     CB - C1    \r\n",
      "     3     15      1 ;     CB - H2    \r\n",
      "     3     16      1 ;     CB - C3    \r\n",
      "     4      6      1 ;    CLB - CLC   \r\n",
      "     4      7      1 ;    CLB - CD    \r\n",
      "     5     10      1 ;     CC - OE1   \r\n",
      "     5     11      1 ;     CC - OE2   \r\n",
      "     5     14      1 ;     CC - C2    \r\n",
      "     5     17      1 ;     CC - H3    \r\n",
      "     5     18      1 ;     CC - C4    \r\n",
      "     6      8      1 ;    CLC - CLD   \r\n",
      "     6      9      1 ;    CLC - SE    \r\n",
      "     6     16      1 ;    CLC - C3    \r\n",
      "     7     12      1 ;     CD - C1    \r\n",
      "     7     15      1 ;     CD - H2    \r\n",
      "     7     19      1 ;     CD - O4    \r\n",
      "     7     20      1 ;     CD - N5    \r\n",
      "     8     10      1 ;    CLD - OE1   \r\n",
      "     8     11      1 ;    CLD - OE2   \r\n",
      "     8     14      1 ;    CLD - C2    \r\n",
      "     8     17      1 ;    CLD - H3    \r\n",
      "     8     18      1 ;    CLD - C4    \r\n",
      "     9      4      1 ;     SE - CLB   \r\n",
      "     9     12      1 ;     SE - C1    \r\n",
      "     9     15      1 ;     SE - H2    \r\n",
      "     9     17      1 ;     SE - H3    \r\n",
      "     9     18      1 ;     SE - C4    \r\n",
      "    10     16      1 ;    OE1 - C3    \r\n",
      "    11     16      1 ;    OE2 - C3    \r\n",
      "    12     17      1 ;     C1 - H3    \r\n",
      "    12     19      1 ;     C1 - O4    \r\n",
      "    12     22      1 ;     C1 - H61   \r\n",
      "    12     23      1 ;     C1 - H62   \r\n",
      "    12     24      1 ;     C1 - C7    \r\n",
      "    13     15      1 ;     O1 - H2    \r\n",
      "    13     16      1 ;     O1 - C3    \r\n",
      "    13     18      1 ;     O1 - C4    \r\n",
      "    13     21      1 ;     O1 - C6    \r\n",
      "    14      4      1 ;     C2 - CLB   \r\n",
      "    14     10      1 ;     C2 - OE1   \r\n",
      "    14     11      1 ;     C2 - OE2   \r\n",
      "    14     19      1 ;     C2 - O4    \r\n",
      "    14     21      1 ;     C2 - C6    \r\n",
      "    15     17      1 ;     H2 - H3    \r\n",
      "    15     18      1 ;     H2 - C4    \r\n",
      "    15     20      1 ;     H2 - N5    \r\n",
      "    16     21      1 ;     C3 - C6    \r\n",
      "    17     19      1 ;     H3 - O4    \r\n",
      "    17     20      1 ;     H3 - N5    \r\n",
      "    18     22      1 ;     C4 - H61   \r\n",
      "    18     23      1 ;     C4 - H62   \r\n",
      "    18     24      1 ;     C4 - C7    \r\n",
      "    19     21      1 ;     O4 - C6    \r\n",
      "    20     25      1 ;     N5 - H71   \r\n",
      "    20     26      1 ;     N5 - H72   \r\n",
      "    20     27      1 ;     N5 - C8    \r\n",
      "    21     28      1 ;     C6 - H81   \r\n",
      "    21     29      1 ;     C6 - H82   \r\n",
      "    21     30      1 ;     C6 - C9    \r\n",
      "    22     25      1 ;    H61 - H71   \r\n",
      "    22     26      1 ;    H61 - H72   \r\n",
      "    22     27      1 ;    H61 - C8    \r\n",
      "    23     25      1 ;    H62 - H71   \r\n",
      "    23     26      1 ;    H62 - H72   \r\n",
      "    23     27      1 ;    H62 - C8    \r\n",
      "    24     31      1 ;     C7 - H91   \r\n",
      "    24     32      1 ;     C7 - H92   \r\n",
      "    24     33      1 ;     C7 - C10   \r\n",
      "    25     28      1 ;    H71 - H81   \r\n",
      "    25     29      1 ;    H71 - H82   \r\n",
      "    25     30      1 ;    H71 - C9    \r\n",
      "    26     28      1 ;    H72 - H81   \r\n",
      "    26     29      1 ;    H72 - H82   \r\n",
      "    26     30      1 ;    H72 - C9    \r\n",
      "    27     34      1 ;     C8 - HH10  \r\n",
      "    27     35      1 ;     C8 - H1    \r\n",
      "    27     36      1 ;     C8 - C11   \r\n",
      "    28     31      1 ;    H81 - H91   \r\n",
      "    28     32      1 ;    H81 - H92   \r\n",
      "    28     33      1 ;    H81 - C10   \r\n",
      "    29     31      1 ;    H82 - H91   \r\n",
      "    29     32      1 ;    H82 - H92   \r\n",
      "    29     33      1 ;    H82 - C10   \r\n",
      "    30     37      1 ;     C9 - O12   \r\n",
      "    30     38      1 ;     C9 - O13   \r\n",
      "    31     34      1 ;    H91 - HH10  \r\n",
      "    31     35      1 ;    H91 - H1    \r\n",
      "    31     36      1 ;    H91 - C11   \r\n",
      "    32     34      1 ;    H92 - HH10  \r\n",
      "    32     35      1 ;    H92 - H1    \r\n",
      "    32     36      1 ;    H92 - C11   \r\n",
      "    34     37      1 ;   HH10 - O12   \r\n",
      "    34     38      1 ;   HH10 - O13   \r\n",
      "    35     37      1 ;     H1 - O12   \r\n",
      "    35     38      1 ;     H1 - O13   \r\n",
      "\r\n",
      "[ angles ]\r\n",
      ";   ai     aj     ak    funct   theta         cth\r\n",
      "     1      3      4      1    1.1532e+02    5.3053e+02 ;     CA - CB     - CLB   \r\n",
      "     1      3      5      1    1.2363e+02    5.3639e+02 ;     CA - CB     - CC    \r\n",
      "     1      9      7      1    1.0383e+02    5.0124e+02 ;     CA - SE     - CD    \r\n",
      "     1      9     10      1    1.0861e+02    5.4727e+02 ;     CA - SE     - OE1   \r\n",
      "     1      9     11      1    1.0861e+02    5.4727e+02 ;     CA - SE     - OE2   \r\n",
      "     1     14     12      1    1.1104e+02    5.2969e+02 ;     CA - C2     - C1    \r\n",
      "     1     14     15      1    1.0980e+02    3.8744e+02 ;     CA - C2     - H2    \r\n",
      "     1     14     16      1    1.1151e+02    5.2635e+02 ;     CA - C2     - C3    \r\n",
      "     2      1      3      1    1.1051e+02    4.8283e+02 ;    CLA - CA     - CB    \r\n",
      "     2      1      9      1    1.1199e+02    4.8032e+02 ;    CLA - CA     - SE    \r\n",
      "     2      1     14      1    1.1041e+02    4.8032e+02 ;    CLA - CA     - C2    \r\n",
      "     3      1      9      1    1.0989e+02    5.1798e+02 ;     CB - CA     - SE    \r\n",
      "     3      1     14      1    1.1156e+02    5.3053e+02 ;     CB - CA     - C2    \r\n",
      "     3      5      6      1    1.2311e+02    4.8534e+02 ;     CB - CC     - CLC   \r\n",
      "     3      5      7      1    1.2363e+02    5.3639e+02 ;     CB - CC     - CD    \r\n",
      "     4      3      5      1    1.2311e+02    4.8534e+02 ;    CLB - CB     - CC    \r\n",
      "     5      7      8      1    1.1051e+02    4.8283e+02 ;     CC - CD     - CLD   \r\n",
      "     5      7      9      1    1.0989e+02    5.1798e+02 ;     CC - CD     - SE    \r\n",
      "     5      7     16      1    1.1156e+02    5.3053e+02 ;     CC - CD     - C3    \r\n",
      "     6      5      7      1    1.1532e+02    5.3053e+02 ;    CLC - CC     - CD    \r\n",
      "     7      9     10      1    1.0861e+02    5.4727e+02 ;     CD - SE     - OE1   \r\n",
      "     7      9     11      1    1.0861e+02    5.4727e+02 ;     CD - SE     - OE2   \r\n",
      "     7     16     14      1    1.1151e+02    5.2635e+02 ;     CD - C3     - C2    \r\n",
      "     7     16     17      1    1.0980e+02    3.8744e+02 ;     CD - C3     - H3    \r\n",
      "     7     16     18      1    1.1104e+02    5.2969e+02 ;     CD - C3     - C4    \r\n",
      "     8      7      9      1    1.1199e+02    4.8032e+02 ;    CLD - CD     - SE    \r\n",
      "     8      7     16      1    1.1041e+02    4.8032e+02 ;    CLD - CD     - C3    \r\n",
      "     9      1     14      1    1.1022e+02    5.1965e+02 ;     SE - CA     - C2    \r\n",
      "     9      7     16      1    1.1022e+02    5.1965e+02 ;     SE - CD     - C3    \r\n",
      "    10      9     11      1    1.2005e+02    6.1588e+02 ;    OE1 - SE     - OE2   \r\n",
      "    12     14     15      1    1.0877e+02    3.9246e+02 ;     C1 - C2     - H2    \r\n",
      "    12     14     16      1    1.1104e+02    5.2969e+02 ;     C1 - C2     - C3    \r\n",
      "    12     20     18      1    1.2708e+02    5.3304e+02 ;     C1 - N5     - C4    \r\n",
      "    12     20     21      1    1.2069e+02    5.3053e+02 ;     C1 - N5     - C6    \r\n",
      "    13     12     14      1    1.2320e+02    5.6400e+02 ;     O1 - C1     - C2    \r\n",
      "    13     12     20      1    1.2305e+02    6.2091e+02 ;     O1 - C1     - N5    \r\n",
      "    14     12     20      1    1.1518e+02    5.5898e+02 ;     C2 - C1     - N5    \r\n",
      "    14     16     17      1    1.0980e+02    3.8744e+02 ;     C2 - C3     - H3    \r\n",
      "    14     16     18      1    1.1104e+02    5.2969e+02 ;     C2 - C3     - C4    \r\n",
      "    15     14     16      1    1.0980e+02    3.8744e+02 ;     H2 - C2     - C3    \r\n",
      "    16     18     19      1    1.2320e+02    5.6400e+02 ;     C3 - C4     - O4    \r\n",
      "    16     18     20      1    1.1518e+02    5.5898e+02 ;     C3 - C4     - N5    \r\n",
      "    17     16     18      1    1.0877e+02    3.9246e+02 ;     H3 - C3     - C4    \r\n",
      "    18     20     21      1    1.2069e+02    5.3053e+02 ;     C4 - N5     - C6    \r\n",
      "    19     18     20      1    1.2305e+02    6.2091e+02 ;     O4 - C4     - N5    \r\n",
      "    20     21     22      1    1.0888e+02    4.1673e+02 ;     N5 - C6     - H61   \r\n",
      "    20     21     23      1    1.0888e+02    4.1673e+02 ;     N5 - C6     - H62   \r\n",
      "    20     21     24      1    1.1161e+02    5.5145e+02 ;     N5 - C6     - C7    \r\n",
      "    21     24     25      1    1.0980e+02    3.8744e+02 ;     C6 - C7     - H71   \r\n",
      "    21     24     26      1    1.0980e+02    3.8744e+02 ;     C6 - C7     - H72   \r\n",
      "    21     24     27      1    1.1151e+02    5.2635e+02 ;     C6 - C7     - C8    \r\n",
      "    22     21     23      1    1.0846e+02    3.2803e+02 ;    H61 - C6     - H62   \r\n",
      "    22     21     24      1    1.0956e+02    3.8828e+02 ;    H61 - C6     - C7    \r\n",
      "    23     21     24      1    1.0956e+02    3.8828e+02 ;    H62 - C6     - C7    \r\n",
      "    24     27     28      1    1.0980e+02    3.8744e+02 ;     C7 - C8     - H81   \r\n",
      "    24     27     29      1    1.0980e+02    3.8744e+02 ;     C7 - C8     - H82   \r\n",
      "    24     27     30      1    1.1151e+02    5.2635e+02 ;     C7 - C8     - C9    \r\n",
      "    25     24     26      1    1.0758e+02    3.2970e+02 ;    H71 - C7     - H72   \r\n",
      "    25     24     27      1    1.0980e+02    3.8744e+02 ;    H71 - C7     - C8    \r\n",
      "    26     24     27      1    1.0980e+02    3.8744e+02 ;    H72 - C7     - C8    \r\n",
      "    27     30     31      1    1.0980e+02    3.8744e+02 ;     C8 - C9     - H91   \r\n",
      "    27     30     32      1    1.0980e+02    3.8744e+02 ;     C8 - C9     - H92   \r\n",
      "    27     30     33      1    1.1151e+02    5.2635e+02 ;     C8 - C9     - C10   \r\n",
      "    28     27     29      1    1.0758e+02    3.2970e+02 ;    H81 - C8     - H82   \r\n",
      "    28     27     30      1    1.0980e+02    3.8744e+02 ;    H81 - C8     - C9    \r\n",
      "    29     27     30      1    1.0980e+02    3.8744e+02 ;    H82 - C8     - C9    \r\n",
      "    30     33     34      1    1.0980e+02    3.8744e+02 ;     C9 - C10    - HH10  \r\n",
      "    30     33     35      1    1.0980e+02    3.8744e+02 ;     C9 - C10    - H1    \r\n",
      "    30     33     36      1    1.1104e+02    5.2969e+02 ;     C9 - C10    - C11   \r\n",
      "    31     30     32      1    1.0758e+02    3.2970e+02 ;    H91 - C9     - H92   \r\n",
      "    31     30     33      1    1.0980e+02    3.8744e+02 ;    H91 - C9     - C10   \r\n",
      "    32     30     33      1    1.0980e+02    3.8744e+02 ;    H92 - C9     - C10   \r\n",
      "    33     36     37      1    1.2320e+02    5.6400e+02 ;    C10 - C11    - O12   \r\n",
      "    33     36     38      1    1.2320e+02    5.6400e+02 ;    C10 - C11    - O13   \r\n",
      "    34     33     35      1    1.0758e+02    3.2970e+02 ;   HH10 - C10    - H1    \r\n",
      "    34     33     36      1    1.0877e+02    3.9246e+02 ;   HH10 - C10    - C11   \r\n",
      "    35     33     36      1    1.0877e+02    3.9246e+02 ;     H1 - C10    - C11   \r\n",
      "    37     36     38      1    1.3025e+02    6.5187e+02 ;    O12 - C11    - O13   \r\n",
      "\r\n",
      "[ dihedrals ] ; propers\r\n",
      "; for gromacs 4.5 or higher, using funct 9\r\n",
      ";    i      j      k      l   func   phase     kd      pn\r\n",
      "     1      3      5      6      9   180.00  27.82360   2 ;     CA-    CB-    CC-   CLC\r\n",
      "     1      3      5      7      9   180.00   7.94960   1 ;     CA-    CB-    CC-    CD\r\n",
      "     1      3      5      7      9   180.00  27.82360   2 ;     CA-    CB-    CC-    CD\r\n",
      "     1      9      7      5      9     0.00   0.60436   3 ;     CA-    SE-    CD-    CC\r\n",
      "     1      9      7      8      9     0.00   0.60436   3 ;     CA-    SE-    CD-   CLD\r\n",
      "     1      9      7     16      9     0.00   0.60436   3 ;     CA-    SE-    CD-    C3\r\n",
      "     1     14     12     13      9   180.00   0.00000   2 ;     CA-    C2-    C1-    O1\r\n",
      "     1     14     12     20      9     0.00   0.29288   2 ;     CA-    C2-    C1-    N5\r\n",
      "     1     14     12     20      9     0.00   0.41840   4 ;     CA-    C2-    C1-    N5\r\n",
      "     1     14     16      7      9     0.00   0.75312   3 ;     CA-    C2-    C3-    CD\r\n",
      "     1     14     16      7      9   180.00   0.83680   1 ;     CA-    C2-    C3-    CD\r\n",
      "     1     14     16      7      9   180.00   1.04600   2 ;     CA-    C2-    C3-    CD\r\n",
      "     1     14     16     17      9     0.00   0.66944   3 ;     CA-    C2-    C3-    H3\r\n",
      "     1     14     16     18      9     0.00   0.65084   3 ;     CA-    C2-    C3-    C4\r\n",
      "     2      1      3      4      9     0.00   0.00000   0 ;    CLA-    CA-    CB-   CLB\r\n",
      "     2      1      3      5      9     0.00   0.00000   0 ;    CLA-    CA-    CB-    CC\r\n",
      "     2      1      9      7      9     0.00   0.60436   3 ;    CLA-    CA-    SE-    CD\r\n",
      "     2      1      9     10      9     0.00   0.60436   3 ;    CLA-    CA-    SE-   OE1\r\n",
      "     2      1      9     11      9     0.00   0.60436   3 ;    CLA-    CA-    SE-   OE2\r\n",
      "     2      1     14     12      9     0.00   0.65084   3 ;    CLA-    CA-    C2-    C1\r\n",
      "     2      1     14     15      9     0.00   0.00000   0 ;    CLA-    CA-    C2-    H2\r\n",
      "     2      1     14     15      9     0.00   1.04600   1 ;    CLA-    CA-    C2-    H2\r\n",
      "     2      1     14     16      9     0.00   0.65084   3 ;    CLA-    CA-    C2-    C3\r\n",
      "     3      1      9      7      9     0.00   0.60436   3 ;     CB-    CA-    SE-    CD\r\n",
      "     3      1      9     10      9     0.00   0.60436   3 ;     CB-    CA-    SE-   OE1\r\n",
      "     3      1      9     11      9     0.00   0.60436   3 ;     CB-    CA-    SE-   OE2\r\n",
      "     3      1     14     12      9     0.00   0.65084   3 ;     CB-    CA-    C2-    C1\r\n",
      "     3      1     14     15      9     0.00   0.65084   3 ;     CB-    CA-    C2-    H2\r\n",
      "     3      1     14     16      9     0.00   0.65084   3 ;     CB-    CA-    C2-    C3\r\n",
      "     3      5      7      8      9     0.00   0.00000   0 ;     CB-    CC-    CD-   CLD\r\n",
      "     3      5      7      9      9     0.00   0.00000   0 ;     CB-    CC-    CD-    SE\r\n",
      "     3      5      7     16      9     0.00   0.00000   0 ;     CB-    CC-    CD-    C3\r\n",
      "     4      3      5      6      9   180.00  27.82360   2 ;    CLB-    CB-    CC-   CLC\r\n",
      "     4      3      5      7      9   180.00  27.82360   2 ;    CLB-    CB-    CC-    CD\r\n",
      "     5      7      9     10      9     0.00   0.60436   3 ;     CC-    CD-    SE-   OE1\r\n",
      "     5      7      9     11      9     0.00   0.60436   3 ;     CC-    CD-    SE-   OE2\r\n",
      "     5      7     16     14      9     0.00   0.65084   3 ;     CC-    CD-    C3-    C2\r\n",
      "     5      7     16     17      9     0.00   0.65084   3 ;     CC-    CD-    C3-    H3\r\n",
      "     5      7     16     18      9     0.00   0.65084   3 ;     CC-    CD-    C3-    C4\r\n",
      "     6      5      7      8      9     0.00   0.00000   0 ;    CLC-    CC-    CD-   CLD\r\n",
      "     6      5      7      9      9     0.00   0.00000   0 ;    CLC-    CC-    CD-    SE\r\n",
      "     6      5      7     16      9     0.00   0.00000   0 ;    CLC-    CC-    CD-    C3\r\n",
      "     7     16     14     12      9     0.00   0.65084   3 ;     CD-    C3-    C2-    C1\r\n",
      "     7     16     14     15      9     0.00   0.66944   3 ;     CD-    C3-    C2-    H2\r\n",
      "     7     16     18     19      9   180.00   0.00000   2 ;     CD-    C3-    C4-    O4\r\n",
      "     7     16     18     20      9     0.00   0.29288   2 ;     CD-    C3-    C4-    N5\r\n",
      "     7     16     18     20      9     0.00   0.41840   4 ;     CD-    C3-    C4-    N5\r\n",
      "     8      7      9     10      9     0.00   0.60436   3 ;    CLD-    CD-    SE-   OE1\r\n",
      "     8      7      9     11      9     0.00   0.60436   3 ;    CLD-    CD-    SE-   OE2\r\n",
      "     8      7     16     14      9     0.00   0.65084   3 ;    CLD-    CD-    C3-    C2\r\n",
      "     8      7     16     17      9     0.00   0.00000   0 ;    CLD-    CD-    C3-    H3\r\n",
      "     8      7     16     17      9     0.00   1.04600   1 ;    CLD-    CD-    C3-    H3\r\n",
      "     8      7     16     18      9     0.00   0.65084   3 ;    CLD-    CD-    C3-    C4\r\n",
      "     9      1      3      4      9     0.00   0.00000   0 ;     SE-    CA-    CB-   CLB\r\n",
      "     9      1      3      5      9     0.00   0.00000   0 ;     SE-    CA-    CB-    CC\r\n",
      "     9      1     14     12      9     0.00   0.65084   3 ;     SE-    CA-    C2-    C1\r\n",
      "     9      1     14     15      9     0.00   0.65084   3 ;     SE-    CA-    C2-    H2\r\n",
      "     9      1     14     16      9     0.00   0.65084   3 ;     SE-    CA-    C2-    C3\r\n",
      "     9      7     16     14      9     0.00   0.65084   3 ;     SE-    CD-    C3-    C2\r\n",
      "     9      7     16     17      9     0.00   0.65084   3 ;     SE-    CD-    C3-    H3\r\n",
      "     9      7     16     18      9     0.00   0.65084   3 ;     SE-    CD-    C3-    C4\r\n",
      "    10      9      7     16      9     0.00   0.60436   3 ;    OE1-    SE-    CD-    C3\r\n",
      "    11      9      7     16      9     0.00   0.60436   3 ;    OE2-    SE-    CD-    C3\r\n",
      "    12     14     16     17      9     0.00   0.65084   3 ;     C1-    C2-    C3-    H3\r\n",
      "    12     14     16     18      9     0.00   0.65084   3 ;     C1-    C2-    C3-    C4\r\n",
      "    12     20     18     16      9   180.00  10.46000   2 ;     C1-    N5-    C4-    C3\r\n",
      "    12     20     18     19      9   180.00  10.46000   2 ;     C1-    N5-    C4-    O4\r\n",
      "    12     20     21     22      9     0.00   0.00000   0 ;     C1-    N5-    C6-   H61\r\n",
      "    12     20     21     23      9     0.00   0.00000   0 ;     C1-    N5-    C6-   H62\r\n",
      "    12     20     21     24      9     0.00   0.00000   0 ;     C1-    N5-    C6-    C7\r\n",
      "    12     20     21     24      9     0.00   2.21752   1 ;     C1-    N5-    C6-    C7\r\n",
      "    12     20     21     24      9   180.00   0.62760   3 ;     C1-    N5-    C6-    C7\r\n",
      "    12     20     21     24      9   180.00   2.09200   4 ;     C1-    N5-    C6-    C7\r\n",
      "    13     12     14     15      9     0.00   0.00000   0 ;     O1-    C1-    C2-    H2\r\n",
      "    13     12     14     15      9     0.00   3.34720   1 ;     O1-    C1-    C2-    H2\r\n",
      "    13     12     14     15      9   180.00   0.33472   3 ;     O1-    C1-    C2-    H2\r\n",
      "    13     12     14     16      9   180.00   0.00000   2 ;     O1-    C1-    C2-    C3\r\n",
      "    13     12     20     18      9   180.00  10.46000   2 ;     O1-    C1-    N5-    C4\r\n",
      "    13     12     20     21      9   180.00  10.46000   2 ;     O1-    C1-    N5-    C6\r\n",
      "    14      1      3      4      9     0.00   0.00000   0 ;     C2-    CA-    CB-   CLB\r\n",
      "    14      1      3      5      9     0.00   0.00000   0 ;     C2-    CA-    CB-    CC\r\n",
      "    14      1      9      7      9     0.00   0.60436   3 ;     C2-    CA-    SE-    CD\r\n",
      "    14      1      9     10      9     0.00   0.60436   3 ;     C2-    CA-    SE-   OE1\r\n",
      "    14      1      9     11      9     0.00   0.60436   3 ;     C2-    CA-    SE-   OE2\r\n",
      "    14     12     20     18      9   180.00  10.46000   2 ;     C2-    C1-    N5-    C4\r\n",
      "    14     12     20     21      9     0.00   0.00000   0 ;     C2-    C1-    N5-    C6\r\n",
      "    14     12     20     21      9   180.00   6.27600   1 ;     C2-    C1-    N5-    C6\r\n",
      "    14     16     18     19      9   180.00   0.00000   2 ;     C2-    C3-    C4-    O4\r\n",
      "    14     16     18     20      9     0.00   0.29288   2 ;     C2-    C3-    C4-    N5\r\n",
      "    14     16     18     20      9     0.00   0.41840   4 ;     C2-    C3-    C4-    N5\r\n",
      "    15     14     12     20      9   180.00   0.00000   2 ;     H2-    C2-    C1-    N5\r\n",
      "    15     14     16     17      9     0.00   0.62760   3 ;     H2-    C2-    C3-    H3\r\n",
      "    15     14     16     18      9     0.00   0.65084   3 ;     H2-    C2-    C3-    C4\r\n",
      "    16     14     12     20      9     0.00   0.29288   2 ;     C3-    C2-    C1-    N5\r\n",
      "    16     14     12     20      9     0.00   0.41840   4 ;     C3-    C2-    C1-    N5\r\n",
      "    16     18     20     21      9     0.00   0.00000   0 ;     C3-    C4-    N5-    C6\r\n",
      "    16     18     20     21      9   180.00   6.27600   1 ;     C3-    C4-    N5-    C6\r\n",
      "    17     16     18     19      9     0.00   0.00000   0 ;     H3-    C3-    C4-    O4\r\n",
      "    17     16     18     19      9     0.00   3.34720   1 ;     H3-    C3-    C4-    O4\r\n",
      "    17     16     18     19      9   180.00   0.33472   3 ;     H3-    C3-    C4-    O4\r\n",
      "    17     16     18     20      9   180.00   0.00000   2 ;     H3-    C3-    C4-    N5\r\n",
      "    18     20     21     22      9     0.00   0.00000   0 ;     C4-    N5-    C6-   H61\r\n",
      "    18     20     21     23      9     0.00   0.00000   0 ;     C4-    N5-    C6-   H62\r\n",
      "    18     20     21     24      9     0.00   0.00000   0 ;     C4-    N5-    C6-    C7\r\n",
      "    18     20     21     24      9     0.00   2.21752   1 ;     C4-    N5-    C6-    C7\r\n",
      "    18     20     21     24      9   180.00   0.62760   3 ;     C4-    N5-    C6-    C7\r\n",
      "    18     20     21     24      9   180.00   2.09200   4 ;     C4-    N5-    C6-    C7\r\n",
      "    19     18     20     21      9   180.00  10.46000   2 ;     O4-    C4-    N5-    C6\r\n",
      "    20     21     24     25      9     0.00   0.65084   3 ;     N5-    C6-    C7-   H71\r\n",
      "    20     21     24     26      9     0.00   0.65084   3 ;     N5-    C6-    C7-   H72\r\n",
      "    20     21     24     27      9     0.00   0.65084   3 ;     N5-    C6-    C7-    C8\r\n",
      "    21     24     27     28      9     0.00   0.66944   3 ;     C6-    C7-    C8-   H81\r\n",
      "    21     24     27     29      9     0.00   0.66944   3 ;     C6-    C7-    C8-   H82\r\n",
      "    21     24     27     30      9     0.00   0.75312   3 ;     C6-    C7-    C8-    C9\r\n",
      "    21     24     27     30      9   180.00   0.83680   1 ;     C6-    C7-    C8-    C9\r\n",
      "    21     24     27     30      9   180.00   1.04600   2 ;     C6-    C7-    C8-    C9\r\n",
      "    22     21     24     25      9     0.00   0.65084   3 ;    H61-    C6-    C7-   H71\r\n",
      "    22     21     24     26      9     0.00   0.65084   3 ;    H61-    C6-    C7-   H72\r\n",
      "    22     21     24     27      9     0.00   0.65084   3 ;    H61-    C6-    C7-    C8\r\n",
      "    23     21     24     25      9     0.00   0.65084   3 ;    H62-    C6-    C7-   H71\r\n",
      "    23     21     24     26      9     0.00   0.65084   3 ;    H62-    C6-    C7-   H72\r\n",
      "    23     21     24     27      9     0.00   0.65084   3 ;    H62-    C6-    C7-    C8\r\n",
      "    24     27     30     31      9     0.00   0.66944   3 ;     C7-    C8-    C9-   H91\r\n",
      "    24     27     30     32      9     0.00   0.66944   3 ;     C7-    C8-    C9-   H92\r\n",
      "    24     27     30     33      9     0.00   0.75312   3 ;     C7-    C8-    C9-   C10\r\n",
      "    24     27     30     33      9   180.00   0.83680   1 ;     C7-    C8-    C9-   C10\r\n",
      "    24     27     30     33      9   180.00   1.04600   2 ;     C7-    C8-    C9-   C10\r\n",
      "    25     24     27     28      9     0.00   0.62760   3 ;    H71-    C7-    C8-   H81\r\n",
      "    25     24     27     29      9     0.00   0.62760   3 ;    H71-    C7-    C8-   H82\r\n",
      "    25     24     27     30      9     0.00   0.66944   3 ;    H71-    C7-    C8-    C9\r\n",
      "    26     24     27     28      9     0.00   0.62760   3 ;    H72-    C7-    C8-   H81\r\n",
      "    26     24     27     29      9     0.00   0.62760   3 ;    H72-    C7-    C8-   H82\r\n",
      "    26     24     27     30      9     0.00   0.66944   3 ;    H72-    C7-    C8-    C9\r\n",
      "    27     30     33     34      9     0.00   0.66944   3 ;     C8-    C9-   C10-  HH10\r\n",
      "    27     30     33     35      9     0.00   0.66944   3 ;     C8-    C9-   C10-    H1\r\n",
      "    27     30     33     36      9     0.00   0.65084   3 ;     C8-    C9-   C10-   C11\r\n",
      "    28     27     30     31      9     0.00   0.62760   3 ;    H81-    C8-    C9-   H91\r\n",
      "    28     27     30     32      9     0.00   0.62760   3 ;    H81-    C8-    C9-   H92\r\n",
      "    28     27     30     33      9     0.00   0.66944   3 ;    H81-    C8-    C9-   C10\r\n",
      "    29     27     30     31      9     0.00   0.62760   3 ;    H82-    C8-    C9-   H91\r\n",
      "    29     27     30     32      9     0.00   0.62760   3 ;    H82-    C8-    C9-   H92\r\n",
      "    29     27     30     33      9     0.00   0.66944   3 ;    H82-    C8-    C9-   C10\r\n",
      "    30     33     36     37      9   180.00   0.00000   2 ;     C9-   C10-   C11-   O12\r\n",
      "    30     33     36     38      9   180.00   0.00000   2 ;     C9-   C10-   C11-   O13\r\n",
      "    31     30     33     34      9     0.00   0.62760   3 ;    H91-    C9-   C10-  HH10\r\n",
      "    31     30     33     35      9     0.00   0.62760   3 ;    H91-    C9-   C10-    H1\r\n",
      "    31     30     33     36      9     0.00   0.65084   3 ;    H91-    C9-   C10-   C11\r\n",
      "    32     30     33     34      9     0.00   0.62760   3 ;    H92-    C9-   C10-  HH10\r\n",
      "    32     30     33     35      9     0.00   0.62760   3 ;    H92-    C9-   C10-    H1\r\n",
      "    32     30     33     36      9     0.00   0.65084   3 ;    H92-    C9-   C10-   C11\r\n",
      "    34     33     36     37      9     0.00   0.00000   0 ;   HH10-   C10-   C11-   O12\r\n",
      "    34     33     36     37      9     0.00   3.34720   1 ;   HH10-   C10-   C11-   O12\r\n",
      "    34     33     36     37      9   180.00   0.33472   3 ;   HH10-   C10-   C11-   O12\r\n",
      "    34     33     36     38      9     0.00   0.00000   0 ;   HH10-   C10-   C11-   O13\r\n",
      "    34     33     36     38      9     0.00   3.34720   1 ;   HH10-   C10-   C11-   O13\r\n",
      "    34     33     36     38      9   180.00   0.33472   3 ;   HH10-   C10-   C11-   O13\r\n",
      "    35     33     36     37      9     0.00   0.00000   0 ;     H1-   C10-   C11-   O12\r\n",
      "    35     33     36     37      9     0.00   3.34720   1 ;     H1-   C10-   C11-   O12\r\n",
      "    35     33     36     37      9   180.00   0.33472   3 ;     H1-   C10-   C11-   O12\r\n",
      "    35     33     36     38      9     0.00   0.00000   0 ;     H1-   C10-   C11-   O13\r\n",
      "    35     33     36     38      9     0.00   3.34720   1 ;     H1-   C10-   C11-   O13\r\n",
      "    35     33     36     38      9   180.00   0.33472   3 ;     H1-   C10-   C11-   O13\r\n",
      "\r\n",
      "[ dihedrals ] ; impropers\r\n",
      "; treated as propers in GROMACS to use correct AMBER analytical function\r\n",
      ";    i      j      k      l   func   phase     kd      pn\r\n",
      "     3      7      5      6      4   180.00   4.60240   2 ;     CB-    CD-    CC-   CLC\r\n",
      "     5      1      3      4      4   180.00   4.60240   2 ;     CC-    CA-    CB-   CLB\r\n",
      "    12     18     20     21      4   180.00   4.60240   2 ;     C1-    C4-    N5-    C6\r\n",
      "    14     20     12     13      4   180.00  43.93200   2 ;     C2-    N5-    C1-    O1\r\n",
      "    16     20     18     19      4   180.00  43.93200   2 ;     C3-    N5-    C4-    O4\r\n",
      "    33     37     36     38      4   180.00   4.60240   2 ;    C10-   O12-   C11-   O13\r\n"
     ]
    }
   ],
   "source": [
    "!cat dat.itp"
   ]
  },
  {
   "cell_type": "markdown",
   "metadata": {},
   "source": [
    "Now lets look into the *qmmm-umbrella.mdp* file:"
   ]
  },
  {
   "cell_type": "code",
   "execution_count": 13,
   "metadata": {
    "scrolled": true
   },
   "outputs": [
    {
     "name": "stdout",
     "output_type": "stream",
     "text": [
      "title                    = QMMM-umbrella\r\n",
      "\r\n",
      "integrator               = md\r\n",
      "\r\n",
      "tinit                    = 0\r\n",
      "dt                       = 0.001\r\n",
      "nsteps                   = 100\r\n",
      "\r\n",
      "nstcomm                  = 1\r\n",
      "comm_grps                = system\r\n",
      "\r\n",
      "nstxout                  = 100\r\n",
      "nstvout                  = 100\r\n",
      "nstfout                  = 100\r\n",
      "nstlog                   = 1\r\n",
      "nstenergy                = 1\r\n",
      "nstxtcout                = 100\r\n",
      "xtc-precision            = 1000\r\n",
      "xtc_grps                 = system\r\n",
      "nstcalcenergy            = 1\r\n",
      "energy_grps              = \r\n",
      "\r\n",
      "cutoff-scheme            = verlet\r\n",
      "nstlist                  = 10\r\n",
      "pbc                      = xyz\r\n",
      "periodic-molecules       = no\r\n",
      "verlet-buffer-tolerance  = 0.005\r\n",
      "rlist                    = 1.2\r\n",
      "\r\n",
      "coulombtype              = PME\r\n",
      "coulomb-modifier         = Potential-shift-Verlet\r\n",
      "rcoulomb-switch          = 1.0\r\n",
      "rcoulomb                 = 1.2\r\n",
      "vdwtype                  = Cut-off\r\n",
      "vdw-modifier             = Force-switch\r\n",
      "rvdw-switch              = 1.0\r\n",
      "rvdw                     = 1.2\r\n",
      "\r\n",
      "tcoupl                  = V-rescale             ; modified Berendsen thermostat\r\n",
      "tc-grps                 = System\r\n",
      "tau_t                   = 0.5    ; time constant, in ps\r\n",
      "ref_t                   = 300    ; reference temperature, one for each group, in K\r\n",
      "\r\n",
      "constraints              = none\r\n",
      "\r\n",
      "; GENERATE VELOCITIES FOR STARTUP RUN\r\n",
      "gen-vel                  = no\r\n",
      "gen-temp                 = 300 \r\n",
      "gen-seed                 = 123456\r\n",
      "\r\n",
      "; Pull code\r\n",
      "pull                    = yes\r\n",
      "pull_ncoords            = 1          ; only one reaction coordinate\r\n",
      "pull_ngroups            = 2          ; four groups defining one reaction coordinate\r\n",
      "pull_group1_name        = group1     ; atoms C2 and C3\r\n",
      "pull_group2_name        = group2     ; atoms CA and CD\r\n",
      "pull_coord1_type        = umbrella   ; harmonic potential\r\n",
      "pull_coord1_geometry    = distance\r\n",
      "pull_coord1_dim         = Y Y Y\r\n",
      "pull_coord1_groups      = 1 2\r\n",
      "pull-coord1-init\t= 0.34\r\n",
      "pull_coord1_k           = 192000      ; kJ mol^-1 nm^-2\r\n",
      "pull-nstxout             = 1\r\n",
      "pull-nstfout             = 1\r\n",
      "\r\n",
      "\r\n",
      "qmmm-cp2k-active         = true\r\n",
      "qmmm-cp2k-qmgroup        = QMatoms\r\n",
      "qmmm-cp2k-qmmethod       = PBE\r\n",
      "qmmm-cp2k-qmcharge       = 0\r\n",
      "qmmm-cp2k-qmmultiplicity = 1\r\n"
     ]
    }
   ],
   "source": [
    "!cat qmmm-umbrella.mdp"
   ]
  },
  {
   "cell_type": "markdown",
   "metadata": {},
   "source": [
    "Please check `pull` section, it contains parameters of harmonic potential, which we will apply for our system. We will use pre-equilibrated gro file as a starting structure. All that starting point have been created by pulling the system through the whole coordinate space from 0.15 to 0.53 nm over 10 ps with QM/MM simulation and extracting 21 equally spaced frames from that trajectory."
   ]
  },
  {
   "cell_type": "code",
   "execution_count": 6,
   "metadata": {},
   "outputs": [],
   "source": [
    "!cp eq_gro/md_eq10.gro conf.gro"
   ]
  },
  {
   "cell_type": "markdown",
   "metadata": {},
   "source": [
    "Now lets generate *topol.tpr* file:"
   ]
  },
  {
   "cell_type": "code",
   "execution_count": 7,
   "metadata": {},
   "outputs": [
    {
     "name": "stdout",
     "output_type": "stream",
     "text": [
      "        :-) GROMACS - gmx grompp, 2022-beta1-dev-20211011-6062d391a3 (-:\n",
      "\n",
      "                            GROMACS is written by:\n",
      "     Andrey Alekseenko              Emile Apol              Rossen Apostolov     \n",
      "         Paul Bauer           Herman J.C. Berendsen           Par Bjelkmar       \n",
      "       Christian Blau           Viacheslav Bolnykh             Kevin Boyd        \n",
      "     Aldert van Buuren           Rudi van Drunen             Anton Feenstra      \n",
      "        Gaurav Garg            Gilles Gouaillardet             Alan Gray         \n",
      "      Gerrit Groenhof             Anca Hamuraru            Vincent Hindriksen    \n",
      "      M. Eric Irrgang            Aleksei Iupinov           Christoph Junghans    \n",
      "         Joe Jordan            Dimitrios Karkoulis            Peter Kasson       \n",
      "         Jiri Kraus              Carsten Kutzner              Per Larsson        \n",
      "      Justin A. Lemkul            Viveca Lindahl            Magnus Lundborg      \n",
      "       Erik Marklund               Pascal Merz             Pieter Meulenhoff     \n",
      "       Teemu Murtola               Szilard Pall               Sander Pronk       \n",
      "       Roland Schulz              Michael Shirts            Alexey Shvetsov      \n",
      "       Alfons Sijbers             Peter Tieleman              Jon Vincent        \n",
      "      Teemu Virolainen          Christian Wennberg            Maarten Wolf       \n",
      "       Artem Zhmurov       \n",
      "                           and the project leaders:\n",
      "        Mark Abraham, Berk Hess, Erik Lindahl, and David van der Spoel\n",
      "\n",
      "Copyright (c) 1991-2000, University of Groningen, The Netherlands.\n",
      "Copyright (c) 2001-2019, The GROMACS development team at\n",
      "Uppsala University, Stockholm University and\n",
      "the Royal Institute of Technology, Sweden.\n",
      "check out http://www.gromacs.org for more information.\n",
      "\n",
      "GROMACS is free software; you can redistribute it and/or modify it\n",
      "under the terms of the GNU Lesser General Public License\n",
      "as published by the Free Software Foundation; either version 2.1\n",
      "of the License, or (at your option) any later version.\n",
      "\n",
      "GROMACS:      gmx grompp, version 2022-beta1-dev-20211011-6062d391a3\n",
      "Executable:   /root/build/bin/gmx_cp2k\n",
      "Data prefix:  /root/gromacs (source tree)\n",
      "Working dir:  /mnt/i/Presentations/CSC-AWH-tutorial-2022/tutorial/data/DA-us\n",
      "Command line:\n",
      "  gmx_cp2k grompp -f qmmm-umbrella.mdp -p topol.top -c conf.gro -n index.ndx -o md-us10.tpr -maxwarn 10\n",
      "\n",
      "Ignoring obsolete mdp entry 'title'\n",
      "Replacing old mdp entry 'nstxtcout' by 'nstxout-compressed'\n",
      "Replacing old mdp entry 'xtc_grps' by 'compressed-x-grps'\n",
      "Replacing old mdp entry 'xtc-precision' by 'compressed-x-precision'\n",
      "Setting the LD random seed to -5173\n",
      "\n",
      "Generated 45 of the 45 non-bonded parameter combinations\n",
      "Generating 1-4 interactions: fudge = 0.5\n",
      "\n",
      "Generated 45 of the 45 1-4 parameter combinations\n",
      "\n",
      "Excluding 3 bonded neighbours molecule type 'dat'\n",
      "\n",
      "NOTE 1 [file topol.top, line 15]:\n",
      "  System has non-zero total charge: -1.000000\n",
      "  Total charge should normally be an integer. See\n",
      "  http://www.gromacs.org/Documentation/Floating_Point_Arithmetic\n",
      "  for discussion on how close it should be to an integer.\n",
      "  \n",
      "\n",
      "\n",
      "\n",
      "WARNING 1 [file topol.top, line 15]:\n",
      "  You are using Ewald electrostatics in a system with net charge. This can\n",
      "  lead to severe artifacts, such as ions moving into regions with low\n",
      "  dielectric, due to the uniform background charge. We suggest to\n",
      "  neutralize your system with counter ions, possibly in combination with a\n",
      "  physiological salt concentration.\n",
      "\n",
      "\n",
      "++++ PLEASE READ AND CITE THE FOLLOWING REFERENCE ++++\n",
      "J. S. Hub, B. L. de Groot, H. Grubmueller, G. Groenhof\n",
      "Quantifying Artifacts in Ewald Simulations of Inhomogeneous Systems with a Net\n",
      "Charge\n",
      "J. Chem. Theory Comput. 10 (2014) pp. 381-393\n",
      "-------- -------- --- Thank You --- -------- --------\n",
      "\n",
      "Pull group 1 'group1' has 2 atoms\n",
      "Pull group 2 'group2' has 2 atoms\n",
      "Number of degrees of freedom in T-Coupling group System is 111.00\n",
      "\n",
      "QMMM Interface with CP2K is active, topology was modified!\n",
      "Number of QM atoms: 23\n",
      "Number of MM atoms: 15\n",
      "Total charge of the classical system (before modifications): -1.00000\n",
      "Classical charge removed from QM atoms: -0.04300\n",
      "Total charge of QMMM system (after modifications): -0.95700\n",
      "Bonds removed: 93\n",
      "Angles removed: 51\n",
      "Dihedrals removed: 83\n",
      "F_CONNBONDS (type 5 bonds) added: 25\n",
      "QM-MM broken bonds found: 1\n",
      "\n",
      "\n",
      "WARNING 2 [file qmmm-umbrella.mdp]:\n",
      "  Total charge of your QMMM system differs from classical system! Consider\n",
      "  manually spreading -0.04300 charge over MM atoms nearby to the QM region\n",
      "\n",
      "\n",
      "Determining Verlet buffer for a tolerance of 0.005 kJ/mol/ps at 300 K\n",
      "\n",
      "Calculated rlist for 1x1 atom pair-list as 1.200 nm, buffer size 0.000 nm\n",
      "\n",
      "Set rlist, assuming 4x4 atom pair-list, to 1.200 nm, buffer size 0.000 nm\n",
      "\n",
      "Note that mdrun will redetermine rlist based on the actual pair-list setup\n",
      "Calculating fourier grid dimensions for X Y Z\n",
      "Using a fourier grid of 208x96x128, spacing 0.117 0.110 0.120\n",
      "Pull group  natoms  pbc atom  distance at start  reference at t=0\n",
      "       1         2        14\n",
      "       2         2         1       0.340 nm          0.340 nm\n",
      "\n",
      "Estimate for the relative computational load of the PME mesh part: 1.00\n",
      "\n",
      "NOTE 2 [file qmmm-umbrella.mdp]:\n",
      "  The optimal PME mesh load for parallel simulations is below 0.5\n",
      "  and for highly parallel simulations between 0.25 and 0.33,\n",
      "  for higher performance, increase the cut-off and the PME grid spacing.\n",
      "\n",
      "\n",
      "\n",
      "This run will generate roughly 0 Mb of data\n",
      "\n",
      "There were 2 notes\n",
      "\n",
      "There were 2 warnings\n",
      "\n",
      "GROMACS reminds you: \"It was something to at least have a choice of nightmares\" (Joseph Conrad)\n",
      "\n"
     ]
    }
   ],
   "source": [
    "!gmx_cp2k grompp -f qmmm-umbrella.mdp -p topol.top -c conf.gro -n index.ndx -o md-us10.tpr -maxwarn 10"
   ]
  },
  {
   "cell_type": "markdown",
   "metadata": {},
   "source": [
    "And submit it for simulation:"
   ]
  },
  {
   "cell_type": "code",
   "execution_count": null,
   "metadata": {},
   "outputs": [],
   "source": [
    "!sbatch run-us.sh"
   ]
  },
  {
   "cell_type": "markdown",
   "metadata": {},
   "source": [
    "Now you will need to wait for 10-15 minutes until simulation is finished. You can check status by executing the following cell:"
   ]
  },
  {
   "cell_type": "code",
   "execution_count": 15,
   "metadata": {
    "scrolled": true
   },
   "outputs": [
    {
     "name": "stdout",
     "output_type": "stream",
     "text": [
      "/bin/bash: squeue: command not found\r\n"
     ]
    }
   ],
   "source": [
    "!squeue --user=`whoami`"
   ]
  },
  {
   "cell_type": "markdown",
   "metadata": {},
   "source": [
    "After that, lets add data from your simulation to another 20 simulations of frames in the *profile100fs* directory. Here we have pre-computed them for you, but typically you would need to perform all of them one-by-one or in parallel, depending on your resources."
   ]
  },
  {
   "cell_type": "code",
   "execution_count": 8,
   "metadata": {},
   "outputs": [
    {
     "name": "stdout",
     "output_type": "stream",
     "text": [
      "cp: cannot stat 'pullx.xvg': No such file or directory\r\n"
     ]
    }
   ],
   "source": [
    "!cp pullx.xvg profile100fs/pullx10.xvg\n",
    "!cp md-us10.tpr profile100fs/md-us10.tpr\n"
   ]
  },
  {
   "cell_type": "markdown",
   "metadata": {},
   "source": [
    "Then go to profile100fs directory and perform integration of the profile using `gmx wham` tool::"
   ]
  },
  {
   "cell_type": "code",
   "execution_count": 9,
   "metadata": {
    "scrolled": true
   },
   "outputs": [
    {
     "name": "stdout",
     "output_type": "stream",
     "text": [
      "/mnt/i/Presentations/CSC-AWH-tutorial-2022/tutorial/data/DA-us/profile100fs\n",
      "         :-) GROMACS - gmx wham, 2022-beta1-dev-20211011-6062d391a3 (-:\n",
      "\n",
      "                            GROMACS is written by:\n",
      "     Andrey Alekseenko              Emile Apol              Rossen Apostolov     \n",
      "         Paul Bauer           Herman J.C. Berendsen           Par Bjelkmar       \n",
      "       Christian Blau           Viacheslav Bolnykh             Kevin Boyd        \n",
      "     Aldert van Buuren           Rudi van Drunen             Anton Feenstra      \n",
      "        Gaurav Garg            Gilles Gouaillardet             Alan Gray         \n",
      "      Gerrit Groenhof             Anca Hamuraru            Vincent Hindriksen    \n",
      "      M. Eric Irrgang            Aleksei Iupinov           Christoph Junghans    \n",
      "         Joe Jordan            Dimitrios Karkoulis            Peter Kasson       \n",
      "         Jiri Kraus              Carsten Kutzner              Per Larsson        \n",
      "      Justin A. Lemkul            Viveca Lindahl            Magnus Lundborg      \n",
      "       Erik Marklund               Pascal Merz             Pieter Meulenhoff     \n",
      "       Teemu Murtola               Szilard Pall               Sander Pronk       \n",
      "       Roland Schulz              Michael Shirts            Alexey Shvetsov      \n",
      "       Alfons Sijbers             Peter Tieleman              Jon Vincent        \n",
      "      Teemu Virolainen          Christian Wennberg            Maarten Wolf       \n",
      "       Artem Zhmurov       \n",
      "                           and the project leaders:\n",
      "        Mark Abraham, Berk Hess, Erik Lindahl, and David van der Spoel\n",
      "\n",
      "Copyright (c) 1991-2000, University of Groningen, The Netherlands.\n",
      "Copyright (c) 2001-2019, The GROMACS development team at\n",
      "Uppsala University, Stockholm University and\n",
      "the Royal Institute of Technology, Sweden.\n",
      "check out http://www.gromacs.org for more information.\n",
      "\n",
      "GROMACS is free software; you can redistribute it and/or modify it\n",
      "under the terms of the GNU Lesser General Public License\n",
      "as published by the Free Software Foundation; either version 2.1\n",
      "of the License, or (at your option) any later version.\n",
      "\n",
      "GROMACS:      gmx wham, version 2022-beta1-dev-20211011-6062d391a3\n",
      "Executable:   /root/build/bin/gmx_cp2k\n",
      "Data prefix:  /root/gromacs (source tree)\n",
      "Working dir:  /mnt/i/Presentations/CSC-AWH-tutorial-2022/tutorial/data/DA-us/profile100fs\n",
      "Command line:\n",
      "  gmx_cp2k wham -it tpr-files.dat -ix pullx-files.dat -o -hist -unit kJ -min 0.14 -max 0.45 -b 0 -bins 20\n",
      "\n",
      "Note: min and max given, switching off -auto.\n",
      "Found 21 tpr and 21 pull position files in tpr-files.dat and pullx-files.dat, respectively\n",
      "Reading 21 tpr and pullf files\n",
      "Reading file md-us0.tpr, VERSION 2022-beta1-dev-20211110-f80ac7c118-dirty (double precision)\n",
      "\n",
      "-------------------------------------------------------\n",
      "Program:     gmx wham, version 2022-beta1-dev-20211011-6062d391a3\n",
      "Source file: src/gromacs/fileio/tpxio.cpp (line 2791)\n",
      "\n",
      "Fatal error:\n",
      "reading tpx file (md-us0.tpr) version 127 with version 125 program\n",
      "\n",
      "For more information and tips for troubleshooting, please check the GROMACS\n",
      "website at http://www.gromacs.org/Documentation/Errors\n",
      "-------------------------------------------------------\n",
      "/mnt/i/Presentations/CSC-AWH-tutorial-2022/tutorial/data/DA-us\n"
     ]
    }
   ],
   "source": [
    "%cd profile100fs\n",
    "!ls pullx* >pullx-files.dat\n",
    "!ls *.tpr  >tpr-files.dat\n",
    "!gmx_cp2k wham -it tpr-files.dat -ix pullx-files.dat -o -hist -unit kJ -min 0.14 -max 0.45 -b 0 -bins 20\n",
    "%cd .."
   ]
  },
  {
   "cell_type": "markdown",
   "metadata": {},
   "source": [
    "Lets plot the resulting profile:"
   ]
  },
  {
   "cell_type": "code",
   "execution_count": 12,
   "metadata": {},
   "outputs": [
    {
     "data": {
      "text/plain": [
       "<matplotlib.lines.Line2D at 0x7fe8e9c27490>"
      ]
     },
     "execution_count": 12,
     "metadata": {},
     "output_type": "execute_result"
    },
    {
     "data": {
      "image/png": "[encoded data removed]",
      "text/plain": [
       "<Figure size 432x288 with 1 Axes>"
      ]
     },
     "metadata": {
      "needs_background": "light"
     },
     "output_type": "display_data"
    }
   ],
   "source": [
    "import pandas as pd\n",
    "df = pd.read_csv(\"./profile100fs/profile.xvg\", sep='\\s+', header=17, names=['distance','energy'])\n",
    "mine = min(df[['energy']].to_numpy()[5:])\n",
    "df['energy'] -= mine\n",
    "ax = df.plot('distance',xlabel='distance, nm', ylabel='energy, kJ/mol', legend=False)\n",
    "ax.grid(True, which='both', linestyle='--')\n",
    "ax.axhline(y=0, color='k', linewidth=0.5)"
   ]
  },
  {
   "cell_type": "markdown",
   "metadata": {},
   "source": [
    "And coordinate distribution in each umbrellla window:"
   ]
  },
  {
   "cell_type": "code",
   "execution_count": 33,
   "metadata": {},
   "outputs": [
    {
     "data": {
      "text/plain": [
       "<matplotlib.lines.Line2D at 0x7fe8dbca6af0>"
      ]
     },
     "execution_count": 33,
     "metadata": {},
     "output_type": "execute_result"
    },
    {
     "data": {
      "image/png": "[encoded data removed]",
      "text/plain": [
       "<Figure size 432x288 with 1 Axes>"
      ]
     },
     "metadata": {
      "needs_background": "light"
     },
     "output_type": "display_data"
    }
   ],
   "source": [
    "import pandas as pd\n",
    "df = pd.read_csv(\"./profile100fs/histo.xvg\", sep='\\s+', header=17)\n",
    "ax = df.plot(x=0, xlabel='distance, nm', ylabel='count', legend=False)\n",
    "ax.grid(True, which='both', linestyle='--')\n",
    "ax.axhline(y=0, color='k', linewidth=0.5)"
   ]
  },
  {
   "cell_type": "markdown",
   "metadata": {},
   "source": [
    "They look really bad, especially if you compare profile with the one obtained with simple minimizations! That why umbrella sampling is very dependent on the understanding of method. For example, if you look into profile and histograms generated from 10 ps (10000 steps) trajectories it will look much better:"
   ]
  },
  {
   "cell_type": "code",
   "execution_count": 32,
   "metadata": {
    "scrolled": false
   },
   "outputs": [
    {
     "data": {
      "text/plain": [
       "<matplotlib.lines.Line2D at 0x7fe8dbce1100>"
      ]
     },
     "execution_count": 32,
     "metadata": {},
     "output_type": "execute_result"
    },
    {
     "data": {
      "image/png": "[encoded data removed]",
      "text/plain": [
       "<Figure size 432x288 with 1 Axes>"
      ]
     },
     "metadata": {
      "needs_background": "light"
     },
     "output_type": "display_data"
    }
   ],
   "source": [
    "import pandas as pd\n",
    "df = pd.read_csv(rdir + \"/reference-data/DA-us/profile10ps.xvg\", sep='\\s+', header=17, names=['distance','energy'])\n",
    "mine = min(df[['energy']].to_numpy()[10:])\n",
    "df['energy'] -= mine\n",
    "ax = df.plot('distance',xlabel='distance, nm', ylabel='energy, kJ/mol', legend=False)\n",
    "ax.grid(True, which='both', linestyle='--')\n",
    "ax.axhline(y=0, color='k', linewidth=0.5)\n"
   ]
  },
  {
   "cell_type": "code",
   "execution_count": 34,
   "metadata": {},
   "outputs": [
    {
     "data": {
      "text/plain": [
       "<matplotlib.lines.Line2D at 0x7fe8dbc744c0>"
      ]
     },
     "execution_count": 34,
     "metadata": {},
     "output_type": "execute_result"
    },
    {
     "data": {
      "image/png": "[encoded data removed]",
      "text/plain": [
       "<Figure size 432x288 with 1 Axes>"
      ]
     },
     "metadata": {
      "needs_background": "light"
     },
     "output_type": "display_data"
    }
   ],
   "source": [
    "df = pd.read_csv(rdir + \"/reference-data/DA-us/histo10ps.xvg\", sep='\\s+', header=17)\n",
    "ax = df.plot(x=0, xlabel='distance, nm', ylabel='count', legend=False)\n",
    "ax.grid(True, which='both', linestyle='--')\n",
    "ax.axhline(y=0, color='k', linewidth=0.5)"
   ]
  },
  {
   "cell_type": "markdown",
   "metadata": {},
   "source": [
    "And finally lets compare all energy profiles obtained so far:"
   ]
  },
  {
   "cell_type": "code",
   "execution_count": 35,
   "metadata": {},
   "outputs": [
    {
     "data": {
      "text/plain": [
       "<matplotlib.lines.Line2D at 0x7fe8dba93c10>"
      ]
     },
     "execution_count": 35,
     "metadata": {},
     "output_type": "execute_result"
    },
    {
     "data": {
      "image/png": "[encoded data removed]",
      "text/plain": [
       "<Figure size 432x288 with 1 Axes>"
      ]
     },
     "metadata": {
      "needs_background": "light"
     },
     "output_type": "display_data"
    }
   ],
   "source": [
    "import pandas as pd\n",
    "df = pd.read_csv(rdir + \"/reference-data/DA-us/profile10ps.xvg\", sep='\\s+', header=17, names=['distance','energy10ps'])\n",
    "mine = min(df[['energy10ps']].to_numpy()[10:])\n",
    "df['energy10ps'] -= mine\n",
    "ax = df.plot('distance',xlabel='distance, nm', ylabel='energy, kJ/mol')\n",
    "\n",
    "df100fs = pd.read_csv(\"./profile100fs/profile.xvg\", sep='\\s+', header=17, names=['distance','energy100fs'])\n",
    "mine = min(df100fs[['energy100fs']].to_numpy()[5:])\n",
    "df100fs['energy100fs'] -= mine\n",
    "df100fs.plot('distance', ax=ax)\n",
    "\n",
    "dfopt = pd.read_csv(rdir + \"/reference-data/DA-opt/rsurf.xvg\", sep='\\s+', header=None, names=['distance','energy-opt'])\n",
    "mine = min(dfopt[['energy-opt']].to_numpy()[20:])\n",
    "dfopt['energy-opt'] -= mine\n",
    "dfopt.plot('distance', ax=ax)\n",
    "\n",
    "ax.grid(True, which='both', linestyle='--')\n",
    "ax.axhline(y=0, color='k', linewidth=0.5)"
   ]
  },
  {
   "cell_type": "markdown",
   "metadata": {},
   "source": [
    "As a final remark for this part: free-energy profile could differ from the potential energy surface quiet a lot. However, to sample free-energy properly, a lot computing resources needed. To make 10 ps profile in total 210 ps of simulations (21 frames * 10 ps) have been performed. That took around 252 ode/hours (10080 CPU/hours). In addition, user need to decide on the quality of sampling and when to stop simulations."
   ]
  },
  {
   "cell_type": "markdown",
   "metadata": {
    "nbpresent": {
     "id": "21e7a22b-6304-496d-8a9d-dfec05a513f6"
    }
   },
   "source": [
    "# Free-energy profile simulation: AWH"
   ]
  },
  {
   "cell_type": "markdown",
   "metadata": {},
   "source": [
    "In this part we will apply more advanced enhanced simulation technique Accelerated Weight Histogram (AWH), which to a large extent, helps with sampling issues by applying bias, that changes in time with more data gathered. The AWH calculates the PMF along a reaction coordinate by adding an adaptively determined biasing potential. AWH flattens free energy barriers along the reaction coordinate by applying a history-dependent potential to the system that “fills up” free energy minima. This is similar in spirit to other adaptive biasing potential methods, e.g. adaptive biasing force (ABF) and metadynamics methods."
   ]
  },
  {
   "cell_type": "code",
   "execution_count": 9,
   "metadata": {},
   "outputs": [
    {
     "name": "stdout",
     "output_type": "stream",
     "text": [
      "/mnt/i/Presentations/CSC-AWH-tutorial-2022/tutorial/data/DA-awh\n"
     ]
    }
   ],
   "source": [
    "#Go to DA-awh directory\n",
    "%cd ../DA-awh"
   ]
  },
  {
   "cell_type": "markdown",
   "metadata": {},
   "source": [
    "Check *qmmm-awh.mdp* file, especially `awh` and `pull` sections parameters:"
   ]
  },
  {
   "cell_type": "code",
   "execution_count": 11,
   "metadata": {
    "scrolled": true
   },
   "outputs": [
    {
     "name": "stdout",
     "output_type": "stream",
     "text": [
      "title                    = QMMM-awh\r\n",
      "\r\n",
      "integrator               = md\r\n",
      "\r\n",
      "tinit                    = 0\r\n",
      "dt                       = 0.001\r\n",
      "nsteps                   = 100\r\n",
      "\r\n",
      "nstcomm                  = 1\r\n",
      "comm-grps                = system\r\n",
      "\r\n",
      "nstxout                  = 100\r\n",
      "nstvout                  = 100\r\n",
      "nstfout                  = 100\r\n",
      "nstlog                   = 1\r\n",
      "nstenergy                = 1\r\n",
      "nstxtcout                = 100\r\n",
      "xtc-precision            = 1000\r\n",
      "xtc-grps                 = system\r\n",
      "nstcalcenergy            = 1\r\n",
      "energy-grps              = \r\n",
      "\r\n",
      "cutoff-scheme            = verlet\r\n",
      "nstlist                  = 10\r\n",
      "pbc                      = xyz\r\n",
      "periodic-molecules       = no\r\n",
      "verlet-buffer-tolerance  = 0.005\r\n",
      "rlist                    = 1.2\r\n",
      "\r\n",
      "coulombtype              = PME\r\n",
      "coulomb-modifier         = Potential-shift-Verlet\r\n",
      "rcoulomb-switch          = 1.0\r\n",
      "rcoulomb                 = 1.2\r\n",
      "vdwtype                  = Cut-off\r\n",
      "vdw-modifier             = Force-switch\r\n",
      "rvdw-switch              = 1.0\r\n",
      "rvdw                     = 1.2\r\n",
      "\r\n",
      "tcoupl                  = V-rescale     \r\n",
      "tc-grps                 = System\r\n",
      "tau_t                   = 0.1                  ; time constant, in ps\r\n",
      "ref_t                   = 300                  ; reference temperature, one for each group, in K\r\n",
      "\r\n",
      "constraints              = none\r\n",
      "\r\n",
      "; GENERATE VELOCITIES FOR STARTUP RUN\r\n",
      "gen-vel                  = no\r\n",
      "gen-temp                 = 300 \r\n",
      "gen-seed                 = 123456\r\n",
      "\r\n",
      "; Pull code\r\n",
      "pull                    = yes\r\n",
      "pull-ncoords            = 1                    ; only one reaction coordinate\r\n",
      "pull-ngroups            = 2                    ; four groups defining one reaction coordinate\r\n",
      "pull-group1-name        = group1               ; atoms C2 and C3\r\n",
      "pull-group2-name        = group2               ; atoms CA and CD\r\n",
      "pull-coord1-geometry    = distance\r\n",
      "pull-coord1-dim         = Y Y Y\r\n",
      "pull-coord1-groups      = 1 2\r\n",
      "pull-coord1-type         = external-potential  ; Apply the bias using an external module.\r\n",
      "pull-coord1-potential-provider = AWH           ; The external module is called AWH!\r\n",
      "\r\n",
      "pull-nstxout             = 1\r\n",
      "pull-nstfout             = 0\r\n",
      "\r\n",
      "awh                      = yes                 ; AWH on.\r\n",
      "awh-nstout               = 100                 ; Step interval for writing awh*.xvg files.\r\n",
      "awh-nbias                = 1                   ; One bias, could have multiple.\r\n",
      "awh1-ndim                = 1                   ; Dimensionality of the RC, each dimension per pull coordinate.\r\n",
      "awh1-target              = cut-off\r\n",
      "awh1-target-cutoff       = 400\r\n",
      "awh1-dim1-coord-index    = 1                   ; Map RC dimension to pull coordinate index (here 1-->3)\r\n",
      "awh1-dim1-start          = 0.145               ; Sampling interval min value (nm)\r\n",
      "awh1-dim1-end            = 0.4\r\n",
      "awh1-dim1-force-constant = 256000              ; Force constant of the harmonic potential (kJ/(mol*nm^2))\r\n",
      "awh1-dim1-diffusion      = 1e-2                ; Estimate of the diffusion (nm^2/ps)\r\n",
      "awh1-error-init          = 50                \r\n",
      "\r\n",
      "awh-nstsample            = 10\r\n",
      "awh-nsamples-update      = 10\r\n",
      "\r\n",
      "qmmm-cp2k-active         = true\r\n",
      "qmmm-cp2k-qmgroup        = QMatoms\r\n",
      "qmmm-cp2k-qmmethod       = PBE\r\n",
      "qmmm-cp2k-qmcharge       = 0\r\n",
      "qmmm-cp2k-qmmultiplicity = 1\r\n",
      "\r\n",
      "\r\n",
      "\r\n"
     ]
    }
   ],
   "source": [
    "!cat qmmm-awh.mdp"
   ]
  },
  {
   "cell_type": "markdown",
   "metadata": {},
   "source": [
    "Here is some ideas how you should chose AWH parameters for modelling reactions with QM/MM:\n",
    "1. It is better to use **awh1-target = cut-off** and set **awh1-target-cutoff** at least twice higher than expected barrier value.\n",
    "2. Use **awh1-dim1-start** and **awh1-dim1-end*** a bit wider than expected product and reagent minima.\n",
    "3. Force constant **awh1-dim1-force-constant** should be high enough to be able to pull your system between reagents and products. If you observe that system is stuck in the vicinity of reagents when cut-off is reached, then you should increase force constant significantly. However, keep in mind that it is good to have integration time step low enough in comparison to the period of vibration associated with such harmonic oscillator (it should be >= 10 times your trajectory timestep). \n",
    "4. **awh1-error-init** should be between half and quarter of the expected barrier height.\n",
    "5. **awh1-dim1-diffusion** can be as high 1e-3 1e-2 for QM/MM as you could not model (and typically not expecting) large-scale changes in the protein during the reaction.\n",
    "6. Default sampling rate **awh-nstsample = 10** and **awh-nsamples-update = 10** is good foor QM/MM as well. \n",
    "7. QM/MM AWH simulations benefit a lot from using multiwalker AWH (**awh-share-multisim = yes** and **awh1-share-group = 1**). Especially if you start your walkers from both reagents and products sides.\n"
   ]
  },
  {
   "cell_type": "markdown",
   "metadata": {},
   "source": [
    "Keeping that in mind lets make *tpr* file and submit it for simulation:"
   ]
  },
  {
   "cell_type": "code",
   "execution_count": 13,
   "metadata": {},
   "outputs": [
    {
     "name": "stdout",
     "output_type": "stream",
     "text": [
      "        :-) GROMACS - gmx grompp, 2022-beta1-dev-20211011-6062d391a3 (-:\n",
      "\n",
      "                            GROMACS is written by:\n",
      "     Andrey Alekseenko              Emile Apol              Rossen Apostolov     \n",
      "         Paul Bauer           Herman J.C. Berendsen           Par Bjelkmar       \n",
      "       Christian Blau           Viacheslav Bolnykh             Kevin Boyd        \n",
      "     Aldert van Buuren           Rudi van Drunen             Anton Feenstra      \n",
      "        Gaurav Garg            Gilles Gouaillardet             Alan Gray         \n",
      "      Gerrit Groenhof             Anca Hamuraru            Vincent Hindriksen    \n",
      "      M. Eric Irrgang            Aleksei Iupinov           Christoph Junghans    \n",
      "         Joe Jordan            Dimitrios Karkoulis            Peter Kasson       \n",
      "         Jiri Kraus              Carsten Kutzner              Per Larsson        \n",
      "      Justin A. Lemkul            Viveca Lindahl            Magnus Lundborg      \n",
      "       Erik Marklund               Pascal Merz             Pieter Meulenhoff     \n",
      "       Teemu Murtola               Szilard Pall               Sander Pronk       \n",
      "       Roland Schulz              Michael Shirts            Alexey Shvetsov      \n",
      "       Alfons Sijbers             Peter Tieleman              Jon Vincent        \n",
      "      Teemu Virolainen          Christian Wennberg            Maarten Wolf       \n",
      "       Artem Zhmurov       \n",
      "                           and the project leaders:\n",
      "        Mark Abraham, Berk Hess, Erik Lindahl, and David van der Spoel\n",
      "\n",
      "Copyright (c) 1991-2000, University of Groningen, The Netherlands.\n",
      "Copyright (c) 2001-2019, The GROMACS development team at\n",
      "Uppsala University, Stockholm University and\n",
      "the Royal Institute of Technology, Sweden.\n",
      "check out http://www.gromacs.org for more information.\n",
      "\n",
      "GROMACS is free software; you can redistribute it and/or modify it\n",
      "under the terms of the GNU Lesser General Public License\n",
      "as published by the Free Software Foundation; either version 2.1\n",
      "of the License, or (at your option) any later version.\n",
      "\n",
      "GROMACS:      gmx grompp, version 2022-beta1-dev-20211011-6062d391a3\n",
      "Executable:   /root/build/bin/gmx_cp2k\n",
      "Data prefix:  /root/gromacs (source tree)\n",
      "Working dir:  /mnt/i/Presentations/CSC-AWH-tutorial-2022/tutorial/data/DA-awh\n",
      "Command line:\n",
      "  gmx_cp2k grompp -f qmmm-awh.mdp -p topol.top -c conf.gro -n index.ndx -o md-awh.tpr -maxwarn 10\n",
      "\n",
      "Ignoring obsolete mdp entry 'title'\n",
      "Replacing old mdp entry 'nstxtcout' by 'nstxout-compressed'\n",
      "Replacing old mdp entry 'xtc-grps' by 'compressed-x-grps'\n",
      "Replacing old mdp entry 'xtc-precision' by 'compressed-x-precision'\n",
      "Setting the AWH bias MC random seed to 528345055\n",
      "Setting the LD random seed to -142625601\n",
      "\n",
      "Generated 45 of the 45 non-bonded parameter combinations\n",
      "Generating 1-4 interactions: fudge = 0.5\n",
      "\n",
      "Generated 45 of the 45 1-4 parameter combinations\n",
      "\n",
      "Excluding 3 bonded neighbours molecule type 'dat'\n",
      "\n",
      "NOTE 1 [file topol.top, line 15]:\n",
      "  System has non-zero total charge: -1.000000\n",
      "  Total charge should normally be an integer. See\n",
      "  http://www.gromacs.org/Documentation/Floating_Point_Arithmetic\n",
      "  for discussion on how close it should be to an integer.\n",
      "  \n",
      "\n",
      "\n",
      "\n",
      "WARNING 1 [file topol.top, line 15]:\n",
      "  You are using Ewald electrostatics in a system with net charge. This can\n",
      "  lead to severe artifacts, such as ions moving into regions with low\n",
      "  dielectric, due to the uniform background charge. We suggest to\n",
      "  neutralize your system with counter ions, possibly in combination with a\n",
      "  physiological salt concentration.\n",
      "\n",
      "\n",
      "++++ PLEASE READ AND CITE THE FOLLOWING REFERENCE ++++\n",
      "J. S. Hub, B. L. de Groot, H. Grubmueller, G. Groenhof\n",
      "Quantifying Artifacts in Ewald Simulations of Inhomogeneous Systems with a Net\n",
      "Charge\n",
      "J. Chem. Theory Comput. 10 (2014) pp. 381-393\n",
      "-------- -------- --- Thank You --- -------- --------\n",
      "\n",
      "Pull group 1 'group1' has 2 atoms\n",
      "Pull group 2 'group2' has 2 atoms\n",
      "Number of degrees of freedom in T-Coupling group System is 111.00\n",
      "\n",
      "QMMM Interface with CP2K is active, topology was modified!\n",
      "Number of QM atoms: 23\n",
      "Number of MM atoms: 15\n",
      "Total charge of the classical system (before modifications): -1.00000\n",
      "Classical charge removed from QM atoms: -0.04300\n",
      "Total charge of QMMM system (after modifications): -0.95700\n",
      "Bonds removed: 93\n",
      "Angles removed: 51\n",
      "Dihedrals removed: 83\n",
      "F_CONNBONDS (type 5 bonds) added: 25\n",
      "QM-MM broken bonds found: 1\n",
      "\n",
      "\n",
      "WARNING 2 [file qmmm-awh.mdp]:\n",
      "  Total charge of your QMMM system differs from classical system! Consider\n",
      "  manually spreading -0.04300 charge over MM atoms nearby to the QM region\n",
      "\n",
      "\n",
      "Determining Verlet buffer for a tolerance of 0.005 kJ/mol/ps at 300 K\n",
      "\n",
      "Calculated rlist for 1x1 atom pair-list as 1.200 nm, buffer size 0.000 nm\n",
      "\n",
      "Set rlist, assuming 4x4 atom pair-list, to 1.200 nm, buffer size 0.000 nm\n",
      "\n",
      "Note that mdrun will redetermine rlist based on the actual pair-list setup\n",
      "Calculating fourier grid dimensions for X Y Z\n",
      "Using a fourier grid of 208x96x128, spacing 0.117 0.110 0.120\n",
      "Pull group  natoms  pbc atom  distance at start  reference at t=0\n",
      "       1         2        14\n",
      "       2         2         1       0.152 nm          0.000 nm\n",
      "\n",
      "Estimate for the relative computational load of the PME mesh part: 1.00\n",
      "\n",
      "NOTE 2 [file qmmm-awh.mdp]:\n",
      "  The optimal PME mesh load for parallel simulations is below 0.5\n",
      "  and for highly parallel simulations between 0.25 and 0.33,\n",
      "  for higher performance, increase the cut-off and the PME grid spacing.\n",
      "\n",
      "\n",
      "\n",
      "This run will generate roughly 0 Mb of data\n",
      "\n",
      "There were 2 notes\n",
      "\n",
      "There were 2 warnings\n",
      "\n",
      "GROMACS reminds you: \"Everybody's Good Enough For Some Change\" (LIVE)\n",
      "\n"
     ]
    }
   ],
   "source": [
    "!gmx_cp2k grompp -f qmmm-awh.mdp -p topol.top -c conf.gro -n index.ndx -o md-awh.tpr -maxwarn 10"
   ]
  },
  {
   "cell_type": "code",
   "execution_count": 14,
   "metadata": {},
   "outputs": [
    {
     "name": "stdout",
     "output_type": "stream",
     "text": [
      "/bin/bash: sbatch: command not found\r\n"
     ]
    }
   ],
   "source": [
    "!sbatch run-awh.sh"
   ]
  },
  {
   "cell_type": "markdown",
   "metadata": {},
   "source": [
    "Wait for simulation to finish, it will take around 15 mins. You can check status by executing the following cell:"
   ]
  },
  {
   "cell_type": "code",
   "execution_count": 18,
   "metadata": {
    "scrolled": true
   },
   "outputs": [
    {
     "name": "stdout",
     "output_type": "stream",
     "text": [
      "/bin/bash: squeue: command not found\r\n"
     ]
    }
   ],
   "source": [
    "!squeue --user=`whoami`"
   ]
  },
  {
   "cell_type": "markdown",
   "metadata": {},
   "source": [
    "To extract AWH data out of the simulation use `gmx awh` tool:"
   ]
  },
  {
   "cell_type": "code",
   "execution_count": 17,
   "metadata": {
    "scrolled": true
   },
   "outputs": [
    {
     "name": "stdout",
     "output_type": "stream",
     "text": [
      "         :-) GROMACS - gmx awh, 2022-beta1-dev-20211011-6062d391a3 (-:\r\n",
      "\r\n",
      "                            GROMACS is written by:\r\n",
      "     Andrey Alekseenko              Emile Apol              Rossen Apostolov     \r\n",
      "         Paul Bauer           Herman J.C. Berendsen           Par Bjelkmar       \r\n",
      "       Christian Blau           Viacheslav Bolnykh             Kevin Boyd        \r\n",
      "     Aldert van Buuren           Rudi van Drunen             Anton Feenstra      \r\n",
      "        Gaurav Garg            Gilles Gouaillardet             Alan Gray         \r\n",
      "      Gerrit Groenhof             Anca Hamuraru            Vincent Hindriksen    \r\n",
      "      M. Eric Irrgang            Aleksei Iupinov           Christoph Junghans    \r\n",
      "         Joe Jordan            Dimitrios Karkoulis            Peter Kasson       \r\n",
      "         Jiri Kraus              Carsten Kutzner              Per Larsson        \r\n",
      "      Justin A. Lemkul            Viveca Lindahl            Magnus Lundborg      \r\n",
      "       Erik Marklund               Pascal Merz             Pieter Meulenhoff     \r\n",
      "       Teemu Murtola               Szilard Pall               Sander Pronk       \r\n",
      "       Roland Schulz              Michael Shirts            Alexey Shvetsov      \r\n",
      "       Alfons Sijbers             Peter Tieleman              Jon Vincent        \r\n",
      "      Teemu Virolainen          Christian Wennberg            Maarten Wolf       \r\n",
      "       Artem Zhmurov       \r\n",
      "                           and the project leaders:\r\n",
      "        Mark Abraham, Berk Hess, Erik Lindahl, and David van der Spoel\r\n",
      "\r\n",
      "Copyright (c) 1991-2000, University of Groningen, The Netherlands.\r\n",
      "Copyright (c) 2001-2019, The GROMACS development team at\r\n",
      "Uppsala University, Stockholm University and\r\n",
      "the Royal Institute of Technology, Sweden.\r\n",
      "check out http://www.gromacs.org for more information.\r\n",
      "\r\n",
      "GROMACS is free software; you can redistribute it and/or modify it\r\n",
      "under the terms of the GNU Lesser General Public License\r\n",
      "as published by the Free Software Foundation; either version 2.1\r\n",
      "of the License, or (at your option) any later version.\r\n",
      "\r\n",
      "GROMACS:      gmx awh, version 2022-beta1-dev-20211011-6062d391a3\r\n",
      "Executable:   /root/build/bin/gmx_cp2k\r\n",
      "Data prefix:  /root/gromacs (source tree)\r\n",
      "Working dir:  /mnt/i/Presentations/CSC-AWH-tutorial-2022/tutorial/data/DA-awh\r\n",
      "Command line:\r\n",
      "  gmx_cp2k awh -s md-awh.tpr -b 0.1 -e 0.101\r\n",
      "\r\n",
      "Opened ener.edr as double precision energy file\r\n",
      "Reading file md-awh.tpr, VERSION 2022-beta1-dev-20211011-6062d391a3 (single precision)\r\n",
      "\r",
      "Reading energy frame      0 time    0.000         \r",
      "Reading energy frame      1 time    0.001         \r",
      "Reading energy frame      2 time    0.002         \r",
      "Reading energy frame      3 time    0.003         \r",
      "Reading energy frame      4 time    0.004         \r",
      "Reading energy frame      5 time    0.005         \r",
      "Reading energy frame      6 time    0.006         \r",
      "Reading energy frame      7 time    0.007         \r",
      "Reading energy frame      8 time    0.008         \r",
      "Reading energy frame      9 time    0.009         \r",
      "Reading energy frame     10 time    0.010         \r",
      "Reading energy frame     11 time    0.011         \r",
      "Reading energy frame     12 time    0.012         \r",
      "Reading energy frame     13 time    0.013         \r",
      "Reading energy frame     14 time    0.014         \r",
      "Reading energy frame     15 time    0.015         \r",
      "Reading energy frame     16 time    0.016         \r",
      "Reading energy frame     17 time    0.017         \r",
      "Reading energy frame     18 time    0.018         \r",
      "Reading energy frame     19 time    0.019         \r",
      "Reading energy frame     20 time    0.020         \r",
      "Reading energy frame     30 time    0.030         \r",
      "Reading energy frame     40 time    0.040         \r",
      "Reading energy frame     50 time    0.050         \r",
      "Reading energy frame     60 time    0.060         \r",
      "Reading energy frame     70 time    0.070         \r",
      "Reading energy frame     80 time    0.080         \r",
      "Reading energy frame     90 time    0.090         \r",
      "Reading energy frame    100 time    0.100         \r\n",
      "Back Off! I just backed up awh_t0.1.xvg to ./#awh_t0.1.xvg.1#\r\n",
      "\r\n",
      "\r\n",
      "GROMACS reminds you: \"Uh-oh, We're In Trouble\" (Shampoo)\r\n",
      "\r\n"
     ]
    }
   ],
   "source": [
    "!gmx_cp2k awh -s md-awh.tpr -b 0.1 -e 0.101"
   ]
  },
  {
   "cell_type": "markdown",
   "metadata": {},
   "source": [
    "Lets plot the free-energy profile and reaction position over the trajectory:"
   ]
  },
  {
   "cell_type": "code",
   "execution_count": 21,
   "metadata": {},
   "outputs": [
    {
     "data": {
      "text/plain": [
       "<matplotlib.lines.Line2D at 0x7fc8f902f2e0>"
      ]
     },
     "execution_count": 21,
     "metadata": {},
     "output_type": "execute_result"
    },
    {
     "data": {
      "image/png": "[encoded data removed]",
      "text/plain": [
       "<Figure size 432x288 with 1 Axes>"
      ]
     },
     "metadata": {
      "needs_background": "light"
     },
     "output_type": "display_data"
    }
   ],
   "source": [
    "import pandas as pd\n",
    "df = pd.read_csv(\"awh_t0.1.xvg\", sep='\\s+', header=26, names=['distance','energy'])\n",
    "mine = min(df[['energy']].to_numpy()[10:])\n",
    "df['energy'] -= mine\n",
    "ax = df.plot('distance',xlabel='distance, nm', ylabel='energy, kJ/mol', legend=False)\n",
    "ax.grid(True, which='both', linestyle='--')\n",
    "ax.axhline(y=0, color='k', linewidth=0.5)"
   ]
  },
  {
   "cell_type": "code",
   "execution_count": 22,
   "metadata": {},
   "outputs": [
    {
     "data": {
      "text/plain": [
       "<matplotlib.lines.Line2D at 0x7fc8f4cd0910>"
      ]
     },
     "execution_count": 22,
     "metadata": {},
     "output_type": "execute_result"
    },
    {
     "data": {
      "image/png": "[encoded data removed]",
      "text/plain": [
       "<Figure size 432x288 with 1 Axes>"
      ]
     },
     "metadata": {
      "needs_background": "light"
     },
     "output_type": "display_data"
    }
   ],
   "source": [
    "import pandas as pd\n",
    "df = pd.read_csv(\"pullx.xvg\", sep='\\s+', header=17, names=['time','distance'])\n",
    "ax = df.plot('time',xlabel='time, ps', ylabel='reaction cooordinate, nm', legend=False)\n",
    "ax.grid(True, which='both', linestyle='--')\n",
    "ax.axhline(y=0, color='k', linewidth=0.5)"
   ]
  },
  {
   "cell_type": "markdown",
   "metadata": {},
   "source": [
    "Not much changed in 100 fs, free-energy has only a small well now. But check how it looks after 35 ps simulation:"
   ]
  },
  {
   "cell_type": "code",
   "execution_count": 53,
   "metadata": {},
   "outputs": [
    {
     "data": {
      "text/plain": [
       "<matplotlib.lines.Line2D at 0x7fc8eee440a0>"
      ]
     },
     "execution_count": 53,
     "metadata": {},
     "output_type": "execute_result"
    },
    {
     "data": {
      "image/png": "[encoded data removed]",
      "text/plain": [
       "<Figure size 432x288 with 1 Axes>"
      ]
     },
     "metadata": {
      "needs_background": "light"
     },
     "output_type": "display_data"
    }
   ],
   "source": [
    "import pandas as pd\n",
    "df = pd.read_csv(rdir + \"/reference-data/DA-awh/awh_t35.xvg\", sep='\\s+', header=30, names=['distance','energy','bias','distribution','distribution1','distribution2','distribution3','distribution4'])\n",
    "mine = min(df[['energy']].to_numpy()[10:])\n",
    "df['energy'] -= mine\n",
    "ax = df.plot(x='distance',y='energy',xlabel='distance, nm', ylabel='energy, kJ/mol', legend=False)\n",
    "ax.grid(True, which='both', linestyle='--')\n",
    "ax.axhline(y=0, color='k', linewidth=0.5)"
   ]
  },
  {
   "cell_type": "markdown",
   "metadata": {},
   "source": [
    "Check also distribution of the reaction cooordinate across whole interval. line `y=1` is a level towards which AWH pushes distribution with bias:"
   ]
  },
  {
   "cell_type": "code",
   "execution_count": 62,
   "metadata": {},
   "outputs": [
    {
     "data": {
      "text/plain": [
       "<matplotlib.lines.Line2D at 0x7fc8ee90f8e0>"
      ]
     },
     "execution_count": 62,
     "metadata": {},
     "output_type": "execute_result"
    },
    {
     "data": {
      "image/png": "[encoded data removed]",
      "text/plain": [
       "<Figure size 432x288 with 1 Axes>"
      ]
     },
     "metadata": {
      "needs_background": "light"
     },
     "output_type": "display_data"
    }
   ],
   "source": [
    "import pandas as pd\n",
    "df = pd.read_csv(rdir + \"/reference-data/DA-awh/awh_t35.xvg\", sep='\\s+', header=30, names=['distance','energy','bias','distribution','distribution1','distribution2','distribution3','distribution4'])\n",
    "ax = df.plot(x='distance',y='distribution',xlabel='distance, nm', ylabel='count', legend=False)\n",
    "ax.grid(True, which='both', linestyle='--')\n",
    "ax.axhline(y=1, color='r', linewidth=1.5)"
   ]
  },
  {
   "cell_type": "markdown",
   "metadata": {},
   "source": [
    "In addition, to be sure about quality of generated profile, you should see repeating transitions of the reaction coordinate between products and reagents and back at the end of AWH trajectory:"
   ]
  },
  {
   "cell_type": "code",
   "execution_count": 64,
   "metadata": {},
   "outputs": [
    {
     "data": {
      "image/png": "[encoded data removed]",
      "text/plain": [
       "<Figure size 432x288 with 1 Axes>"
      ]
     },
     "metadata": {
      "needs_background": "light"
     },
     "output_type": "display_data"
    }
   ],
   "source": [
    "import pandas as pd\n",
    "df = pd.read_csv(rdir + \"/reference-data/DA-awh/pullx35.xvg\", sep='\\s+', header=17, names=['time','coor'])\n",
    "ax = df.plot('time',xlabel='time, ps', ylabel='reaction coordinate, nm', legend=False)\n",
    "ax.grid(True, which='both', linestyle='--')"
   ]
  },
  {
   "cell_type": "markdown",
   "metadata": {},
   "source": [
    "Finally lets compare all obtained profiles:"
   ]
  },
  {
   "cell_type": "code",
   "execution_count": 57,
   "metadata": {},
   "outputs": [
    {
     "data": {
      "text/plain": [
       "<matplotlib.lines.Line2D at 0x7fc8eebb0280>"
      ]
     },
     "execution_count": 57,
     "metadata": {},
     "output_type": "execute_result"
    },
    {
     "data": {
      "image/png": "[encoded data removed]",
      "text/plain": [
       "<Figure size 432x288 with 1 Axes>"
      ]
     },
     "metadata": {
      "needs_background": "light"
     },
     "output_type": "display_data"
    }
   ],
   "source": [
    "import pandas as pd\n",
    "dfus = pd.read_csv(rdir + \"/reference-data/DA-us/profile10ps.xvg\", sep='\\s+', header=17, names=['distance','energy-us210ps'])\n",
    "mine = min(dfus[['energy-us210ps']].to_numpy()[10:])\n",
    "dfus['energy-us210ps'] -= mine\n",
    "ax = dfus.plot('distance',xlabel='distance, nm', ylabel='energy, kJ/mol')\n",
    "\n",
    "dfawh = pd.read_csv(rdir + \"/reference-data/DA-awh/awh_t35.xvg\", sep='\\s+', header=30, names=['distance','energy-awh35ps','bias','distribution','distribution1','distribution2','distribution3','distribution4'])\n",
    "mine = min(dfawh[['energy-awh35ps']].to_numpy()[10:])\n",
    "dfawh['energy-awh35ps'] -= mine\n",
    "dfawh.plot('distance','energy-awh35ps', ax=ax)\n",
    "\n",
    "dfopt = pd.read_csv(rdir + \"/reference-data/DA-opt/rsurf.xvg\", sep='\\s+', header=None, names=['distance','energy-opt'])\n",
    "mine = min(dfopt[['energy-opt']].to_numpy()[20:])\n",
    "dfopt['energy-opt'] -= mine\n",
    "dfopt.plot('distance', ax=ax)\n",
    "\n",
    "ax.grid(True, which='both', linestyle='--')\n",
    "ax.axhline(y=0, color='k', linewidth=0.5)"
   ]
  },
  {
   "cell_type": "markdown",
   "metadata": {},
   "source": [
    "As you may notice AWH profile after 35 ps is already very close to the umbrella sampling result obtained from 210 ps (21 frame * 10 ps) total simulations! That could save you a lot of computing resources when used wisely."
   ]
  }
 ],
 "metadata": {
  "anaconda-cloud": {},
  "kernelspec": {
   "display_name": "Python 3 (ipykernel)",
   "language": "python",
   "name": "python3"
  },
  "language_info": {
   "codemirror_mode": {
    "name": "ipython",
    "version": 3
   },
   "file_extension": ".py",
   "mimetype": "text/x-python",
   "name": "python",
   "nbconvert_exporter": "python",
   "pygments_lexer": "ipython3",
   "version": "3.8.10"
  },
  "nbpresent": {
   "slides": {
    "5ee989b6-b87f-45b2-b186-0f81e2eb6c0e": {
     "id": "5ee989b6-b87f-45b2-b186-0f81e2eb6c0e",
     "prev": null,
     "regions": {
      "1099d9ed-4336-403d-8924-acb02ce1d7c0": {
       "attrs": {
        "height": 0.2,
        "width": 0.4,
        "x": 0.1,
        "y": 0.7
       },
       "id": "1099d9ed-4336-403d-8924-acb02ce1d7c0"
      },
      "159e8040-85d4-4abc-8f26-2cf90a0407d7": {
       "attrs": {
        "height": 0.6,
        "width": 0.8,
        "x": 0.1,
        "y": 0.1
       },
       "id": "159e8040-85d4-4abc-8f26-2cf90a0407d7"
      },
      "d9ecb908-45c1-485f-bb18-bbc91a1fd84e": {
       "attrs": {
        "height": 0.2,
        "width": 0.4,
        "x": 0.5,
        "y": 0.7
       },
       "id": "d9ecb908-45c1-485f-bb18-bbc91a1fd84e"
      }
     }
    }
   },
   "themes": {}
  }
 },
 "nbformat": 4,
 "nbformat_minor": 2
}
