{
 "cells": [
  {
   "cell_type": "code",
   "execution_count": null,
   "metadata": {
    "nbpresent": {
     "id": "57ae234e-1d9a-4341-ae4b-7e2ae3da2144"
    },
    "scrolled": true
   },
   "outputs": [],
   "source": [
    "# Execute this first \n",
    "#\n",
    "#  * Trigger notebook styling\n",
    "#  * Save current directory \n",
    "%run src/init_notebooks.py\n",
    "import os\n",
    "rdir = os.getcwd()"
   ]
  },
  {
   "cell_type": "markdown",
   "metadata": {
    "nbpresent": {
     "id": "dde7b85f-ae2f-42f9-9ebf-58ab93239983"
    }
   },
   "source": [
    "# Molecular dynamics simulation of a small protein using GROMACS "
   ]
  },
  {
   "cell_type": "markdown",
   "metadata": {
    "nbpresent": {
     "id": "59d19417-8116-4511-8fc5-c5abbbfe82b3"
    }
   },
   "source": [
    "    authors  : Dmitry Morozov (based on a Gerrit Groenhof tutorial see http://wwwuser.gwdg.de/~ggroenh/EMBO2004/html/introduction.html ).    \n",
    "    goal     : learn how to explore energy surface of reaction using GROMACS-CP2K QM/MM interface \n",
    "    time     : 60 minutes\n",
    "    software : GROMACS 2022 with CP2K 9.0, python modules: numpy, matplotlib, nglviewer, md_traj, pandas) \n",
    "    optional software: visualization software VMD, Xmgrace plotting tool"
   ]
  },
  {
   "cell_type": "markdown",
   "metadata": {},
   "source": [
    "# Preparations to run this notebook"
   ]
  },
  {
   "cell_type": "code",
   "execution_count": null,
   "metadata": {
    "nbpresent": {
     "id": "cf4e0e9a-6503-430f-8c60-815a9ae22616"
    },
    "scrolled": true
   },
   "outputs": [],
   "source": [
    "# Change to the data directory\n",
    "# Note that executing this command twice will result in an error you can ignore\n",
    "%cd data"
   ]
  },
  {
   "cell_type": "markdown",
   "metadata": {
    "nbpresent": {
     "id": "3d13b2f5-7423-4201-b832-303524849db8"
    }
   },
   "source": [
    "# Input for a simulation"
   ]
  },
  {
   "cell_type": "markdown",
   "metadata": {
    "nbpresent": {
     "id": "40fa54aa-811b-4991-8dcf-3fdc464b1249"
    }
   },
   "source": [
    "In this tutorial we are going to study a catalytic antibody that catalyzes the Diels Alder cyclo-addition reaction shown here. The x-ray structure of the analogue-antibody complex has been determined by Xu et al. (Science 1999, 286, 2345-2348) and is available from the protein databank [1C1E](https://www.rcsb.org/structure/1C1E)."
   ]
  },
  {
   "cell_type": "code",
   "execution_count": null,
   "metadata": {
    "scrolled": true
   },
   "outputs": [],
   "source": [
    "import nglview as ng\n",
    "view = ng.show_structure_file(rdir + \"/reference-data/1c1e.pdb\")\n",
    "view.center(selection='ENH')\n",
    "view\n",
    "\n",
    "# click and drag to rotate, zoom with your mouseweel \n",
    "# for more infor on this viewer have a look at https://github.com/nglviewer/nglview"
   ]
  },
  {
   "cell_type": "markdown",
   "metadata": {},
   "source": [
    "It should be noted that structure contains analogue of the substrate. Real substrate, which will be studied in the tutorial, is looking like that: "
   ]
  },
  {
   "cell_type": "code",
   "execution_count": null,
   "metadata": {
    "scrolled": true
   },
   "outputs": [],
   "source": [
    "import nglview as ng\n",
    "view = ng.show_structure_file(rdir + \"/reference-data/dat.pdb\")\n",
    "view"
   ]
  },
  {
   "cell_type": "markdown",
   "metadata": {
    "nbpresent": {
     "id": "d5d197b7-16ea-4cb7-bc4c-dc18ea76e1d1"
    }
   },
   "source": [
    "# Linear transit scan of the Diels-Alder reaction potential energy surface *in vacuo*"
   ]
  },
  {
   "cell_type": "markdown",
   "metadata": {
    "nbpresent": {
     "id": "992503cc-771a-439b-bae3-3a660a755b7c"
    }
   },
   "source": [
    "Once you've had a look at the system, you are going to want to study it in the vacuum. In the Linear Transit method (also known as Relaxed Surface scan)) a coordinate is choosen along which the reactants are transformed into product. This so called reaction coordinate is varied linearly while all other degrees of freedom are minimized (relaxed). Choosing such reaction coordinate requires some intuition and understanding of the process studied, but is in general easier to chose than a reasonable guess geometry. The concept of the reaction coordinate is best explained by an example. In case of a Diels-Alder cyclo-addition, a good reaction coordinate would be the distance between the two atom pairs that are forming the two new bonds upon reaction:\n",
    "![img](files/images/react-coord.gif)"
   ]
  },
  {
   "cell_type": "markdown",
   "metadata": {},
   "source": [
    "Once the reaction coordinate is choosen, we slowly progress along that coordinate, while minimizing all other degrees of freedom. In practice, the reaction coordinate is constrained or restrained at a number of distances. Afterwards, the potential energy is plotted as a function the reaction coordinate. The maximum of this curve is the transition state and the minima are the reactant and product states.\n",
    "\n",
    "Here we will use the GROMACS QM/MM features to perform a Linear Transit calculation of the Diels-Alder cyclo-addition reaction foor substrate shown above. The -R group, which was missing in the x-ray model and ignored in the previous part of the tutorial, will now be taken into account. Because this group is unlikely to have a large effect on the reaction, we will describe it at the MM level in our model:\n",
    "![img](files/images/qmmm_vac_small.gif)\n",
    "\n",
    "The QM/MM division splits the systems along a chemical bond. Therefore, we need to cap the QM subsystem with a so-called link atom. This link atom is present as a hydrogen atom only at the QM calculation step within CP2K. It is not physically present in the GROMACS system, but the forces on it, that are computed in the QM step, are distributed over the two atoms of the bond. The broken bond length itself is still accounted with MM forecfield during the simulation."
   ]
  },
  {
   "cell_type": "code",
   "execution_count": null,
   "metadata": {
    "nbpresent": {
     "id": "2655e386-be87-4ac5-91ef-9ac4ee9360f9"
    },
    "scrolled": false
   },
   "outputs": [],
   "source": [
    "# Change to the DA-opt directory\n",
    "# Note that executing this command twice will result in an error you can ignore\n",
    "%cd DA-opt"
   ]
  },
  {
   "cell_type": "markdown",
   "metadata": {},
   "source": [
    "### Specifying QM/MM simulation setup"
   ]
  },
  {
   "cell_type": "markdown",
   "metadata": {},
   "source": [
    "Once we have decided which atoms should be treated by a QM method we add these atoms to the index file. We can either use the make_ndx program, or hack the atoms into the index.ndx file ourselves. The index file we will use in this tutorial is found here: "
   ]
  },
  {
   "cell_type": "code",
   "execution_count": null,
   "metadata": {
    "scrolled": true
   },
   "outputs": [],
   "source": [
    "!cat index.ndx"
   ]
  },
  {
   "cell_type": "markdown",
   "metadata": {},
   "source": [
    "Atoms that will be treated at the QM level are defined in **[ QMatoms ]** group. Check also **[ group1 ]** and **[ group2 ]** as they define distance between pairs of atoms that would define our reaction coordinate in further simulations. \n",
    "Next we should request GROMACS to perform QM/MM simulation, that is done by specifying several parameters in the *.mdp* file:"
   ]
  },
  {
   "cell_type": "code",
   "execution_count": null,
   "metadata": {
    "scrolled": true
   },
   "outputs": [],
   "source": [
    "!cat LT.mdp"
   ]
  },
  {
   "cell_type": "markdown",
   "metadata": {},
   "source": [
    "- **qmmm-cp2k-active         = true** - activates QM/MM MDModule\n",
    "- **qmmm-cp2k-qmgroup        = QMatoms** - specifies group of atoms, that should be treated with QM\n",
    "- **qmmm-cp2k-qmmethod       = PBE** - specifies QM method to be used\n",
    "- **qmmm-cp2k-qmcharge       = 0** - total charge of QM system\n",
    "- **qmmm-cp2k-qmmultiplicity = 1** - total multiplicity of QM system (singlet here)\n",
    "\n",
    "\n",
    "In all other points this is typical minimization run using steepest descent intergator"
   ]
  },
  {
   "cell_type": "markdown",
   "metadata": {},
   "source": [
    "Now take a look into the topology of substrate:"
   ]
  },
  {
   "cell_type": "code",
   "execution_count": null,
   "metadata": {
    "scrolled": true
   },
   "outputs": [],
   "source": [
    "!cat dat.itp"
   ]
  },
  {
   "cell_type": "markdown",
   "metadata": {},
   "source": [
    "At the end of file two constraint have been specified like that:\n",
    "```\n",
    "[ constraints ]\n",
    "     1     14      1  @LEN@  \n",
    "     7     16      1  @LEN@  \n",
    "```\n",
    "They will represent our reaction coordinate and `@LEN@` will be replaced with the specific number at each individual minimization run during the simulation."
   ]
  },
  {
   "cell_type": "markdown",
   "metadata": {},
   "source": [
    "### Running PES scan simulation"
   ]
  },
  {
   "cell_type": "markdown",
   "metadata": {},
   "source": [
    "Lets also look into the simulation batch script, that will be submited for computation:"
   ]
  },
  {
   "cell_type": "code",
   "execution_count": null,
   "metadata": {
    "scrolled": true
   },
   "outputs": [],
   "source": [
    "!cat run-surface.sh"
   ]
  },
  {
   "cell_type": "markdown",
   "metadata": {},
   "source": [
    "It will loop over the reaction coordiante distance replacing `@LEN` using `sed` in the topology and performing simulation with `srun` command in separate directory. After the simulation it gathers data about final energy and reaction coordinate value into the *rsurf.xvg* file. Now lets submit our jobs to the cluster:"
   ]
  },
  {
   "cell_type": "code",
   "execution_count": null,
   "metadata": {
    "scrolled": true
   },
   "outputs": [],
   "source": [
    "!sbatch run-surface.sh"
   ]
  },
  {
   "cell_type": "markdown",
   "metadata": {},
   "source": [
    "You can always check status of your job with `squeue` command:"
   ]
  },
  {
   "cell_type": "code",
   "execution_count": null,
   "metadata": {
    "scrolled": true
   },
   "outputs": [],
   "source": [
    "!squeue --user=`whoami`"
   ]
  },
  {
   "cell_type": "markdown",
   "metadata": {},
   "source": [
    "This job should have name **rsurface**. "
   ]
  },
  {
   "cell_type": "markdown",
   "metadata": {},
   "source": [
    "As the full job takes more time than, 10 minutes specified in the batch script, we have prepared sample *rsurf.xvg* file with a profile, that it would produce. One could plot data from that using Python:"
   ]
  },
  {
   "cell_type": "code",
   "execution_count": null,
   "metadata": {
    "scrolled": true
   },
   "outputs": [],
   "source": [
    "import pandas as pd\n",
    "df = pd.read_csv(rdir + \"/reference-data/DA-opt/rsurf.xvg\", sep='\\s+', header=None, names=['distance','energy'])\n",
    "mine = min(df[['energy']].to_numpy()[20:])\n",
    "df['energy'] -= mine\n",
    "ax = df.plot('distance',xlabel='distance, nm', ylabel='energy, kJ/mol', legend=False)\n",
    "ax.grid(True, which='both', linestyle='--')\n",
    "ax.axhline(y=0, color='k', linewidth=0.5)"
   ]
  },
  {
   "cell_type": "markdown",
   "metadata": {},
   "source": [
    "And you can also calculate TS and Products energy with respect to reagents:"
   ]
  },
  {
   "cell_type": "code",
   "execution_count": null,
   "metadata": {},
   "outputs": [],
   "source": [
    "print(f\"TS Energy = {df['energy'].loc[10:].max():.3f} kJ/mol at distance {df['distance'][df['energy'].loc[10:].idxmax()]:.3f} nm\")\n",
    "print(f\"Products energy = {df['energy'].min():.3f} kJ/mol at distance {df['distance'][df['energy'].idxmin()]:.3f} nm\")"
   ]
  },
  {
   "cell_type": "markdown",
   "metadata": {},
   "source": [
    "There is also an animation of the optimized reaction pathway:"
   ]
  },
  {
   "cell_type": "code",
   "execution_count": null,
   "metadata": {
    "scrolled": true
   },
   "outputs": [],
   "source": [
    "import nglview as ng \n",
    "import mdtraj as md\n",
    "traj = md.load(rdir + \"/reference-data/DA-opt/traj_opt.pdb\", top=rdir + \"/reference-data/dat.pdb\")\n",
    "view = ng.show_mdtraj(traj)\n",
    "pair = [ [ 1, 7 ] ]\n",
    "view.add_distance(atom_pair=[[\"@13\",\"@0\"]], label_visible=True, label_color=0x0)\n",
    "view.add_distance(atom_pair=[[\"@15\",\"@6\"]], label_visible=True, label_color=0x0)\n",
    "view"
   ]
  },
  {
   "cell_type": "markdown",
   "metadata": {},
   "source": [
    "Wait until that job finish before going to the next part of the tutorial. You can re-run the following cell to update information about its status:"
   ]
  },
  {
   "cell_type": "code",
   "execution_count": null,
   "metadata": {},
   "outputs": [],
   "source": [
    "!squeue --user=`whoami`"
   ]
  },
  {
   "cell_type": "markdown",
   "metadata": {},
   "source": [
    "# Free-energy profile simulation: umbrella sampling "
   ]
  },
  {
   "cell_type": "markdown",
   "metadata": {},
   "source": [
    "To account for the entropy effect on the reaction profile one typically would like to perform free-energy profile simulation instead of a normal. One of the most wide-spread methods nowadays is called Umbrella Sampling simulations:\n",
    "![img](files/images/umbrella-sampling.png)\n",
    "\n",
    "It requires to perform a set of biased simulations of your system in a presence of external potential (usually harmonic) that will drive sampling of the whole reaction coordinate space by pulling system towards particular point for each individual simulation. It is important that:\n",
    "1. There is sufficient overlap between coordinate distributions of individual windows (like show on the figure above)\n",
    "2. Distributions in each window should be as close to gaussian as possible\n",
    "\n",
    "GROMACS has capabilities to perform such simulations using pulling module in combination with **`gmx wham`** command-line utility. Lets perform that kind of free-energy simulation for the same Diels-Alder reaction as studied above.\n"
   ]
  },
  {
   "cell_type": "code",
   "execution_count": null,
   "metadata": {
    "scrolled": true
   },
   "outputs": [],
   "source": [
    "#Go to DA-us directory\n",
    "%cd ../DA-us"
   ]
  },
  {
   "cell_type": "markdown",
   "metadata": {},
   "source": [
    "Here is the same index file as used in previous exercise:"
   ]
  },
  {
   "cell_type": "code",
   "execution_count": null,
   "metadata": {
    "nbpresent": {
     "id": "345d6e37-b392-4f54-b2ed-4d19f5c13b3d"
    }
   },
   "outputs": [],
   "source": [
    "!cat index.ndx"
   ]
  },
  {
   "cell_type": "markdown",
   "metadata": {
    "nbpresent": {
     "id": "345d6e37-b392-4f54-b2ed-4d19f5c13b3d"
    }
   },
   "source": [
    "And topology of the molecule that is the same except of removed `[ constraints ]` section (we will use harmonic potential to bias the system):"
   ]
  },
  {
   "cell_type": "code",
   "execution_count": null,
   "metadata": {
    "scrolled": true
   },
   "outputs": [],
   "source": [
    "!cat dat.itp"
   ]
  },
  {
   "cell_type": "markdown",
   "metadata": {},
   "source": [
    "Now lets look into the *qmmm-umbrella.mdp* file:"
   ]
  },
  {
   "cell_type": "code",
   "execution_count": null,
   "metadata": {
    "scrolled": true
   },
   "outputs": [],
   "source": [
    "!cat qmmm-umbrella.mdp"
   ]
  },
  {
   "cell_type": "markdown",
   "metadata": {},
   "source": [
    "Please check `pull` section, it contains parameters of harmonic potential, which we will apply for our system. We will use pre-equilibrated gro file as a starting structure. All that starting point have been created by pulling the system through the whole coordinate space from 0.15 to 0.53 nm over 10 ps with QM/MM simulation and extracting 21 equally spaced frames from that trajectory."
   ]
  },
  {
   "cell_type": "code",
   "execution_count": null,
   "metadata": {},
   "outputs": [],
   "source": [
    "!cp eq_gro/md_eq10.gro conf.gro"
   ]
  },
  {
   "cell_type": "markdown",
   "metadata": {},
   "source": [
    "Now lets generate *topol.tpr* file:"
   ]
  },
  {
   "cell_type": "code",
   "execution_count": null,
   "metadata": {},
   "outputs": [],
   "source": [
    "!gmx_cp2k grompp -f qmmm-umbrella.mdp -p topol.top -c conf.gro -n index.ndx -o md-us10.tpr -maxwarn 10"
   ]
  },
  {
   "cell_type": "markdown",
   "metadata": {},
   "source": [
    "And submit it for simulation:"
   ]
  },
  {
   "cell_type": "code",
   "execution_count": null,
   "metadata": {},
   "outputs": [],
   "source": [
    "!sbatch run-us.sh"
   ]
  },
  {
   "cell_type": "markdown",
   "metadata": {},
   "source": [
    "Now you will need to wait for 10-15 minutes until simulation is finished. You can check status by executing the following cell:"
   ]
  },
  {
   "cell_type": "code",
   "execution_count": null,
   "metadata": {
    "scrolled": true
   },
   "outputs": [],
   "source": [
    "!squeue --user=`whoami`"
   ]
  },
  {
   "cell_type": "markdown",
   "metadata": {},
   "source": [
    "After that, lets add data from your simulation to another 20 simulations of frames in the *profile100fs* directory. Here we have pre-computed them for you, but typically you would need to perform all of them one-by-one or in parallel, depending on your resources."
   ]
  },
  {
   "cell_type": "code",
   "execution_count": null,
   "metadata": {},
   "outputs": [],
   "source": [
    "!cp pullx.xvg profile100fs/pullx10.xvg\n",
    "!cp md-us10.tpr profile100fs/md-us10.tpr\n"
   ]
  },
  {
   "cell_type": "markdown",
   "metadata": {},
   "source": [
    "Then go to profile100fs directory and perform integration of the profile using `gmx wham` tool::"
   ]
  },
  {
   "cell_type": "code",
   "execution_count": null,
   "metadata": {
    "scrolled": true
   },
   "outputs": [],
   "source": [
    "%cd profile100fs\n",
    "!ls pullx* >pullx-files.dat\n",
    "!ls *.tpr  >tpr-files.dat\n",
    "!gmx_cp2k wham -it tpr-files.dat -ix pullx-files.dat -o -hist -unit kJ -min 0.14 -max 0.45 -b 0 -bins 20\n",
    "%cd .."
   ]
  },
  {
   "cell_type": "markdown",
   "metadata": {},
   "source": [
    "Lets plot the resulting profile:"
   ]
  },
  {
   "cell_type": "code",
   "execution_count": null,
   "metadata": {},
   "outputs": [],
   "source": [
    "import pandas as pd\n",
    "df = pd.read_csv(\"./profile100fs/profile.xvg\", sep='\\s+', header=17, names=['distance','energy'])\n",
    "mine = min(df[['energy']].to_numpy()[5:])\n",
    "df['energy'] -= mine\n",
    "ax = df.plot('distance',xlabel='distance, nm', ylabel='energy, kJ/mol', legend=False)\n",
    "ax.grid(True, which='both', linestyle='--')\n",
    "ax.axhline(y=0, color='k', linewidth=0.5)"
   ]
  },
  {
   "cell_type": "markdown",
   "metadata": {},
   "source": [
    "And coordinate distribution in each umbrellla window:"
   ]
  },
  {
   "cell_type": "code",
   "execution_count": null,
   "metadata": {},
   "outputs": [],
   "source": [
    "import pandas as pd\n",
    "df = pd.read_csv(\"./profile100fs/histo.xvg\", sep='\\s+', header=17)\n",
    "ax = df.plot(x=0, xlabel='distance, nm', ylabel='count', legend=False)\n",
    "ax.grid(True, which='both', linestyle='--')\n",
    "ax.axhline(y=0, color='k', linewidth=0.5)"
   ]
  },
  {
   "cell_type": "markdown",
   "metadata": {},
   "source": [
    "They look really bad, especially if you compare profile with the one obtained with simple minimizations! That why umbrella sampling is very dependent on the understanding of method. For example, if you look into profile and histograms generated from 10 ps (10000 steps) trajectories it will look much better:"
   ]
  },
  {
   "cell_type": "code",
   "execution_count": null,
   "metadata": {
    "scrolled": false
   },
   "outputs": [],
   "source": [
    "import pandas as pd\n",
    "df = pd.read_csv(rdir + \"/reference-data/DA-us/profile10ps.xvg\", sep='\\s+', header=17, names=['distance','energy'])\n",
    "mine = min(df[['energy']].to_numpy()[10:])\n",
    "df['energy'] -= mine\n",
    "ax = df.plot('distance',xlabel='distance, nm', ylabel='energy, kJ/mol', legend=False)\n",
    "ax.grid(True, which='both', linestyle='--')\n",
    "ax.axhline(y=0, color='k', linewidth=0.5)\n"
   ]
  },
  {
   "cell_type": "code",
   "execution_count": null,
   "metadata": {},
   "outputs": [],
   "source": [
    "df = pd.read_csv(rdir + \"/reference-data/DA-us/histo10ps.xvg\", sep='\\s+', header=17)\n",
    "ax = df.plot(x=0, xlabel='distance, nm', ylabel='count', legend=False)\n",
    "ax.grid(True, which='both', linestyle='--')\n",
    "ax.axhline(y=0, color='k', linewidth=0.5)"
   ]
  },
  {
   "cell_type": "markdown",
   "metadata": {},
   "source": [
    "And finally lets compare all energy profiles obtained so far:"
   ]
  },
  {
   "cell_type": "code",
   "execution_count": null,
   "metadata": {},
   "outputs": [],
   "source": [
    "import pandas as pd\n",
    "df = pd.read_csv(rdir + \"/reference-data/DA-us/profile10ps.xvg\", sep='\\s+', header=17, names=['distance','energy10ps'])\n",
    "mine = min(df[['energy10ps']].to_numpy()[10:])\n",
    "df['energy10ps'] -= mine\n",
    "ax = df.plot('distance',xlabel='distance, nm', ylabel='energy, kJ/mol')\n",
    "\n",
    "df100fs = pd.read_csv(\"./profile100fs/profile.xvg\", sep='\\s+', header=17, names=['distance','energy100fs'])\n",
    "mine = min(df100fs[['energy100fs']].to_numpy()[5:])\n",
    "df100fs['energy100fs'] -= mine\n",
    "df100fs.plot('distance', ax=ax)\n",
    "\n",
    "dfopt = pd.read_csv(rdir + \"/reference-data/DA-opt/rsurf.xvg\", sep='\\s+', header=None, names=['distance','energy-opt'])\n",
    "mine = min(dfopt[['energy-opt']].to_numpy()[20:])\n",
    "dfopt['energy-opt'] -= mine\n",
    "dfopt.plot('distance', ax=ax)\n",
    "\n",
    "ax.grid(True, which='both', linestyle='--')\n",
    "ax.axhline(y=0, color='k', linewidth=0.5)"
   ]
  },
  {
   "cell_type": "markdown",
   "metadata": {},
   "source": [
    "As a final remark for this part: free-energy profile could differ from the potential energy surface quiet a lot. However, to sample free-energy properly, a lot computing resources needed. To make 10 ps profile in total 210 ps of simulations (21 frames * 10 ps) have been performed. That took around 252 node/hours (10080 CPU/hours). In addition, user need to decide on the quality of sampling and when to stop simulations."
   ]
  },
  {
   "cell_type": "markdown",
   "metadata": {
    "nbpresent": {
     "id": "21e7a22b-6304-496d-8a9d-dfec05a513f6"
    }
   },
   "source": [
    "# Free-energy profile simulation: AWH"
   ]
  },
  {
   "cell_type": "markdown",
   "metadata": {},
   "source": [
    "In this part we will apply more advanced enhanced simulation technique Accelerated Weight Histogram (AWH), which to a large extent, helps with sampling issues by applying bias, that changes in time with more data gathered. The AWH calculates the PMF along a reaction coordinate by adding an adaptively determined biasing potential. AWH flattens free energy barriers along the reaction coordinate by applying a history-dependent potential to the system that “fills up” free energy minima. This is similar in spirit to other adaptive biasing potential methods, e.g. adaptive biasing force (ABF) and metadynamics methods."
   ]
  },
  {
   "cell_type": "code",
   "execution_count": null,
   "metadata": {},
   "outputs": [],
   "source": [
    "#Go to DA-awh directory\n",
    "%cd ../DA-awh"
   ]
  },
  {
   "cell_type": "markdown",
   "metadata": {},
   "source": [
    "Check *qmmm-awh.mdp* file, especially `awh` and `pull` sections parameters:"
   ]
  },
  {
   "cell_type": "code",
   "execution_count": null,
   "metadata": {
    "scrolled": true
   },
   "outputs": [],
   "source": [
    "!cat qmmm-awh.mdp"
   ]
  },
  {
   "cell_type": "markdown",
   "metadata": {},
   "source": [
    "Here is some ideas how you should chose AWH parameters for modelling reactions with QM/MM:\n",
    "1. It is better to use **awh1-target = cut-off** and set **awh1-target-cutoff** at least twice higher than expected barrier value.\n",
    "2. Use **awh1-dim1-start** and **awh1-dim1-end** a bit wider than expected product and reagent minima.\n",
    "3. Force constant **awh1-dim1-force-constant** should be high enough to be able to pull your system between reagents and products. If you observe that system is stuck in the vicinity of reagents when cut-off is reached, then you should increase force constant significantly. However, keep in mind that it is good to have integration time step low enough in comparison to the period of vibration associated with such harmonic oscillator (it should be >= 10 times your trajectory timestep). \n",
    "4. **awh1-error-init** should be between half and quarter of the expected barrier height.\n",
    "5. **awh1-dim1-diffusion** can be as high 1e-3 or 1e-2 for QM/MM as you could not model (and typically not expecting) large-scale changes in the protein during the reaction.\n",
    "6. Default sampling rate **awh-nstsample = 10** and **awh-nsamples-update = 10** is good for QM/MM as well. \n",
    "7. QM/MM AWH simulations benefit a lot from using multiwalker AWH (**awh-share-multisim = yes** and **awh1-share-group = 1**). Especially if you start your walkers from both reagents and products sides.\n"
   ]
  },
  {
   "cell_type": "markdown",
   "metadata": {},
   "source": [
    "Keeping that in mind lets make *tpr* file and submit it for simulation:"
   ]
  },
  {
   "cell_type": "code",
   "execution_count": null,
   "metadata": {},
   "outputs": [],
   "source": [
    "!gmx_cp2k grompp -f qmmm-awh.mdp -p topol.top -c conf.gro -n index.ndx -o md-awh.tpr -maxwarn 10"
   ]
  },
  {
   "cell_type": "code",
   "execution_count": null,
   "metadata": {},
   "outputs": [],
   "source": [
    "!sbatch run-awh.sh"
   ]
  },
  {
   "cell_type": "markdown",
   "metadata": {},
   "source": [
    "Wait for simulation to finish, it will take around 15 mins. You can check status by executing the following cell:"
   ]
  },
  {
   "cell_type": "code",
   "execution_count": null,
   "metadata": {
    "scrolled": true
   },
   "outputs": [],
   "source": [
    "!squeue --user=`whoami`"
   ]
  },
  {
   "cell_type": "markdown",
   "metadata": {},
   "source": [
    "To extract AWH data out of the simulation use `gmx awh` tool:"
   ]
  },
  {
   "cell_type": "code",
   "execution_count": null,
   "metadata": {
    "scrolled": true
   },
   "outputs": [],
   "source": [
    "!gmx_cp2k awh -s md-awh.tpr -b 0.1 -e 0.101"
   ]
  },
  {
   "cell_type": "markdown",
   "metadata": {},
   "source": [
    "Lets plot the free-energy profile and reaction position over the trajectory:"
   ]
  },
  {
   "cell_type": "code",
   "execution_count": null,
   "metadata": {},
   "outputs": [],
   "source": [
    "import pandas as pd\n",
    "df = pd.read_csv(\"awh_t0.1.xvg\", sep='\\s+', header=26, names=['distance','energy'])\n",
    "mine = min(df[['energy']].to_numpy()[10:])\n",
    "df['energy'] -= mine\n",
    "ax = df.plot('distance',xlabel='distance, nm', ylabel='energy, kJ/mol', legend=False)\n",
    "ax.grid(True, which='both', linestyle='--')\n",
    "ax.axhline(y=0, color='k', linewidth=0.5)"
   ]
  },
  {
   "cell_type": "code",
   "execution_count": null,
   "metadata": {},
   "outputs": [],
   "source": [
    "import pandas as pd\n",
    "df = pd.read_csv(\"pullx.xvg\", sep='\\s+', header=17, names=['time','distance'])\n",
    "ax = df.plot('time',xlabel='time, ps', ylabel='reaction cooordinate, nm', legend=False)\n",
    "ax.grid(True, which='both', linestyle='--')\n",
    "ax.axhline(y=0, color='k', linewidth=0.5)"
   ]
  },
  {
   "cell_type": "markdown",
   "metadata": {},
   "source": [
    "Not much changed in 100 fs, free-energy has only a small well now. But check how it looks after 65 ps simulation:"
   ]
  },
  {
   "cell_type": "code",
   "execution_count": null,
   "metadata": {},
   "outputs": [],
   "source": [
    "import pandas as pd\n",
    "df = pd.read_csv(rdir + \"/reference-data/DA-awh/awh_t65.xvg\", sep='\\s+', header=30, names=['distance','energy','bias','distribution','distribution1','distribution2','distribution3','distribution4'])\n",
    "mine = min(df[['energy']].to_numpy()[10:])\n",
    "df['energy'] -= mine\n",
    "ax = df.plot(x='distance',y='energy',xlabel='distance, nm', ylabel='energy, kJ/mol', legend=False)\n",
    "ax.grid(True, which='both', linestyle='--')\n",
    "ax.axhline(y=0, color='k', linewidth=0.5)"
   ]
  },
  {
   "cell_type": "markdown",
   "metadata": {},
   "source": [
    "Check also distribution of the reaction cooordinate across whole interval. line `y=1` is a level towards which AWH pushes distribution with bias:"
   ]
  },
  {
   "cell_type": "code",
   "execution_count": null,
   "metadata": {},
   "outputs": [],
   "source": [
    "import pandas as pd\n",
    "df = pd.read_csv(rdir + \"/reference-data/DA-awh/awh_t65.xvg\", sep='\\s+', header=30, names=['distance','energy','bias','distribution','distribution1','distribution2','distribution3','distribution4'])\n",
    "ax = df.plot(x='distance',y='distribution',xlabel='distance, nm', ylabel='count', legend=False)\n",
    "ax.grid(True, which='both', linestyle='--')\n",
    "ax.axhline(y=1, color='r', linewidth=1.5)"
   ]
  },
  {
   "cell_type": "markdown",
   "metadata": {},
   "source": [
    "In addition, to be sure about quality of generated profile, you should see repeating transitions of the reaction coordinate between products and reagents and back at the end of AWH trajectory:"
   ]
  },
  {
   "cell_type": "code",
   "execution_count": null,
   "metadata": {},
   "outputs": [],
   "source": [
    "import pandas as pd\n",
    "df = pd.read_csv(rdir + \"/reference-data/DA-awh/pullx65.xvg\", sep='\\s+', header=17, names=['time','coor'])\n",
    "ax = df.plot('time',xlabel='time, ps', ylabel='reaction coordinate, nm', legend=False)\n",
    "ax.grid(True, which='both', linestyle='--')"
   ]
  },
  {
   "cell_type": "markdown",
   "metadata": {},
   "source": [
    "Finally lets compare all obtained profiles:"
   ]
  },
  {
   "cell_type": "code",
   "execution_count": null,
   "metadata": {
    "scrolled": true
   },
   "outputs": [],
   "source": [
    "import pandas as pd\n",
    "dfus = pd.read_csv(rdir + \"/reference-data/DA-us/profile10ps.xvg\", sep='\\s+', header=17, names=['distance','energy-us210ps'])\n",
    "mine = min(dfus[['energy-us210ps']].to_numpy()[10:])\n",
    "dfus['energy-us210ps'] -= mine\n",
    "ax = dfus.plot('distance',xlabel='distance, nm', ylabel='energy, kJ/mol')\n",
    "\n",
    "dfawh = pd.read_csv(rdir + \"/reference-data/DA-awh/awh_t65.xvg\", sep='\\s+', header=30, names=['distance','energy-awh65ps','bias','distribution','distribution1','distribution2','distribution3','distribution4'])\n",
    "mine = min(dfawh[['energy-awh65ps']].to_numpy()[15:])\n",
    "dfawh['energy-awh65ps'] -= mine\n",
    "dfawh.plot('distance','energy-awh65ps', ax=ax)\n",
    "\n",
    "dfopt = pd.read_csv(rdir + \"/reference-data/DA-opt/rsurf.xvg\", sep='\\s+', header=None, names=['distance','energy-opt'])\n",
    "mine = min(dfopt[['energy-opt']].to_numpy()[20:])\n",
    "dfopt['energy-opt'] -= mine\n",
    "dfopt.plot('distance', ax=ax)\n",
    "\n",
    "ax.grid(True, which='both', linestyle='--')\n",
    "ax.axhline(y=0, color='k', linewidth=0.5)"
   ]
  },
  {
   "cell_type": "markdown",
   "metadata": {},
   "source": [
    "As you may notice AWH profile after 65 ps is already very close to the umbrella sampling result obtained from 210 ps (21 frame * 10 ps) total simulations! That could save you a lot of computing resources when used wisely."
   ]
  }
 ],
 "metadata": {
  "anaconda-cloud": {},
  "kernelspec": {
   "display_name": "Python 3 (ipykernel)",
   "language": "python",
   "name": "python3"
  },
  "language_info": {
   "codemirror_mode": {
    "name": "ipython",
    "version": 3
   },
   "file_extension": ".py",
   "mimetype": "text/x-python",
   "name": "python",
   "nbconvert_exporter": "python",
   "pygments_lexer": "ipython3",
   "version": "3.8.0"
  },
  "nbpresent": {
   "slides": {
    "5ee989b6-b87f-45b2-b186-0f81e2eb6c0e": {
     "id": "5ee989b6-b87f-45b2-b186-0f81e2eb6c0e",
     "prev": null,
     "regions": {
      "1099d9ed-4336-403d-8924-acb02ce1d7c0": {
       "attrs": {
        "height": 0.2,
        "width": 0.4,
        "x": 0.1,
        "y": 0.7
       },
       "id": "1099d9ed-4336-403d-8924-acb02ce1d7c0"
      },
      "159e8040-85d4-4abc-8f26-2cf90a0407d7": {
       "attrs": {
        "height": 0.6,
        "width": 0.8,
        "x": 0.1,
        "y": 0.1
       },
       "id": "159e8040-85d4-4abc-8f26-2cf90a0407d7"
      },
      "d9ecb908-45c1-485f-bb18-bbc91a1fd84e": {
       "attrs": {
        "height": 0.2,
        "width": 0.4,
        "x": 0.5,
        "y": 0.7
       },
       "id": "d9ecb908-45c1-485f-bb18-bbc91a1fd84e"
      }
     }
    }
   },
   "themes": {}
  }
 },
 "nbformat": 4,
 "nbformat_minor": 2
}
