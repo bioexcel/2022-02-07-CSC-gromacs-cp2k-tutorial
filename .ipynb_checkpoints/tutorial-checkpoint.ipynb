{
 "cells": [
  {
   "cell_type": "code",
   "execution_count": 1,
   "metadata": {
    "nbpresent": {
     "id": "57ae234e-1d9a-4341-ae4b-7e2ae3da2144"
    },
    "scrolled": true
   },
   "outputs": [
    {
     "data": {
      "text/html": [
       "<style>\n",
       ".solarized.base03 { color: #002b36; }\n",
       ".solarized.base02 { color: #073642; }\n",
       ".solarized.base01 { color: #586e75; }\n",
       ".solarized.base00 { color: #657b83; }\n",
       ".solarized.base0 { color: #839496; }\n",
       ".solarized.base1 { color: #93a1a1; }\n",
       ".solarized.base2 { color: #eee8d5; }\n",
       ".solarized.base3  { color: #fdf6e3; }\n",
       ".solarized.solar-yellow  { color: #b58900; }\n",
       ".solarized.solar-orange  { color: #cb4b16; }\n",
       ".solarized.solar-red { color: #dc322f; }\n",
       ".solarized.solar-magenta { color: #d33682; }\n",
       ".solarized.solar-violet  { color: #6c71c4; }\n",
       ".solarized.solar-blue { color: #268bd2; }\n",
       ".solarized.solar-cyan { color: #2aa198; }\n",
       ".solarized.solar-green { color: #859900; }\n",
       "\n",
       ".ansiyellow { color: #b58900; }\n",
       ".ansiorange { color: #cb4b16; }\n",
       ".ansired { color: #dc322f; }\n",
       ".ansimagenta { color: #d33682; }\n",
       ".ansiviolet { color: #6c71c4; }\n",
       ".ansiblue { color: #268bd2; }\n",
       ".ansicyan { color: #2aa198; }\n",
       ".ansigreen { color: #859900; }\n",
       "\n",
       ".gromacs.blue {color: #3e3e7f}\n",
       "/* Notebook styling */\n",
       "\n",
       "body, p, div.rendered_html { \n",
       "    color: #3e3e7f;\n",
       "/*    font-family: 'PT Serif', Georgia, Times, 'Times New Roman', serif; */\n",
       "    font-size: 12pt;\n",
       "}\n",
       "\n",
       "body { background-color: #eee8d5 !important; }\n",
       "\n",
       "#notebook { \n",
       "    background-color: #d0d0ff !important;\n",
       "    box-shadow: inset 20px 36px 20px -35px black !important;\n",
       "}\n",
       "\n",
       "/*\n",
       "#maintoolbar { padding-top: 1em; padding-bottom: 1em; }\n",
       "#header { border-color: #93a1a1 !important; }\n",
       "*/\n",
       "/* Pager */\n",
       "\n",
       "#pager_splitter { background: none !important; }\n",
       "#pager {\n",
       "    background-color: #eee8d5;\n",
       "}\n",
       "div#pager pre {\n",
       "    background-color: #fdf6e3;\n",
       "    color: #586e75;\n",
       "}    \n",
       "\n",
       "/* Forms and menus */\n",
       "/*\n",
       ".navbar-default, .navbar-static-top {\n",
       "    background-color: #fdf6e3 !important;\n",
       "    color: #586e75 !important;\n",
       "}\n",
       ".navbar-default { border: none !important; }\n",
       ".navbar-nav > li > a { color: #586e75 !important; }\n",
       ".navbar-nav > li.open > a { background-color: #eee8d5 !important; color: #93a1a1 !important; }\n",
       ".nav > li.active > a { background-color: #eee8d5 !important; color: #586e75 !important; }\n",
       "\n",
       ".dropdown-menu { background-color: #fdf6e3 !important; border: none !important; }\n",
       ".dropdown-menu > li > a { color: #586e75 !important; }\n",
       ".dropdown-menu > li > a:hover { background-color: #eee8d5 !important; }\n",
       ".dropdown-menu > li.disabled > a { color: #93a1a1 !important; }\n",
       "\n",
       "button, .btn-default, .form-control, select {\n",
       "    background-color: #fdf6e3 !important;\n",
       "    color: #586e75 !important;\n",
       "}\n",
       "*/\n",
       "/* Tooltips */\n",
       "\n",
       ".completions {\n",
       "    border: none;\n",
       "    -moz-box-shadow: none;\n",
       "    -webkit-box-shadow: none;\n",
       "    box-shadow: none;\n",
       "    border-radius: 0;\n",
       "    margin-top: 0.5em;\n",
       "}\n",
       ".completions select { font-size: 11pt; }\n",
       "\n",
       ".ipython_tooltip .tooltiptext pre { \n",
       "    font-size: 10pt;\n",
       "    background-color: #eee8d5;\n",
       "    color: #586e75;\n",
       "}\n",
       ".ipython_tooltip {\n",
       "    -moz-box-shadow: none;\n",
       "    -webkit-box-shadow: none;\n",
       "    box-shadow: none;\n",
       "    background-color: #eee8d5;\n",
       "    color: #586e75;\n",
       "}\n",
       ".pretooltiparrow:before {\n",
       "    background-color: #eee8d5;\n",
       "}\n",
       "\n",
       "/* Cell output */\n",
       "\n",
       ".rendered_html pre, .rendered_html code {\n",
       "    color: inherit !important;\n",
       "    background-color: inherit !important;\n",
       "}\n",
       "div.output_area pre {\n",
       "    color: #93a1a1 !important;\n",
       "    white-space: pre;\n",
       "}\n",
       ".rendered_html table, .rendered_html td, .rendered_html th {\n",
       "    border: 1px solid #586e75 !important;\n",
       "}\n",
       "\n",
       "/* Modal dialogs */\n",
       "\n",
       ".modal-content, .modal-content p {\n",
       "    background-color: #eee8d5 !important;\n",
       "    color: #586e75 !important;\n",
       "}\n",
       "\n",
       "/* Cell styling */\n",
       "\n",
       "div.cell.selected { border-color: #839496 !important; }\n",
       "div.cell.edit_mode { border-color: #268bd2 !important; }\n",
       "div.input_prompt { color: #268bd2 !important; }\n",
       "div.output_prompt { color: #dc322f !important; }\n",
       "div.input_area { border: none !important; background: none !important; }\n",
       "\n",
       ".celltoolbar {\n",
       "    background: #eee8d5 !important;\n",
       "    color: #586e75 !important;\n",
       "}\n",
       "\n",
       "/*    border: 1px solid #002b36 !important;*/\n",
       "/* CodeMirror Styling */\n",
       "/*\n",
       ".cm-s-ipython {\n",
       "    line-height: 1.45em;\n",
       "    color-profile: sRGB;\n",
       "    rendering-intent: auto;\n",
       "    background-color: #002b36;\n",
       "    color: #93a1a1;\n",
       "    text-shadow: none;\n",
       "    border-radius: 4px;\n",
       "}\n",
       "*/\n",
       "/* Cursor */\n",
       "\n",
       ".cm-s-ipython div.CodeMirror-cursor {\n",
       "    border: none;\n",
       "    width: 0.6em;\n",
       "    background-color: rgba(100, 100, 100, 0.5);\n",
       "}\n",
       "\n",
       "/* Gutters */\n",
       "\n",
       "/*\n",
       ".cm-s-ipython .CodeMirror-gutters {\n",
       "  border-right: 1px solid;\n",
       "}\n",
       "\n",
       ".cm-s-ipython .CodeMirror-gutters {\n",
       "  background-color:  #002b36;\n",
       "  border-color: #00232c;\n",
       "}\n",
       "\n",
       ".cm-s-ipython .CodeMirror-linenumber {\n",
       "  text-shadow: #021014 0 -1px;\n",
       "  padding: 0 8px 0 0;\n",
       "  color: #586e75;\n",
       "}\n",
       "*/\n",
       "/*\n",
       ".cm-s-ipython .CodeMirror-guttermarker-subtle { color: #586e75; }\n",
       ".cm-s-ipython .CodeMirror-guttermarker { color: #ddd; }\n",
       "*/\n",
       "/* Syntax highlighting */\n",
       "/*\n",
       ".cm-s-ipython span.cm-keyword { color: #cb4b16 }\n",
       ".cm-s-ipython span.cm-atom { color: #d33682; }\n",
       ".cm-s-ipython span.cm-number { color: #d33682; }\n",
       ".cm-s-ipython span.cm-def { color: #268bd2; font-weight: bold; }\n",
       "\n",
       ".cm-s-ipython span.cm-variable { color: #93a1a1; }\n",
       ".cm-s-ipython span.cm-variable-2 { color: #b58900; }\n",
       ".cm-s-ipython span.cm-variable-3 { color: #6c71c4; }\n",
       "\n",
       ".cm-s-ipython span.cm-property { color: #2aa198; }\n",
       ".cm-s-ipython span.cm-operator {color: #6c71c4;}\n",
       "\n",
       ".cm-s-ipython span.cm-comment { color: #6c71c4; font-style: italic; }\n",
       "\n",
       ".cm-s-ipython span.cm-string { color: #2aa198; }\n",
       ".cm-s-ipython span.cm-string-2 { color: #b58900; }\n",
       "\n",
       ".cm-s-ipython span.cm-meta { color: #859900; }\n",
       ".cm-s-ipython span.cm-qualifier { color: #b58900; }\n",
       ".cm-s-ipython span.cm-builtin { color: #859900; }\n",
       ".cm-s-ipython span.cm-bracket { color: #cb4b16; }\n",
       ".cm-s-ipython .CodeMirror-matchingbracket { color: #b58900 !important; font-weight: bold; }\n",
       ".cm-s-ipython .CodeMirror-nonmatchingbracket { color: #dc322f; }\n",
       ".cm-s-ipython span.cm-tag { color: #93a1a1 }\n",
       ".cm-s-ipython span.cm-attribute {  color: #2aa198; }\n",
       ".cm-s-ipython span.cm-header { color: #586e75; }\n",
       ".cm-s-ipython span.cm-quote { color: #93a1a1; }\n",
       ".cm-s-ipython span.cm-hr {\n",
       "  color: transparent;\n",
       "  border-top: 1px solid #080e05;\n",
       "  display: block;\n",
       "}\n",
       ".cm-s-ipython span.cm-link { color: #93a1a1; cursor: pointer; }\n",
       ".cm-s-ipython span.cm-special { color: #6c71c4; }\n",
       ".cm-s-ipython span.cm-em {\n",
       "  color: #999;\n",
       "  text-decoration: underline;\n",
       "  text-decoration-style: dotted;\n",
       "}\n",
       ".cm-s-ipython span.cm-strong { color: #eee; }\n",
       ".cm-s-ipython span.cm-error,\n",
       ".cm-s-ipython span.cm-invalidchar {\n",
       "  color: #586e75;\n",
       "  border-bottom: 1px dotted #dc322f;\n",
       "}\n",
       "*/\n",
       "</style>\n"
      ],
      "text/plain": [
       "<IPython.core.display.HTML object>"
      ]
     },
     "metadata": {},
     "output_type": "display_data"
    },
    {
     "data": {
      "application/vnd.jupyter.widget-view+json": {
       "model_id": "d9f0308a67a545f4a55f84fedb2cb1fb",
       "version_major": 2,
       "version_minor": 0
      },
      "text/plain": []
     },
     "metadata": {},
     "output_type": "display_data"
    }
   ],
   "source": [
    "# Execute this first \n",
    "#\n",
    "#  * Trigger notebook styling\n",
    "#  * Save current directory \n",
    "%run src/init_notebooks.py\n",
    "import os\n",
    "rdir = os.getcwd()"
   ]
  },
  {
   "cell_type": "markdown",
   "metadata": {
    "nbpresent": {
     "id": "dde7b85f-ae2f-42f9-9ebf-58ab93239983"
    }
   },
   "source": [
    "# Molecular dynamics simulation of a small protein using GROMACS "
   ]
  },
  {
   "cell_type": "markdown",
   "metadata": {
    "nbpresent": {
     "id": "59d19417-8116-4511-8fc5-c5abbbfe82b3"
    }
   },
   "source": [
    "    authors  : Dmitry Morozov (based on a Gerrit Groenhof tutorial see http://wwwuser.gwdg.de/~ggroenh/EMBO2004/html/introduction.html ).    \n",
    "    goal     : learn how to explore energy surface of reaction using GROMACS-CP2K QM/MM interface \n",
    "    time     : 60 minutes\n",
    "    software : GROMACS 2022 with CP2K 9.0, python modules: numpy, matplotlib, nglviewer, md_traj, pandas) \n",
    "    optional software: visualization software VMD, Xmgrace  plotting tool"
   ]
  },
  {
   "cell_type": "markdown",
   "metadata": {},
   "source": [
    "# Preparations to run this notebook"
   ]
  },
  {
   "cell_type": "code",
   "execution_count": 2,
   "metadata": {
    "nbpresent": {
     "id": "cf4e0e9a-6503-430f-8c60-815a9ae22616"
    },
    "scrolled": true
   },
   "outputs": [
    {
     "name": "stdout",
     "output_type": "stream",
     "text": [
      "/mnt/i/Presentations/CSC-AWH-tutorial-2022/tutorial/data\n"
     ]
    }
   ],
   "source": [
    "# Change to the data directory\n",
    "# Note that executing this command twice will result in an error you can ignore\n",
    "%cd data"
   ]
  },
  {
   "cell_type": "markdown",
   "metadata": {
    "nbpresent": {
     "id": "3d13b2f5-7423-4201-b832-303524849db8"
    }
   },
   "source": [
    "# Input for a simulation"
   ]
  },
  {
   "cell_type": "markdown",
   "metadata": {
    "nbpresent": {
     "id": "40fa54aa-811b-4991-8dcf-3fdc464b1249"
    }
   },
   "source": [
    "In this tutorial we are going to study a catalytic antibody that catalyzes the Diels Alder cyclo-addition reaction shown here. The x-ray structure of the analogue-antibody complex has been determined by Xu et al. (Science 1999, 286, 2345-2348) and is available from the protein databank [1C1E](https://www.rcsb.org/structure/1C1E)."
   ]
  },
  {
   "cell_type": "code",
   "execution_count": 9,
   "metadata": {
    "scrolled": true
   },
   "outputs": [
    {
     "data": {
      "application/vnd.jupyter.widget-view+json": {
       "model_id": "751d28cb59cf4d61b5ab2802c30294cf",
       "version_major": 2,
       "version_minor": 0
      },
      "text/plain": [
       "NGLWidget()"
      ]
     },
     "metadata": {},
     "output_type": "display_data"
    }
   ],
   "source": [
    "import nglview as ng\n",
    "view = ng.show_structure_file(rdir + \"/reference-data/1C1E.pdb\")\n",
    "view.center(selection='ENH')\n",
    "view\n",
    "\n",
    "# click and drag to rotate, zoom with your mouseweel \n",
    "# for more infor on this viewer have a look at https://github.com/nglviewer/nglview"
   ]
  },
  {
   "cell_type": "markdown",
   "metadata": {},
   "source": [
    "It should be noted that structure contains analogue of the substrate. Real substrate, which will be studied in the tutorial, is looking like that: "
   ]
  },
  {
   "cell_type": "code",
   "execution_count": 11,
   "metadata": {
    "scrolled": true
   },
   "outputs": [
    {
     "data": {
      "application/vnd.jupyter.widget-view+json": {
       "model_id": "b5f44331445849bc9dba4ecc40bfaf3a",
       "version_major": 2,
       "version_minor": 0
      },
      "text/plain": [
       "NGLWidget()"
      ]
     },
     "metadata": {},
     "output_type": "display_data"
    }
   ],
   "source": [
    "import nglview as ng\n",
    "view = ng.show_structure_file(rdir + \"/reference-data/dat.pdb\")\n",
    "view"
   ]
  },
  {
   "cell_type": "markdown",
   "metadata": {
    "nbpresent": {
     "id": "d5d197b7-16ea-4cb7-bc4c-dc18ea76e1d1"
    }
   },
   "source": [
    "# Linear transit scan of the Diels-Alder reaction potential energy surface *in vacuo*"
   ]
  },
  {
   "cell_type": "markdown",
   "metadata": {
    "nbpresent": {
     "id": "992503cc-771a-439b-bae3-3a660a755b7c"
    }
   },
   "source": [
    "Once you've had a look at the system, you are going to want to study it in the vacuum. In the Linear Transit method (also known as Relaxed Surface scan)) a coordinate is choosen along which the reactants are transformed into product. This so called reaction coordinate is varied linearly while all other degrees of freedom are minimized (relaxed). Choosing such reaction coordinate requires some intuition and understanding of the process studied, but is in general easier to chose than a reasonable guess geometry. The concept of the reaction coordinate is best explained by an example. In case of a Diels-Alder cyclo-addition, a good reaction coordinate would be the distance between the two atom pairs that are forming the two new bonds upon reaction:\n",
    "![img](files/images/react-coord.gif)"
   ]
  },
  {
   "cell_type": "markdown",
   "metadata": {},
   "source": [
    "Once the reaction coordinate is choosen, we slowly progress along that coordinate, while minimizing all other degrees of freedom. In practice, the reaction coordinate is constrained or restrained at a number of distances. Afterwards, the potential energy is plotted as a function the reaction coordinate. The maximum of this curve is the transition state and the minima are the reactant and product states.\n",
    "\n",
    "Here we will use the GROMACS QM/MM features to perform a Linear Transit calculation of the Diels-Alder cyclo-addition reaction foor substrate shown above. The -R group, which was missing in the x-ray model and ignored in the previous part of the tutorial, will now be taken into account. Because this group is unlikely to have a large effect on the reaction, we will describe it at the MM level in our model:\n",
    "![img](files/images/qmmm_vac_small.gif)\n",
    "\n",
    "The QM/MM division splits the systems along a chemical bond. Therefore, we need to cap the QM subsystem with a so-called link atom. This link atom is present as a hydrogen atom only at the QM calculation step within CP2K. It is not physically present in the GROMACS system, but the forces on it, that are computed in the QM step, are distributed over the two atoms of the bond. The broken bond length itself is still accounted with MM forecfield during the computations."
   ]
  },
  {
   "cell_type": "code",
   "execution_count": 12,
   "metadata": {
    "nbpresent": {
     "id": "2655e386-be87-4ac5-91ef-9ac4ee9360f9"
    },
    "scrolled": false
   },
   "outputs": [
    {
     "name": "stdout",
     "output_type": "stream",
     "text": [
      "/mnt/i/Presentations/CSC-AWH-tutorial-2022/tutorial/data/DA-opt\n"
     ]
    }
   ],
   "source": [
    "# Change to the DA-opt directory\n",
    "# Note that executing this command twice will result in an error you can ignore\n",
    "%cd DA-opt"
   ]
  },
  {
   "cell_type": "markdown",
   "metadata": {},
   "source": [
    "### Specifying QM/MM simulation setup"
   ]
  },
  {
   "cell_type": "markdown",
   "metadata": {},
   "source": [
    "Once we have decided which atoms should be treated by a QM method we add these atoms to the index file. We can either use the make_ndx program, or hack the atoms into the index.ndx file ourselves. The index file we will use in this tutorial is found here: "
   ]
  },
  {
   "cell_type": "code",
   "execution_count": 13,
   "metadata": {
    "scrolled": true
   },
   "outputs": [
    {
     "name": "stdout",
     "output_type": "stream",
     "text": [
      "[ System ]\r\n",
      "   1    2    3    4    5    6    7    8    9   10   11   12   13   14   15\r\n",
      "  16   17   18   19   20   21   22   23   24   25   26   27   28   29   30\r\n",
      "  31   32   33   34   35   36   37   38\r\n",
      "[ Other ]\r\n",
      "   1    2    3    4    5    6    7    8    9   10   11   12   13   14   15\r\n",
      "  16   17   18   19   20   21   22   23   24   25   26   27   28   29   30\r\n",
      "  31   32   33   34   35   36   37   38\r\n",
      "[ DAT ]\r\n",
      "   1    2    3    4    5    6    7    8    9   10   11   12   13   14   15\r\n",
      "  16   17   18   19   20   21   22   23   24   25   26   27   28   29   30\r\n",
      "  31   32   33   34   35   36   37   38\r\n",
      "[ QMatoms ]\r\n",
      "   1    2    3    4    5    6    7    8    9   10   11   12   13   14   15\r\n",
      "  16   17   18   19   20   21   22   23\r\n",
      "[ group1 ]\r\n",
      "  14   16\r\n",
      "[ group2 ]\r\n",
      "   1    7\r\n"
     ]
    }
   ],
   "source": [
    "!cat index.ndx"
   ]
  },
  {
   "cell_type": "markdown",
   "metadata": {},
   "source": [
    "Atoms that will be treated at the QM level are defined in **[ QMatoms ]** group.  \n",
    "Next we should request GROMACS to perform QM/MM simulation, that is done by specifying several parameters in the *.mdp* file:"
   ]
  },
  {
   "cell_type": "code",
   "execution_count": 14,
   "metadata": {
    "scrolled": true
   },
   "outputs": [
    {
     "name": "stdout",
     "output_type": "stream",
     "text": [
      "title                    = relaxed-surface\r\n",
      "\r\n",
      "integrator               = steep\r\n",
      "\r\n",
      "tinit                    = 0\r\n",
      "dt                       = 0.002\r\n",
      "nsteps                   = 100\r\n",
      "\r\n",
      "nstcomm                  = 1\r\n",
      "comm_grps                = system\r\n",
      "\r\n",
      "emtol                    = 100.0\r\n",
      "emstep                   = 0.0001\r\n",
      "\r\n",
      "nstxout                  = 1\r\n",
      "nstvout                  = 1\r\n",
      "nstfout                  = 1\r\n",
      "nstlog                   = 1\r\n",
      "nstenergy                = 1\r\n",
      "nstxtcout                = 1\r\n",
      "xtc-precision            = 1000\r\n",
      "xtc_grps                 = system\r\n",
      "energy_grps              = \r\n",
      "\r\n",
      "nstlist                  = 10\r\n",
      "ns_type                  = grid\r\n",
      "pbc                      = xyz\r\n",
      "rlist                    = 1.0\r\n",
      "coulombtype              = PME\r\n",
      "rcoulomb-switch          = 1.0\r\n",
      "rcoulomb                 = 1.6\r\n",
      "\r\n",
      "vdwtype                  = Cut-off\r\n",
      "rvdw-switch              = 0\r\n",
      "rvdw                     = 1.6\r\n",
      "DispCorr                 = No\r\n",
      "\r\n",
      "constraints              = none\r\n",
      "\r\n",
      "qmmm-cp2k-active         = true\r\n",
      "qmmm-cp2k-qmgroup        = QMatoms\r\n",
      "qmmm-cp2k-qmmethod       = PBE\r\n",
      "qmmm-cp2k-qmcharge       = 0\r\n",
      "qmmm-cp2k-qmmultiplicity = 1\r\n",
      "\r\n",
      "\r\n",
      "\r\n"
     ]
    }
   ],
   "source": [
    "!cat LT.mdp"
   ]
  },
  {
   "cell_type": "markdown",
   "metadata": {},
   "source": [
    "- **qmmm-cp2k-active         = true** - activates QM/MM MDModule\n",
    "- **qmmm-cp2k-qmgroup        = QMatoms** - specifies group of atoms, that should be treated with QM\n",
    "- **qmmm-cp2k-qmmethod       = PBE** - specifies QM method to be used\n",
    "- **qmmm-cp2k-qmcharge       = 0** - total charge os QM system\n",
    "- **qmmm-cp2k-qmmultiplicity = 1** - total multiplicity of QM system (singlet here)\n",
    "\n",
    "\n",
    "In all other points this is typical minimization run using steepest descent intergator"
   ]
  },
  {
   "cell_type": "markdown",
   "metadata": {},
   "source": [
    "Now take a look into the topology of substrate:"
   ]
  },
  {
   "cell_type": "code",
   "execution_count": 15,
   "metadata": {
    "scrolled": true
   },
   "outputs": [
    {
     "name": "stdout",
     "output_type": "stream",
     "text": [
      "; dat_GMX.itp created by acpype (v: 2021-02-05T22:15:50CET) on Wed Jan 19 21:43:58 2022\r\n",
      "\r\n",
      "[ atomtypes ]\r\n",
      ";name   bond_type     mass     charge   ptype   sigma         epsilon       Amb\r\n",
      " c3       6           0.00000  0.00000   A     3.39967e-01   4.57730e-01 ; 1.91  0.1094\r\n",
      " cl       17          0.00000  0.00000   A     3.47094e-01   1.10876e+00 ; 1.95  0.2650\r\n",
      " c2       6           0.00000  0.00000   A     3.39967e-01   3.59824e-01 ; 1.91  0.0860\r\n",
      " s6       16          0.00000  0.00000   A     3.56359e-01   1.04600e+00 ; 2.00  0.2500\r\n",
      " o        8           0.00000  0.00000   A     2.95992e-01   8.78640e-01 ; 1.66  0.2100\r\n",
      " c        6           0.00000  0.00000   A     3.39967e-01   3.59824e-01 ; 1.91  0.0860\r\n",
      " hc       1           0.00000  0.00000   A     2.64953e-01   6.56888e-02 ; 1.49  0.0157\r\n",
      " n        7           0.00000  0.00000   A     3.25000e-01   7.11280e-01 ; 1.82  0.1700\r\n",
      " h1       1           0.00000  0.00000   A     2.47135e-01   6.56888e-02 ; 1.39  0.0157\r\n",
      " \r\n",
      "[ moleculetype ]\r\n",
      ";name            nrexcl\r\n",
      " dat              3\r\n",
      "\r\n",
      "[ atoms ]\r\n",
      ";   nr  type  resi  res  atom  cgnr     charge      mass       ; qtot   bond_type\r\n",
      "     1   c3     1   DAT    CA    1    -0.001100     12.01000 ; qtot -0.001\r\n",
      "     2   cl     1   DAT   CLA    2    -0.036900     35.45000 ; qtot -0.038\r\n",
      "     3   c2     1   DAT    CB    3    -0.032300     12.01000 ; qtot -0.070\r\n",
      "     4   cl     1   DAT   CLB    4     0.022100     35.45000 ; qtot -0.048\r\n",
      "     5   c2     1   DAT    CC    5    -0.032300     12.01000 ; qtot -0.081\r\n",
      "     6   cl     1   DAT   CLC    6     0.022100     35.45000 ; qtot -0.058\r\n",
      "     7   c3     1   DAT    CD    7    -0.001100     12.01000 ; qtot -0.059\r\n",
      "     8   cl     1   DAT   CLD    8    -0.036900     35.45000 ; qtot -0.096\r\n",
      "     9   s6     1   DAT    SE    9     1.179000     32.06000 ; qtot 1.083\r\n",
      "    10    o     1   DAT   OE1   10    -0.587300     16.00000 ; qtot 0.495\r\n",
      "    11    o     1   DAT   OE2   11    -0.587300     16.00000 ; qtot -0.092\r\n",
      "    12    c     1   DAT    C1   12     0.715500     12.01000 ; qtot 0.623\r\n",
      "    13    o     1   DAT    O1   13    -0.549000     16.00000 ; qtot 0.074\r\n",
      "    14   c3     1   DAT    C2   14    -0.158200     12.01000 ; qtot -0.084\r\n",
      "    15   hc     1   DAT    H2   15     0.129700      1.00800 ; qtot 0.046\r\n",
      "    16   c3     1   DAT    C3   16    -0.158200     12.01000 ; qtot -0.112\r\n",
      "    17   hc     1   DAT    H3   17     0.129700      1.00800 ; qtot 0.017\r\n",
      "    18    c     1   DAT    C4   18     0.715500     12.01000 ; qtot 0.733\r\n",
      "    19    o     1   DAT    O4   19    -0.549000     16.00000 ; qtot 0.184\r\n",
      "    20    n     1   DAT    N5   20    -0.490400     14.01000 ; qtot -0.306\r\n",
      "    21   c3     1   DAT    C6   21     0.091000     12.01000 ; qtot -0.215\r\n",
      "    22   h1     1   DAT   H61   22     0.086200      1.00800 ; qtot -0.129\r\n",
      "    23   h1     1   DAT   H62   23     0.086200      1.00800 ; qtot -0.043\r\n",
      "    24   c3     1   DAT    C7   24    -0.093400     12.01000 ; qtot -0.136\r\n",
      "    25   hc     1   DAT   H71   25     0.038200      1.00800 ; qtot -0.098\r\n",
      "    26   hc     1   DAT   H72   26     0.038200      1.00800 ; qtot -0.060\r\n",
      "    27   c3     1   DAT    C8   27    -0.078400     12.01000 ; qtot -0.138\r\n",
      "    28   hc     1   DAT   H81   28     0.033700      1.00800 ; qtot -0.105\r\n",
      "    29   hc     1   DAT   H82   29     0.033700      1.00800 ; qtot -0.071\r\n",
      "    30   c3     1   DAT    C9   30    -0.072400     12.01000 ; qtot -0.143\r\n",
      "    31   hc     1   DAT   H91   31     0.046700      1.00800 ; qtot -0.097\r\n",
      "    32   hc     1   DAT   H92   32     0.046700      1.00800 ; qtot -0.050\r\n",
      "    33   c3     1   DAT   C10   33    -0.196400     12.01000 ; qtot -0.246\r\n",
      "    34   hc     1   DAT  HH10   34     0.020200      1.00800 ; qtot -0.226\r\n",
      "    35   hc     1   DAT    H1   35     0.020200      1.00800 ; qtot -0.206\r\n",
      "    36    c     1   DAT   C11   36     0.908600     12.01000 ; qtot 0.703\r\n",
      "    37    o     1   DAT   O12   37    -0.851300     16.00000 ; qtot -0.149\r\n",
      "    38    o     1   DAT   O13   38    -0.851300     16.00000 ; qtot -1.000\r\n",
      "\r\n",
      "[ bonds ]\r\n",
      ";   ai     aj funct   r             k\r\n",
      "     1      2   1    1.8045e-01    2.2284e+05 ;     CA - CLA   \r\n",
      "     1      3   1    1.5095e-01    2.7347e+05 ;     CA - CB    \r\n",
      "     1      9   1    1.8075e-01    1.9539e+05 ;     CA - SE    \r\n",
      "     1     14   1    1.5375e-01    2.5179e+05 ;     CA - C2    \r\n",
      "     3      4   1    1.7308e-01    2.6886e+05 ;     CB - CLB   \r\n",
      "     3      5   1    1.3343e-01    4.7647e+05 ;     CB - CC    \r\n",
      "     5      6   1    1.7308e-01    2.6886e+05 ;     CC - CLC   \r\n",
      "     5      7   1    1.5095e-01    2.7347e+05 ;     CC - CD    \r\n",
      "     7      8   1    1.8045e-01    2.2284e+05 ;     CD - CLD   \r\n",
      "     7      9   1    1.8075e-01    1.9539e+05 ;     CD - SE    \r\n",
      "     7     16   1    1.5375e-01    2.5179e+05 ;     CD - C3    \r\n",
      "     9     10   1    1.4533e-01    4.2903e+05 ;     SE - OE1   \r\n",
      "     9     11   1    1.4533e-01    4.2903e+05 ;     SE - OE2   \r\n",
      "    12     13   1    1.2183e-01    5.3363e+05 ;     C1 - O1    \r\n",
      "    12     14   1    1.5241e-01    2.6192e+05 ;     C1 - C2    \r\n",
      "    12     20   1    1.3789e-01    3.5782e+05 ;     C1 - N5    \r\n",
      "    14     15   1    1.0969e-01    2.7665e+05 ;     C2 - H2    \r\n",
      "    14     16   1    1.5375e-01    2.5179e+05 ;     C2 - C3    \r\n",
      "    16     17   1    1.0969e-01    2.7665e+05 ;     C3 - H3    \r\n",
      "    16     18   1    1.5241e-01    2.6192e+05 ;     C3 - C4    \r\n",
      "    18     19   1    1.2183e-01    5.3363e+05 ;     C4 - O4    \r\n",
      "    18     20   1    1.3789e-01    3.5782e+05 ;     C4 - N5    \r\n",
      "    20     21   1    1.4619e-01    2.7506e+05 ;     N5 - C6    \r\n",
      "    21     22   1    1.0969e-01    2.7665e+05 ;     C6 - H61   \r\n",
      "    21     23   1    1.0969e-01    2.7665e+05 ;     C6 - H62   \r\n",
      "    21     24   1    1.5375e-01    2.5179e+05 ;     C6 - C7    \r\n",
      "    24     25   1    1.0969e-01    2.7665e+05 ;     C7 - H71   \r\n",
      "    24     26   1    1.0969e-01    2.7665e+05 ;     C7 - H72   \r\n",
      "    24     27   1    1.5375e-01    2.5179e+05 ;     C7 - C8    \r\n",
      "    27     28   1    1.0969e-01    2.7665e+05 ;     C8 - H81   \r\n",
      "    27     29   1    1.0969e-01    2.7665e+05 ;     C8 - H82   \r\n",
      "    27     30   1    1.5375e-01    2.5179e+05 ;     C8 - C9    \r\n",
      "    30     31   1    1.0969e-01    2.7665e+05 ;     C9 - H91   \r\n",
      "    30     32   1    1.0969e-01    2.7665e+05 ;     C9 - H92   \r\n",
      "    30     33   1    1.5375e-01    2.5179e+05 ;     C9 - C10   \r\n",
      "    33     34   1    1.0969e-01    2.7665e+05 ;    C10 - HH10  \r\n",
      "    33     35   1    1.0969e-01    2.7665e+05 ;    C10 - H1    \r\n",
      "    33     36   1    1.5241e-01    2.6192e+05 ;    C10 - C11   \r\n",
      "    36     37   1    1.2183e-01    5.3363e+05 ;    C11 - O12   \r\n",
      "    36     38   1    1.2183e-01    5.3363e+05 ;    C11 - O13   \r\n",
      "\r\n",
      "[ pairs ]\r\n",
      ";   ai     aj    funct\r\n",
      "     1      6      1 ;     CA - CLC   \r\n",
      "     1      8      1 ;     CA - CLD   \r\n",
      "     1     13      1 ;     CA - O1    \r\n",
      "     1     17      1 ;     CA - H3    \r\n",
      "     1     18      1 ;     CA - C4    \r\n",
      "     1     20      1 ;     CA - N5    \r\n",
      "     2      4      1 ;    CLA - CLB   \r\n",
      "     2      5      1 ;    CLA - CC    \r\n",
      "     2      7      1 ;    CLA - CD    \r\n",
      "     2     10      1 ;    CLA - OE1   \r\n",
      "     2     11      1 ;    CLA - OE2   \r\n",
      "     2     12      1 ;    CLA - C1    \r\n",
      "     2     15      1 ;    CLA - H2    \r\n",
      "     2     16      1 ;    CLA - C3    \r\n",
      "     3      8      1 ;     CB - CLD   \r\n",
      "     3     10      1 ;     CB - OE1   \r\n",
      "     3     11      1 ;     CB - OE2   \r\n",
      "     3     12      1 ;     CB - C1    \r\n",
      "     3     15      1 ;     CB - H2    \r\n",
      "     3     16      1 ;     CB - C3    \r\n",
      "     4      6      1 ;    CLB - CLC   \r\n",
      "     4      7      1 ;    CLB - CD    \r\n",
      "     5     10      1 ;     CC - OE1   \r\n",
      "     5     11      1 ;     CC - OE2   \r\n",
      "     5     14      1 ;     CC - C2    \r\n",
      "     5     17      1 ;     CC - H3    \r\n",
      "     5     18      1 ;     CC - C4    \r\n",
      "     6      8      1 ;    CLC - CLD   \r\n",
      "     6      9      1 ;    CLC - SE    \r\n",
      "     6     16      1 ;    CLC - C3    \r\n",
      "     7     12      1 ;     CD - C1    \r\n",
      "     7     15      1 ;     CD - H2    \r\n",
      "     7     19      1 ;     CD - O4    \r\n",
      "     7     20      1 ;     CD - N5    \r\n",
      "     8     10      1 ;    CLD - OE1   \r\n",
      "     8     11      1 ;    CLD - OE2   \r\n",
      "     8     14      1 ;    CLD - C2    \r\n",
      "     8     17      1 ;    CLD - H3    \r\n",
      "     8     18      1 ;    CLD - C4    \r\n",
      "     9      4      1 ;     SE - CLB   \r\n",
      "     9     12      1 ;     SE - C1    \r\n",
      "     9     15      1 ;     SE - H2    \r\n",
      "     9     17      1 ;     SE - H3    \r\n",
      "     9     18      1 ;     SE - C4    \r\n",
      "    10     16      1 ;    OE1 - C3    \r\n",
      "    11     16      1 ;    OE2 - C3    \r\n",
      "    12     17      1 ;     C1 - H3    \r\n",
      "    12     19      1 ;     C1 - O4    \r\n",
      "    12     22      1 ;     C1 - H61   \r\n",
      "    12     23      1 ;     C1 - H62   \r\n",
      "    12     24      1 ;     C1 - C7    \r\n",
      "    13     15      1 ;     O1 - H2    \r\n",
      "    13     16      1 ;     O1 - C3    \r\n",
      "    13     18      1 ;     O1 - C4    \r\n",
      "    13     21      1 ;     O1 - C6    \r\n",
      "    14      4      1 ;     C2 - CLB   \r\n",
      "    14     10      1 ;     C2 - OE1   \r\n",
      "    14     11      1 ;     C2 - OE2   \r\n",
      "    14     19      1 ;     C2 - O4    \r\n",
      "    14     21      1 ;     C2 - C6    \r\n",
      "    15     17      1 ;     H2 - H3    \r\n",
      "    15     18      1 ;     H2 - C4    \r\n",
      "    15     20      1 ;     H2 - N5    \r\n",
      "    16     21      1 ;     C3 - C6    \r\n",
      "    17     19      1 ;     H3 - O4    \r\n",
      "    17     20      1 ;     H3 - N5    \r\n",
      "    18     22      1 ;     C4 - H61   \r\n",
      "    18     23      1 ;     C4 - H62   \r\n",
      "    18     24      1 ;     C4 - C7    \r\n",
      "    19     21      1 ;     O4 - C6    \r\n",
      "    20     25      1 ;     N5 - H71   \r\n",
      "    20     26      1 ;     N5 - H72   \r\n",
      "    20     27      1 ;     N5 - C8    \r\n",
      "    21     28      1 ;     C6 - H81   \r\n",
      "    21     29      1 ;     C6 - H82   \r\n",
      "    21     30      1 ;     C6 - C9    \r\n",
      "    22     25      1 ;    H61 - H71   \r\n",
      "    22     26      1 ;    H61 - H72   \r\n",
      "    22     27      1 ;    H61 - C8    \r\n",
      "    23     25      1 ;    H62 - H71   \r\n",
      "    23     26      1 ;    H62 - H72   \r\n",
      "    23     27      1 ;    H62 - C8    \r\n",
      "    24     31      1 ;     C7 - H91   \r\n",
      "    24     32      1 ;     C7 - H92   \r\n",
      "    24     33      1 ;     C7 - C10   \r\n",
      "    25     28      1 ;    H71 - H81   \r\n",
      "    25     29      1 ;    H71 - H82   \r\n",
      "    25     30      1 ;    H71 - C9    \r\n",
      "    26     28      1 ;    H72 - H81   \r\n",
      "    26     29      1 ;    H72 - H82   \r\n",
      "    26     30      1 ;    H72 - C9    \r\n",
      "    27     34      1 ;     C8 - HH10  \r\n",
      "    27     35      1 ;     C8 - H1    \r\n",
      "    27     36      1 ;     C8 - C11   \r\n",
      "    28     31      1 ;    H81 - H91   \r\n",
      "    28     32      1 ;    H81 - H92   \r\n",
      "    28     33      1 ;    H81 - C10   \r\n",
      "    29     31      1 ;    H82 - H91   \r\n",
      "    29     32      1 ;    H82 - H92   \r\n",
      "    29     33      1 ;    H82 - C10   \r\n",
      "    30     37      1 ;     C9 - O12   \r\n",
      "    30     38      1 ;     C9 - O13   \r\n",
      "    31     34      1 ;    H91 - HH10  \r\n",
      "    31     35      1 ;    H91 - H1    \r\n",
      "    31     36      1 ;    H91 - C11   \r\n",
      "    32     34      1 ;    H92 - HH10  \r\n",
      "    32     35      1 ;    H92 - H1    \r\n",
      "    32     36      1 ;    H92 - C11   \r\n",
      "    34     37      1 ;   HH10 - O12   \r\n",
      "    34     38      1 ;   HH10 - O13   \r\n",
      "    35     37      1 ;     H1 - O12   \r\n",
      "    35     38      1 ;     H1 - O13   \r\n",
      "\r\n",
      "[ angles ]\r\n",
      ";   ai     aj     ak    funct   theta         cth\r\n",
      "     1      3      4      1    1.1532e+02    5.3053e+02 ;     CA - CB     - CLB   \r\n",
      "     1      3      5      1    1.2363e+02    5.3639e+02 ;     CA - CB     - CC    \r\n",
      "     1      9      7      1    1.0383e+02    5.0124e+02 ;     CA - SE     - CD    \r\n",
      "     1      9     10      1    1.0861e+02    5.4727e+02 ;     CA - SE     - OE1   \r\n",
      "     1      9     11      1    1.0861e+02    5.4727e+02 ;     CA - SE     - OE2   \r\n",
      "     1     14     12      1    1.1104e+02    5.2969e+02 ;     CA - C2     - C1    \r\n",
      "     1     14     15      1    1.0980e+02    3.8744e+02 ;     CA - C2     - H2    \r\n",
      "     1     14     16      1    1.1151e+02    5.2635e+02 ;     CA - C2     - C3    \r\n",
      "     2      1      3      1    1.1051e+02    4.8283e+02 ;    CLA - CA     - CB    \r\n",
      "     2      1      9      1    1.1199e+02    4.8032e+02 ;    CLA - CA     - SE    \r\n",
      "     2      1     14      1    1.1041e+02    4.8032e+02 ;    CLA - CA     - C2    \r\n",
      "     3      1      9      1    1.0989e+02    5.1798e+02 ;     CB - CA     - SE    \r\n",
      "     3      1     14      1    1.1156e+02    5.3053e+02 ;     CB - CA     - C2    \r\n",
      "     3      5      6      1    1.2311e+02    4.8534e+02 ;     CB - CC     - CLC   \r\n",
      "     3      5      7      1    1.2363e+02    5.3639e+02 ;     CB - CC     - CD    \r\n",
      "     4      3      5      1    1.2311e+02    4.8534e+02 ;    CLB - CB     - CC    \r\n",
      "     5      7      8      1    1.1051e+02    4.8283e+02 ;     CC - CD     - CLD   \r\n",
      "     5      7      9      1    1.0989e+02    5.1798e+02 ;     CC - CD     - SE    \r\n",
      "     5      7     16      1    1.1156e+02    5.3053e+02 ;     CC - CD     - C3    \r\n",
      "     6      5      7      1    1.1532e+02    5.3053e+02 ;    CLC - CC     - CD    \r\n",
      "     7      9     10      1    1.0861e+02    5.4727e+02 ;     CD - SE     - OE1   \r\n",
      "     7      9     11      1    1.0861e+02    5.4727e+02 ;     CD - SE     - OE2   \r\n",
      "     7     16     14      1    1.1151e+02    5.2635e+02 ;     CD - C3     - C2    \r\n",
      "     7     16     17      1    1.0980e+02    3.8744e+02 ;     CD - C3     - H3    \r\n",
      "     7     16     18      1    1.1104e+02    5.2969e+02 ;     CD - C3     - C4    \r\n",
      "     8      7      9      1    1.1199e+02    4.8032e+02 ;    CLD - CD     - SE    \r\n",
      "     8      7     16      1    1.1041e+02    4.8032e+02 ;    CLD - CD     - C3    \r\n",
      "     9      1     14      1    1.1022e+02    5.1965e+02 ;     SE - CA     - C2    \r\n",
      "     9      7     16      1    1.1022e+02    5.1965e+02 ;     SE - CD     - C3    \r\n",
      "    10      9     11      1    1.2005e+02    6.1588e+02 ;    OE1 - SE     - OE2   \r\n",
      "    12     14     15      1    1.0877e+02    3.9246e+02 ;     C1 - C2     - H2    \r\n",
      "    12     14     16      1    1.1104e+02    5.2969e+02 ;     C1 - C2     - C3    \r\n",
      "    12     20     18      1    1.2708e+02    5.3304e+02 ;     C1 - N5     - C4    \r\n",
      "    12     20     21      1    1.2069e+02    5.3053e+02 ;     C1 - N5     - C6    \r\n",
      "    13     12     14      1    1.2320e+02    5.6400e+02 ;     O1 - C1     - C2    \r\n",
      "    13     12     20      1    1.2305e+02    6.2091e+02 ;     O1 - C1     - N5    \r\n",
      "    14     12     20      1    1.1518e+02    5.5898e+02 ;     C2 - C1     - N5    \r\n",
      "    14     16     17      1    1.0980e+02    3.8744e+02 ;     C2 - C3     - H3    \r\n",
      "    14     16     18      1    1.1104e+02    5.2969e+02 ;     C2 - C3     - C4    \r\n",
      "    15     14     16      1    1.0980e+02    3.8744e+02 ;     H2 - C2     - C3    \r\n",
      "    16     18     19      1    1.2320e+02    5.6400e+02 ;     C3 - C4     - O4    \r\n",
      "    16     18     20      1    1.1518e+02    5.5898e+02 ;     C3 - C4     - N5    \r\n",
      "    17     16     18      1    1.0877e+02    3.9246e+02 ;     H3 - C3     - C4    \r\n",
      "    18     20     21      1    1.2069e+02    5.3053e+02 ;     C4 - N5     - C6    \r\n",
      "    19     18     20      1    1.2305e+02    6.2091e+02 ;     O4 - C4     - N5    \r\n",
      "    20     21     22      1    1.0888e+02    4.1673e+02 ;     N5 - C6     - H61   \r\n",
      "    20     21     23      1    1.0888e+02    4.1673e+02 ;     N5 - C6     - H62   \r\n",
      "    20     21     24      1    1.1161e+02    5.5145e+02 ;     N5 - C6     - C7    \r\n",
      "    21     24     25      1    1.0980e+02    3.8744e+02 ;     C6 - C7     - H71   \r\n",
      "    21     24     26      1    1.0980e+02    3.8744e+02 ;     C6 - C7     - H72   \r\n",
      "    21     24     27      1    1.1151e+02    5.2635e+02 ;     C6 - C7     - C8    \r\n",
      "    22     21     23      1    1.0846e+02    3.2803e+02 ;    H61 - C6     - H62   \r\n",
      "    22     21     24      1    1.0956e+02    3.8828e+02 ;    H61 - C6     - C7    \r\n",
      "    23     21     24      1    1.0956e+02    3.8828e+02 ;    H62 - C6     - C7    \r\n",
      "    24     27     28      1    1.0980e+02    3.8744e+02 ;     C7 - C8     - H81   \r\n",
      "    24     27     29      1    1.0980e+02    3.8744e+02 ;     C7 - C8     - H82   \r\n",
      "    24     27     30      1    1.1151e+02    5.2635e+02 ;     C7 - C8     - C9    \r\n",
      "    25     24     26      1    1.0758e+02    3.2970e+02 ;    H71 - C7     - H72   \r\n",
      "    25     24     27      1    1.0980e+02    3.8744e+02 ;    H71 - C7     - C8    \r\n",
      "    26     24     27      1    1.0980e+02    3.8744e+02 ;    H72 - C7     - C8    \r\n",
      "    27     30     31      1    1.0980e+02    3.8744e+02 ;     C8 - C9     - H91   \r\n",
      "    27     30     32      1    1.0980e+02    3.8744e+02 ;     C8 - C9     - H92   \r\n",
      "    27     30     33      1    1.1151e+02    5.2635e+02 ;     C8 - C9     - C10   \r\n",
      "    28     27     29      1    1.0758e+02    3.2970e+02 ;    H81 - C8     - H82   \r\n",
      "    28     27     30      1    1.0980e+02    3.8744e+02 ;    H81 - C8     - C9    \r\n",
      "    29     27     30      1    1.0980e+02    3.8744e+02 ;    H82 - C8     - C9    \r\n",
      "    30     33     34      1    1.0980e+02    3.8744e+02 ;     C9 - C10    - HH10  \r\n",
      "    30     33     35      1    1.0980e+02    3.8744e+02 ;     C9 - C10    - H1    \r\n",
      "    30     33     36      1    1.1104e+02    5.2969e+02 ;     C9 - C10    - C11   \r\n",
      "    31     30     32      1    1.0758e+02    3.2970e+02 ;    H91 - C9     - H92   \r\n",
      "    31     30     33      1    1.0980e+02    3.8744e+02 ;    H91 - C9     - C10   \r\n",
      "    32     30     33      1    1.0980e+02    3.8744e+02 ;    H92 - C9     - C10   \r\n",
      "    33     36     37      1    1.2320e+02    5.6400e+02 ;    C10 - C11    - O12   \r\n",
      "    33     36     38      1    1.2320e+02    5.6400e+02 ;    C10 - C11    - O13   \r\n",
      "    34     33     35      1    1.0758e+02    3.2970e+02 ;   HH10 - C10    - H1    \r\n",
      "    34     33     36      1    1.0877e+02    3.9246e+02 ;   HH10 - C10    - C11   \r\n",
      "    35     33     36      1    1.0877e+02    3.9246e+02 ;     H1 - C10    - C11   \r\n",
      "    37     36     38      1    1.3025e+02    6.5187e+02 ;    O12 - C11    - O13   \r\n",
      "\r\n",
      "[ dihedrals ] ; propers\r\n",
      "; for gromacs 4.5 or higher, using funct 9\r\n",
      ";    i      j      k      l   func   phase     kd      pn\r\n",
      "     1      3      5      6      9   180.00  27.82360   2 ;     CA-    CB-    CC-   CLC\r\n",
      "     1      3      5      7      9   180.00   7.94960   1 ;     CA-    CB-    CC-    CD\r\n",
      "     1      3      5      7      9   180.00  27.82360   2 ;     CA-    CB-    CC-    CD\r\n",
      "     1      9      7      5      9     0.00   0.60436   3 ;     CA-    SE-    CD-    CC\r\n",
      "     1      9      7      8      9     0.00   0.60436   3 ;     CA-    SE-    CD-   CLD\r\n",
      "     1      9      7     16      9     0.00   0.60436   3 ;     CA-    SE-    CD-    C3\r\n",
      "     1     14     12     13      9   180.00   0.00000   2 ;     CA-    C2-    C1-    O1\r\n",
      "     1     14     12     20      9     0.00   0.29288   2 ;     CA-    C2-    C1-    N5\r\n",
      "     1     14     12     20      9     0.00   0.41840   4 ;     CA-    C2-    C1-    N5\r\n",
      "     1     14     16      7      9     0.00   0.75312   3 ;     CA-    C2-    C3-    CD\r\n",
      "     1     14     16      7      9   180.00   0.83680   1 ;     CA-    C2-    C3-    CD\r\n",
      "     1     14     16      7      9   180.00   1.04600   2 ;     CA-    C2-    C3-    CD\r\n",
      "     1     14     16     17      9     0.00   0.66944   3 ;     CA-    C2-    C3-    H3\r\n",
      "     1     14     16     18      9     0.00   0.65084   3 ;     CA-    C2-    C3-    C4\r\n",
      "     2      1      3      4      9     0.00   0.00000   0 ;    CLA-    CA-    CB-   CLB\r\n",
      "     2      1      3      5      9     0.00   0.00000   0 ;    CLA-    CA-    CB-    CC\r\n",
      "     2      1      9      7      9     0.00   0.60436   3 ;    CLA-    CA-    SE-    CD\r\n",
      "     2      1      9     10      9     0.00   0.60436   3 ;    CLA-    CA-    SE-   OE1\r\n",
      "     2      1      9     11      9     0.00   0.60436   3 ;    CLA-    CA-    SE-   OE2\r\n",
      "     2      1     14     12      9     0.00   0.65084   3 ;    CLA-    CA-    C2-    C1\r\n",
      "     2      1     14     15      9     0.00   0.00000   0 ;    CLA-    CA-    C2-    H2\r\n",
      "     2      1     14     15      9     0.00   1.04600   1 ;    CLA-    CA-    C2-    H2\r\n",
      "     2      1     14     16      9     0.00   0.65084   3 ;    CLA-    CA-    C2-    C3\r\n",
      "     3      1      9      7      9     0.00   0.60436   3 ;     CB-    CA-    SE-    CD\r\n",
      "     3      1      9     10      9     0.00   0.60436   3 ;     CB-    CA-    SE-   OE1\r\n",
      "     3      1      9     11      9     0.00   0.60436   3 ;     CB-    CA-    SE-   OE2\r\n",
      "     3      1     14     12      9     0.00   0.65084   3 ;     CB-    CA-    C2-    C1\r\n",
      "     3      1     14     15      9     0.00   0.65084   3 ;     CB-    CA-    C2-    H2\r\n",
      "     3      1     14     16      9     0.00   0.65084   3 ;     CB-    CA-    C2-    C3\r\n",
      "     3      5      7      8      9     0.00   0.00000   0 ;     CB-    CC-    CD-   CLD\r\n",
      "     3      5      7      9      9     0.00   0.00000   0 ;     CB-    CC-    CD-    SE\r\n",
      "     3      5      7     16      9     0.00   0.00000   0 ;     CB-    CC-    CD-    C3\r\n",
      "     4      3      5      6      9   180.00  27.82360   2 ;    CLB-    CB-    CC-   CLC\r\n",
      "     4      3      5      7      9   180.00  27.82360   2 ;    CLB-    CB-    CC-    CD\r\n",
      "     5      7      9     10      9     0.00   0.60436   3 ;     CC-    CD-    SE-   OE1\r\n",
      "     5      7      9     11      9     0.00   0.60436   3 ;     CC-    CD-    SE-   OE2\r\n",
      "     5      7     16     14      9     0.00   0.65084   3 ;     CC-    CD-    C3-    C2\r\n",
      "     5      7     16     17      9     0.00   0.65084   3 ;     CC-    CD-    C3-    H3\r\n",
      "     5      7     16     18      9     0.00   0.65084   3 ;     CC-    CD-    C3-    C4\r\n",
      "     6      5      7      8      9     0.00   0.00000   0 ;    CLC-    CC-    CD-   CLD\r\n",
      "     6      5      7      9      9     0.00   0.00000   0 ;    CLC-    CC-    CD-    SE\r\n",
      "     6      5      7     16      9     0.00   0.00000   0 ;    CLC-    CC-    CD-    C3\r\n",
      "     7     16     14     12      9     0.00   0.65084   3 ;     CD-    C3-    C2-    C1\r\n",
      "     7     16     14     15      9     0.00   0.66944   3 ;     CD-    C3-    C2-    H2\r\n",
      "     7     16     18     19      9   180.00   0.00000   2 ;     CD-    C3-    C4-    O4\r\n",
      "     7     16     18     20      9     0.00   0.29288   2 ;     CD-    C3-    C4-    N5\r\n",
      "     7     16     18     20      9     0.00   0.41840   4 ;     CD-    C3-    C4-    N5\r\n",
      "     8      7      9     10      9     0.00   0.60436   3 ;    CLD-    CD-    SE-   OE1\r\n",
      "     8      7      9     11      9     0.00   0.60436   3 ;    CLD-    CD-    SE-   OE2\r\n",
      "     8      7     16     14      9     0.00   0.65084   3 ;    CLD-    CD-    C3-    C2\r\n",
      "     8      7     16     17      9     0.00   0.00000   0 ;    CLD-    CD-    C3-    H3\r\n",
      "     8      7     16     17      9     0.00   1.04600   1 ;    CLD-    CD-    C3-    H3\r\n",
      "     8      7     16     18      9     0.00   0.65084   3 ;    CLD-    CD-    C3-    C4\r\n",
      "     9      1      3      4      9     0.00   0.00000   0 ;     SE-    CA-    CB-   CLB\r\n",
      "     9      1      3      5      9     0.00   0.00000   0 ;     SE-    CA-    CB-    CC\r\n",
      "     9      1     14     12      9     0.00   0.65084   3 ;     SE-    CA-    C2-    C1\r\n",
      "     9      1     14     15      9     0.00   0.65084   3 ;     SE-    CA-    C2-    H2\r\n",
      "     9      1     14     16      9     0.00   0.65084   3 ;     SE-    CA-    C2-    C3\r\n",
      "     9      7     16     14      9     0.00   0.65084   3 ;     SE-    CD-    C3-    C2\r\n",
      "     9      7     16     17      9     0.00   0.65084   3 ;     SE-    CD-    C3-    H3\r\n",
      "     9      7     16     18      9     0.00   0.65084   3 ;     SE-    CD-    C3-    C4\r\n",
      "    10      9      7     16      9     0.00   0.60436   3 ;    OE1-    SE-    CD-    C3\r\n",
      "    11      9      7     16      9     0.00   0.60436   3 ;    OE2-    SE-    CD-    C3\r\n",
      "    12     14     16     17      9     0.00   0.65084   3 ;     C1-    C2-    C3-    H3\r\n",
      "    12     14     16     18      9     0.00   0.65084   3 ;     C1-    C2-    C3-    C4\r\n",
      "    12     20     18     16      9   180.00  10.46000   2 ;     C1-    N5-    C4-    C3\r\n",
      "    12     20     18     19      9   180.00  10.46000   2 ;     C1-    N5-    C4-    O4\r\n",
      "    12     20     21     22      9     0.00   0.00000   0 ;     C1-    N5-    C6-   H61\r\n",
      "    12     20     21     23      9     0.00   0.00000   0 ;     C1-    N5-    C6-   H62\r\n",
      "    12     20     21     24      9     0.00   0.00000   0 ;     C1-    N5-    C6-    C7\r\n",
      "    12     20     21     24      9     0.00   2.21752   1 ;     C1-    N5-    C6-    C7\r\n",
      "    12     20     21     24      9   180.00   0.62760   3 ;     C1-    N5-    C6-    C7\r\n",
      "    12     20     21     24      9   180.00   2.09200   4 ;     C1-    N5-    C6-    C7\r\n",
      "    13     12     14     15      9     0.00   0.00000   0 ;     O1-    C1-    C2-    H2\r\n",
      "    13     12     14     15      9     0.00   3.34720   1 ;     O1-    C1-    C2-    H2\r\n",
      "    13     12     14     15      9   180.00   0.33472   3 ;     O1-    C1-    C2-    H2\r\n",
      "    13     12     14     16      9   180.00   0.00000   2 ;     O1-    C1-    C2-    C3\r\n",
      "    13     12     20     18      9   180.00  10.46000   2 ;     O1-    C1-    N5-    C4\r\n",
      "    13     12     20     21      9   180.00  10.46000   2 ;     O1-    C1-    N5-    C6\r\n",
      "    14      1      3      4      9     0.00   0.00000   0 ;     C2-    CA-    CB-   CLB\r\n",
      "    14      1      3      5      9     0.00   0.00000   0 ;     C2-    CA-    CB-    CC\r\n",
      "    14      1      9      7      9     0.00   0.60436   3 ;     C2-    CA-    SE-    CD\r\n",
      "    14      1      9     10      9     0.00   0.60436   3 ;     C2-    CA-    SE-   OE1\r\n",
      "    14      1      9     11      9     0.00   0.60436   3 ;     C2-    CA-    SE-   OE2\r\n",
      "    14     12     20     18      9   180.00  10.46000   2 ;     C2-    C1-    N5-    C4\r\n",
      "    14     12     20     21      9     0.00   0.00000   0 ;     C2-    C1-    N5-    C6\r\n",
      "    14     12     20     21      9   180.00   6.27600   1 ;     C2-    C1-    N5-    C6\r\n",
      "    14     16     18     19      9   180.00   0.00000   2 ;     C2-    C3-    C4-    O4\r\n",
      "    14     16     18     20      9     0.00   0.29288   2 ;     C2-    C3-    C4-    N5\r\n",
      "    14     16     18     20      9     0.00   0.41840   4 ;     C2-    C3-    C4-    N5\r\n",
      "    15     14     12     20      9   180.00   0.00000   2 ;     H2-    C2-    C1-    N5\r\n",
      "    15     14     16     17      9     0.00   0.62760   3 ;     H2-    C2-    C3-    H3\r\n",
      "    15     14     16     18      9     0.00   0.65084   3 ;     H2-    C2-    C3-    C4\r\n",
      "    16     14     12     20      9     0.00   0.29288   2 ;     C3-    C2-    C1-    N5\r\n",
      "    16     14     12     20      9     0.00   0.41840   4 ;     C3-    C2-    C1-    N5\r\n",
      "    16     18     20     21      9     0.00   0.00000   0 ;     C3-    C4-    N5-    C6\r\n",
      "    16     18     20     21      9   180.00   6.27600   1 ;     C3-    C4-    N5-    C6\r\n",
      "    17     16     18     19      9     0.00   0.00000   0 ;     H3-    C3-    C4-    O4\r\n",
      "    17     16     18     19      9     0.00   3.34720   1 ;     H3-    C3-    C4-    O4\r\n",
      "    17     16     18     19      9   180.00   0.33472   3 ;     H3-    C3-    C4-    O4\r\n",
      "    17     16     18     20      9   180.00   0.00000   2 ;     H3-    C3-    C4-    N5\r\n",
      "    18     20     21     22      9     0.00   0.00000   0 ;     C4-    N5-    C6-   H61\r\n",
      "    18     20     21     23      9     0.00   0.00000   0 ;     C4-    N5-    C6-   H62\r\n",
      "    18     20     21     24      9     0.00   0.00000   0 ;     C4-    N5-    C6-    C7\r\n",
      "    18     20     21     24      9     0.00   2.21752   1 ;     C4-    N5-    C6-    C7\r\n",
      "    18     20     21     24      9   180.00   0.62760   3 ;     C4-    N5-    C6-    C7\r\n",
      "    18     20     21     24      9   180.00   2.09200   4 ;     C4-    N5-    C6-    C7\r\n",
      "    19     18     20     21      9   180.00  10.46000   2 ;     O4-    C4-    N5-    C6\r\n",
      "    20     21     24     25      9     0.00   0.65084   3 ;     N5-    C6-    C7-   H71\r\n",
      "    20     21     24     26      9     0.00   0.65084   3 ;     N5-    C6-    C7-   H72\r\n",
      "    20     21     24     27      9     0.00   0.65084   3 ;     N5-    C6-    C7-    C8\r\n",
      "    21     24     27     28      9     0.00   0.66944   3 ;     C6-    C7-    C8-   H81\r\n",
      "    21     24     27     29      9     0.00   0.66944   3 ;     C6-    C7-    C8-   H82\r\n",
      "    21     24     27     30      9     0.00   0.75312   3 ;     C6-    C7-    C8-    C9\r\n",
      "    21     24     27     30      9   180.00   0.83680   1 ;     C6-    C7-    C8-    C9\r\n",
      "    21     24     27     30      9   180.00   1.04600   2 ;     C6-    C7-    C8-    C9\r\n",
      "    22     21     24     25      9     0.00   0.65084   3 ;    H61-    C6-    C7-   H71\r\n",
      "    22     21     24     26      9     0.00   0.65084   3 ;    H61-    C6-    C7-   H72\r\n",
      "    22     21     24     27      9     0.00   0.65084   3 ;    H61-    C6-    C7-    C8\r\n",
      "    23     21     24     25      9     0.00   0.65084   3 ;    H62-    C6-    C7-   H71\r\n",
      "    23     21     24     26      9     0.00   0.65084   3 ;    H62-    C6-    C7-   H72\r\n",
      "    23     21     24     27      9     0.00   0.65084   3 ;    H62-    C6-    C7-    C8\r\n",
      "    24     27     30     31      9     0.00   0.66944   3 ;     C7-    C8-    C9-   H91\r\n",
      "    24     27     30     32      9     0.00   0.66944   3 ;     C7-    C8-    C9-   H92\r\n",
      "    24     27     30     33      9     0.00   0.75312   3 ;     C7-    C8-    C9-   C10\r\n",
      "    24     27     30     33      9   180.00   0.83680   1 ;     C7-    C8-    C9-   C10\r\n",
      "    24     27     30     33      9   180.00   1.04600   2 ;     C7-    C8-    C9-   C10\r\n",
      "    25     24     27     28      9     0.00   0.62760   3 ;    H71-    C7-    C8-   H81\r\n",
      "    25     24     27     29      9     0.00   0.62760   3 ;    H71-    C7-    C8-   H82\r\n",
      "    25     24     27     30      9     0.00   0.66944   3 ;    H71-    C7-    C8-    C9\r\n",
      "    26     24     27     28      9     0.00   0.62760   3 ;    H72-    C7-    C8-   H81\r\n",
      "    26     24     27     29      9     0.00   0.62760   3 ;    H72-    C7-    C8-   H82\r\n",
      "    26     24     27     30      9     0.00   0.66944   3 ;    H72-    C7-    C8-    C9\r\n",
      "    27     30     33     34      9     0.00   0.66944   3 ;     C8-    C9-   C10-  HH10\r\n",
      "    27     30     33     35      9     0.00   0.66944   3 ;     C8-    C9-   C10-    H1\r\n",
      "    27     30     33     36      9     0.00   0.65084   3 ;     C8-    C9-   C10-   C11\r\n",
      "    28     27     30     31      9     0.00   0.62760   3 ;    H81-    C8-    C9-   H91\r\n",
      "    28     27     30     32      9     0.00   0.62760   3 ;    H81-    C8-    C9-   H92\r\n",
      "    28     27     30     33      9     0.00   0.66944   3 ;    H81-    C8-    C9-   C10\r\n",
      "    29     27     30     31      9     0.00   0.62760   3 ;    H82-    C8-    C9-   H91\r\n",
      "    29     27     30     32      9     0.00   0.62760   3 ;    H82-    C8-    C9-   H92\r\n",
      "    29     27     30     33      9     0.00   0.66944   3 ;    H82-    C8-    C9-   C10\r\n",
      "    30     33     36     37      9   180.00   0.00000   2 ;     C9-   C10-   C11-   O12\r\n",
      "    30     33     36     38      9   180.00   0.00000   2 ;     C9-   C10-   C11-   O13\r\n",
      "    31     30     33     34      9     0.00   0.62760   3 ;    H91-    C9-   C10-  HH10\r\n",
      "    31     30     33     35      9     0.00   0.62760   3 ;    H91-    C9-   C10-    H1\r\n",
      "    31     30     33     36      9     0.00   0.65084   3 ;    H91-    C9-   C10-   C11\r\n",
      "    32     30     33     34      9     0.00   0.62760   3 ;    H92-    C9-   C10-  HH10\r\n",
      "    32     30     33     35      9     0.00   0.62760   3 ;    H92-    C9-   C10-    H1\r\n",
      "    32     30     33     36      9     0.00   0.65084   3 ;    H92-    C9-   C10-   C11\r\n",
      "    34     33     36     37      9     0.00   0.00000   0 ;   HH10-   C10-   C11-   O12\r\n",
      "    34     33     36     37      9     0.00   3.34720   1 ;   HH10-   C10-   C11-   O12\r\n",
      "    34     33     36     37      9   180.00   0.33472   3 ;   HH10-   C10-   C11-   O12\r\n",
      "    34     33     36     38      9     0.00   0.00000   0 ;   HH10-   C10-   C11-   O13\r\n",
      "    34     33     36     38      9     0.00   3.34720   1 ;   HH10-   C10-   C11-   O13\r\n",
      "    34     33     36     38      9   180.00   0.33472   3 ;   HH10-   C10-   C11-   O13\r\n",
      "    35     33     36     37      9     0.00   0.00000   0 ;     H1-   C10-   C11-   O12\r\n",
      "    35     33     36     37      9     0.00   3.34720   1 ;     H1-   C10-   C11-   O12\r\n",
      "    35     33     36     37      9   180.00   0.33472   3 ;     H1-   C10-   C11-   O12\r\n",
      "    35     33     36     38      9     0.00   0.00000   0 ;     H1-   C10-   C11-   O13\r\n",
      "    35     33     36     38      9     0.00   3.34720   1 ;     H1-   C10-   C11-   O13\r\n",
      "    35     33     36     38      9   180.00   0.33472   3 ;     H1-   C10-   C11-   O13\r\n",
      "\r\n",
      "[ dihedrals ] ; impropers\r\n",
      "; treated as propers in GROMACS to use correct AMBER analytical function\r\n",
      ";    i      j      k      l   func   phase     kd      pn\r\n",
      "     3      7      5      6      4   180.00   4.60240   2 ;     CB-    CD-    CC-   CLC\r\n",
      "     5      1      3      4      4   180.00   4.60240   2 ;     CC-    CA-    CB-   CLB\r\n",
      "    12     18     20     21      4   180.00   4.60240   2 ;     C1-    C4-    N5-    C6\r\n",
      "    14     20     12     13      4   180.00  43.93200   2 ;     C2-    N5-    C1-    O1\r\n",
      "    16     20     18     19      4   180.00  43.93200   2 ;     C3-    N5-    C4-    O4\r\n",
      "    33     37     36     38      4   180.00   4.60240   2 ;    C10-   O12-   C11-   O13\r\n",
      "\r\n",
      "[ constraints ]\r\n",
      "     1     14      1  @LEN@  \r\n",
      "     7     16      1  @LEN@  \r\n"
     ]
    }
   ],
   "source": [
    "!cat dat.itp"
   ]
  },
  {
   "cell_type": "markdown",
   "metadata": {},
   "source": [
    "At the end of file two constraint have been specified like that:\n",
    "```\n",
    "[ constraints ]\n",
    "     1     14      1  @LEN@  \n",
    "     7     16      1  @LEN@  \n",
    "```\n",
    "They will represent our reaction coordinate and `@LEN@` will be replaced with the specific number at each individual minimization run during the simulation."
   ]
  },
  {
   "cell_type": "markdown",
   "metadata": {},
   "source": [
    "### Running PES scan simulation"
   ]
  },
  {
   "cell_type": "markdown",
   "metadata": {},
   "source": [
    "Lets also look into the simulation batch script, that will be submited for computation:"
   ]
  },
  {
   "cell_type": "code",
   "execution_count": 16,
   "metadata": {
    "scrolled": true
   },
   "outputs": [
    {
     "name": "stdout",
     "output_type": "stream",
     "text": [
      "#!/bin/bash\r",
      "\r\n",
      "\r",
      "\r\n",
      "export OMP_NUM_THREADS=$SLURM_CPUS_PER_TASK\r",
      "\r\n",
      "export OMP_PLACES=cores\r",
      "\r\n",
      "export GMX_MAXBACKUP=-1\r",
      "\r\n",
      "export GMX_PULL_PARTICIPATE_ALL=1\r",
      "\r\n",
      "\r",
      "\r\n",
      "# prepare directory for GROMACS run\r",
      "\r\n",
      "mkdir opt\r",
      "\r\n",
      "cd opt\r",
      "\r\n",
      "rm rsurf.xvg\r",
      "\r\n",
      "\r",
      "\r\n",
      "# copy conf.gro\r",
      "\r\n",
      "cp ../topol.top topol.top\r",
      "\r\n",
      "cp ../conf.gro confout.gro\r",
      "\r\n",
      "\r",
      "\r\n",
      "# loop over distances from  0.12 nm to 0.45 nm\r",
      "\r\n",
      "for d in $(seq 0.12 0.005 0.45)\r",
      "\r\n",
      "do\r",
      "\r\n",
      "\r",
      "\r\n",
      "   # replace constraint length with the actual number\r",
      "\r\n",
      "   sed \"s/@LEN@/${d}/g\" ../dat.itp > dat.itp\r",
      "\r\n",
      "\r",
      "\r\n",
      "   mkdir opt${d}\r",
      "\r\n",
      "\r",
      "\r\n",
      "   # generate tpr using previous step coordinates\r",
      "\r\n",
      "   gmx_mpi_d grompp -f ../LT.mdp -p topol.top -c confout.gro -n ../index.ndx -o opt${d}/dat-opt${d}.tpr -maxwarn 10\r",
      "\r\n",
      "\r",
      "\r\n",
      "   cd opt${d}\r",
      "\r\n",
      "\r",
      "\r\n",
      "   # run GROMACS\r",
      "\r\n",
      "   srun gmx_mpi_d mdrun -s dat-opt${d}.tpr -v\r",
      "\r\n",
      "\r",
      "\r\n",
      "   gmx_mpi_d distance -s *.tpr -f traj.trr -n ../../index.ndx -select \"com of group 4 plus com of group 5\" -oav -oall\r",
      "\r\n",
      "\r",
      "\r\n",
      "   # extract data to xvg file\r",
      "\r\n",
      "   echo -e \"`tail -n1 dist.xvg | grep '.' | awk '{printf(\"%f\\n\",$2)}'`\\t`grep 'Potential Energy  =' md.log | awk '{printf(\"%f\\n\",$4)}'`\" >> ../rsurf.xvg\r",
      "\r\n",
      "\r",
      "\r\n",
      "   cp -f confout.gro ../\r",
      "\r\n",
      "   \r",
      "\r\n",
      "   cd ..\r",
      "\r\n",
      "\r",
      "\r\n",
      "done\r",
      "\r\n"
     ]
    }
   ],
   "source": [
    "!cat run-surface.sh"
   ]
  },
  {
   "cell_type": "markdown",
   "metadata": {},
   "source": [
    "It will loop over the reaction coordiante distance replacing `@LEN` using `sed` in the topology and performing simulation with `srun` command in separate directory. After the simulation it gathers data about final energy and reaction coordinate value into the *rsurf.xvg* file. Now lets submit our jobs to the cluster:"
   ]
  },
  {
   "cell_type": "code",
   "execution_count": 17,
   "metadata": {
    "scrolled": true
   },
   "outputs": [
    {
     "name": "stdout",
     "output_type": "stream",
     "text": [
      "/bin/bash: sbatch: command not found\r\n"
     ]
    }
   ],
   "source": [
    "! sbatch run-surface.sh"
   ]
  },
  {
   "cell_type": "markdown",
   "metadata": {},
   "source": [
    "You can always check status of your job with `squeue` command:"
   ]
  },
  {
   "cell_type": "code",
   "execution_count": 18,
   "metadata": {
    "scrolled": true
   },
   "outputs": [
    {
     "name": "stdout",
     "output_type": "stream",
     "text": [
      "/bin/bash: squeue: command not found\r\n"
     ]
    }
   ],
   "source": [
    "!squeue --user=`whoami`"
   ]
  },
  {
   "cell_type": "markdown",
   "metadata": {},
   "source": [
    "Wait until that job finish before going to the next part of the tutorial."
   ]
  },
  {
   "cell_type": "markdown",
   "metadata": {},
   "source": [
    "As the job takes more time than 10 minutes specified in the batch script we have prepared sample *rsurf.xvg* file with profile. We could plot data from that using Python:"
   ]
  },
  {
   "cell_type": "code",
   "execution_count": 72,
   "metadata": {
    "scrolled": true
   },
   "outputs": [
    {
     "data": {
      "text/plain": [
       "<matplotlib.lines.Line2D at 0x7f65bc713a00>"
      ]
     },
     "execution_count": 72,
     "metadata": {},
     "output_type": "execute_result"
    },
    {
     "data": {
      "image/png": "[encoded data removed]",
      "text/plain": [
       "<Figure size 432x288 with 1 Axes>"
      ]
     },
     "metadata": {
      "needs_background": "light"
     },
     "output_type": "display_data"
    }
   ],
   "source": [
    "import pandas as pd\n",
    "df = pd.read_csv(rdir + \"/reference-data/DA-opt/rsurf.xvg\", sep='\\s+', header=None, names=['distance','energy'])\n",
    "mine = min(df[['energy']].to_numpy()[20:])\n",
    "df['energy'] -= mine\n",
    "ax = df.plot('distance',xlabel='distance, nm', ylabel='energy, kJ/mol')\n",
    "ax.grid(True, which='both', linestyle='--')\n",
    "ax.axhline(y=0, color='k', linewidth=0.5)"
   ]
  },
  {
   "cell_type": "markdown",
   "metadata": {},
   "source": [
    "And also calculate TS and Products energy with respect to reagents:"
   ]
  },
  {
   "cell_type": "code",
   "execution_count": 45,
   "metadata": {},
   "outputs": [
    {
     "name": "stdout",
     "output_type": "stream",
     "text": [
      "TS Energy = 59.613 kJ/mol at distance 0.228 nm\n",
      "Products energy = -136.492 kJ/mol at distance 0.148 nm\n"
     ]
    }
   ],
   "source": [
    "print(f\"TS Energy = {df['energy'].loc[10:].max():.3f} kJ/mol at distance {df['distance'][df['energy'].loc[10:].idxmax()]:.3f} nm\")\n",
    "print(f\"Products energy = {df['energy'].min():.3f} kJ/mol at distance {df['distance'][df['energy'].idxmin()]:.3f} nm\")"
   ]
  },
  {
   "cell_type": "markdown",
   "metadata": {},
   "source": [
    "There is also an animation of the optimized reaction pathway:"
   ]
  },
  {
   "cell_type": "code",
   "execution_count": 68,
   "metadata": {
    "scrolled": true
   },
   "outputs": [
    {
     "data": {
      "application/vnd.jupyter.widget-view+json": {
       "model_id": "dcc18840f2df4a379c94123b68ccde91",
       "version_major": 2,
       "version_minor": 0
      },
      "text/plain": [
       "NGLWidget(max_frame=66)"
      ]
     },
     "metadata": {},
     "output_type": "display_data"
    }
   ],
   "source": [
    "import nglview as ng \n",
    "import mdtraj as md\n",
    "traj = md.load(rdir + \"/reference-data/DA-opt/traj_opt.pdb\", top=rdir + \"/reference-data/dat.pdb\")\n",
    "view = ng.show_mdtraj(traj)\n",
    "pair = [ [ 1, 7 ] ]\n",
    "view.add_distance(atom_pair=[[\"@13\",\"@0\"]], label_visible=True, label_color=0x0)\n",
    "view.add_distance(atom_pair=[[\"@15\",\"@6\"]], label_visible=True, label_color=0x0)\n",
    "view"
   ]
  },
  {
   "cell_type": "markdown",
   "metadata": {},
   "source": [
    "# Free-energy profile simulation: umbrella sampling "
   ]
  },
  {
   "cell_type": "code",
   "execution_count": null,
   "metadata": {
    "scrolled": true
   },
   "outputs": [],
   "source": [
    "import nglview as ng\n",
    "view = ng.show_structure_file(\"1fjs_protein.pdb\")\n",
    "view\n",
    "# click and drag to rotate, zoom with your mouseweel \n",
    "# for more infor on this viewer have a look at https://github.com/nglviewer/nglview"
   ]
  },
  {
   "cell_type": "markdown",
   "metadata": {},
   "source": [
    "In alternative, you can use VMD or PyMOL to visualize the structure from *1fjs_protein.pdb* on your local machine. "
   ]
  },
  {
   "cell_type": "markdown",
   "metadata": {
    "nbpresent": {
     "id": "345d6e37-b392-4f54-b2ed-4d19f5c13b3d"
    }
   },
   "source": [
    "Note *Such a procedure is not universally appropriate (e.g., the case of a tightly bound ligand or otherwise functional active-site water molecule).*"
   ]
  },
  {
   "cell_type": "markdown",
   "metadata": {
    "nbpresent": {
     "id": "345d6e37-b392-4f54-b2ed-4d19f5c13b3d"
    }
   },
   "source": [
    "Always check your .pdb file for entries listed under the comment MISSING, as these entries indicate either atoms or whole residues that are not present in the crystal structure. Terminal regions may be absent, and may not present a problem for dynamics."
   ]
  },
  {
   "cell_type": "code",
   "execution_count": null,
   "metadata": {
    "scrolled": true
   },
   "outputs": [],
   "source": [
    "!grep MISSING input/1fjs.pdb"
   ]
  },
  {
   "cell_type": "markdown",
   "metadata": {
    "nbpresent": {
     "id": "21e7a22b-6304-496d-8a9d-dfec05a513f6"
    }
   },
   "source": [
    "## Generating a topology"
   ]
  },
  {
   "cell_type": "markdown",
   "metadata": {
    "nbpresent": {
     "id": "1d259e27-9071-43e4-93ab-4c45dbf7c7a1"
    }
   },
   "source": [
    "Now we have verified that all the necessary atoms are present and the PDB file contains only protein atoms, and is ready to be input into GROMACS (see <a href=http://manual.gromacs.org/current/index.html> GROMACS documentation </a>). \n",
    "The first GROMACS tool, we use, is pdb2gmx. The purpose of pdb2gmx is to generate three files:\n",
    "\n",
    "* The topology for the molecule.\n",
    "* A position restraint file.\n",
    "* A post-processed structure file. \n",
    "\n",
    "The topology (topol.top by default) contains all the information necessary to define the molecule within a simulation. This information includes nonbonded parameters (atom types and charges) as well as bonded parameters (bonds, angles, dihedrals and atom connectivity). We will take a more detailed look at the topology once it has been generated."
   ]
  },
  {
   "cell_type": "markdown",
   "metadata": {},
   "source": [
    "Note *Incomplete internal sequences or any amino acid residues that have missing atoms will cause pdb2gmx to fail. These missing atoms/residues must be modeled in using other software packages. Also note that pdb2gmx is not magic. It cannot generate topologies for arbitrary molecules, just the residues defined by the force field (in the *.rtp files - generally proteins, nucleic acids, and a very finite amount of cofactors, like NAD(H) and ATP).*"
   ]
  },
  {
   "cell_type": "markdown",
   "metadata": {},
   "source": [
    "Execute pdb2gmx by issuing the following command:"
   ]
  },
  {
   "cell_type": "code",
   "execution_count": null,
   "metadata": {
    "nbpresent": {
     "id": "2f9730de-896f-4e92-84c7-3de46d837d53"
    },
    "scrolled": false
   },
   "outputs": [],
   "source": [
    "!gmx pdb2gmx -f 1fjs_protein.pdb -o 1fjs_processed.gro -water tip3p -ff \"charmm27\""
   ]
  },
  {
   "cell_type": "markdown",
   "metadata": {
    "nbpresent": {
     "id": "d5ba1bb9-c859-4e03-a21b-780533486c27"
    }
   },
   "source": [
    "Here, we made an important decision for the course of the simualtion in choosing the CHARMM27 all-atom force field. The force field will contain the information that will be written to the topology. This is a very important choice! You should always read thoroughly about each force field and decide which is most applicable to your situation. Other choices are given, when running pdb2gmx without the -ff flag"
   ]
  },
  {
   "cell_type": "markdown",
   "metadata": {
    "nbpresent": {
     "id": "b5b8ad6b-94b6-4ffc-b771-87dadfb78841"
    }
   },
   "source": [
    "    Select the Force Field:\n",
    "    From '/usr/local/gromacs/share/gromacs/top':\n",
    "     1: AMBER03 protein, nucleic AMBER94 (Duan et al., J. Comp. Chem. 24, 1999-2012, 2003)\n",
    "     2: AMBER94 force field (Cornell et al., JACS 117, 5179-5197, 1995)\n",
    "     3: AMBER96 protein, nucleic AMBER94 (Kollman et al., Acc. Chem. Res. 29, 461-469, 1996)\n",
    "     4: AMBER99 protein, nucleic AMBER94 (Wang et al., J. Comp. Chem. 21, 1049-1074, 2000)\n",
    "     5: AMBER99SB protein, nucleic AMBER94 (Hornak et al., Proteins 65, 712-725, 2006)\n",
    "     6: AMBER99SB-ILDN protein, nucleic AMBER94 (Lindorff-Larsen et al., Proteins 78, 1950-58, 2010)\n",
    "     7: AMBERGS force field (Garcia & Sanbonmatsu, PNAS 99, 2782-2787, 2002)\n",
    "     8: CHARMM27 all-atom force field (CHARM22 plus CMAP for proteins)\n",
    "     9: GROMOS96 43a1 force field\n",
    "    10: GROMOS96 43a2 force field (improved alkane dihedrals)\n",
    "    11: GROMOS96 45a3 force field (Schuler JCC 2001 22 1205)\n",
    "    12: GROMOS96 53a5 force field (JCC 2004 vol 25 pag 1656)\n",
    "    13: GROMOS96 53a6 force field (JCC 2004 vol 25 pag 1656)\n",
    "    14: GROMOS96 54a7 force field (Eur. Biophys. J. (2011), 40,, 843-856, DOI: 10.1007/s00249-011-0700-9)\n",
    "    15: OPLS-AA/L all-atom force field (2001 aminoacid dihedrals)\n"
   ]
  },
  {
   "cell_type": "markdown",
   "metadata": {
    "nbpresent": {
     "id": "313f7d4f-aef7-4034-a8f0-d01ccbc0f61a"
    }
   },
   "source": [
    "There are many other options that can be passed to pdb2gmx (see http://manual.gromacs.org/documentation/current/onlinehelp/gmx-pdb2gmx.html). Some commonly used ones are listed here:\n",
    "\n",
    "| Option | Effect |\n",
    "|--------|--------\n",
    "|-water  | Water model to use: none, spc, spce, tip3p, tip4p, tip5p, tips3p.|\n",
    "|-ignh   | Ignore H atoms in the PDB file; especially useful for NMR structures. Otherwise, if H atoms are present, they must be in the named exactly how the force fields in GROMACS expect them to be. Different conventions exist, so dealing with H atoms can occasionally be a headache! If you need to preserve the initial H coordinates, but renaming is required, then the Linux sed command is your friend.|\n",
    "|-ter    | Interactively assign charge states for N- and C-termini.|\n",
    "|-inter  | Interactively assign charge states for Glu, Asp, Lys, Arg, and His; choose which Cys are involved in disulfide bonds.|"
   ]
  },
  {
   "cell_type": "markdown",
   "metadata": {
    "nbpresent": {
     "id": "d0e9e6a0-2330-4d50-90ee-9c2ebcfeccb9"
    }
   },
   "source": [
    "## A peek at the generated files"
   ]
  },
  {
   "cell_type": "code",
   "execution_count": null,
   "metadata": {
    "nbpresent": {
     "id": "db39c2bf-2b27-4143-a5bf-2d8a9ad69a86"
    },
    "scrolled": false
   },
   "outputs": [],
   "source": [
    "!ls"
   ]
  },
  {
   "cell_type": "markdown",
   "metadata": {
    "nbpresent": {
     "id": "e726db3d-da64-4dc6-979a-37de5aca3555"
    }
   },
   "source": [
    "You have now generated three new files: 1fjs_processed.gro, topol.top, topol_Protein_chain_X.itp and posre_Protein_chain_X.itp. 1fjs_processed.gro is a GROMACS-formatted structure file that contains all the atoms defined within the force field (i.e., H atoms have been added to the amino acids in the protein). The topol.top file is the system topology (more on this in a minute). The posre files contain information used to restrain the positions of heavy atoms (more on this later).\n",
    "\n",
    "One final note: many users assume that a .gro file is mandatory. This is not true. GROMACS can handle many different file formats, with .gro simply being the default for commands that write coordinate files. It is a very compact format, but it has limited precision. If you prefer to use, for instance, PDB format, all you need to do is to specify an appropriate file name with .pdb extension as your output. The purpose of pdb2gmx is to produce a force field-compliant topology; the output structure is largely a side effect of this purpose and is intended for user convenience. The format can be just about anything you like (see http://manual.gromacs.org/documentation/current/reference-manual/file-formats.html for different formats)."
   ]
  },
  {
   "cell_type": "markdown",
   "metadata": {
    "nbpresent": {
     "id": "aeae1bf0-ee7a-466f-8a74-ffa719813bc6"
    }
   },
   "source": [
    "# Understanding molecule \"topologies\""
   ]
  },
  {
   "cell_type": "markdown",
   "metadata": {
    "nbpresent": {
     "id": "93e9c7bd-075d-429f-be86-6b3118cb5b1c"
    }
   },
   "source": [
    "Let's look at what is in the output topology (topol.top). Again, using a plain text editor, inspect its contents. After several comment lines (preceded by `;`), you will find the following:"
   ]
  },
  {
   "cell_type": "code",
   "execution_count": null,
   "metadata": {
    "scrolled": false
   },
   "outputs": [],
   "source": [
    "!cat topol.top"
   ]
  },
  {
   "cell_type": "markdown",
   "metadata": {
    "nbpresent": {
     "id": "c2e72686-c836-46ff-947a-faaf1e87d18a"
    }
   },
   "source": [
    "The first line calls the parameters within the choosen force field. It is at the beginning of the file, indicating that all subsequent parameters are derived from this force field.  Then next important line is [ moleculetype ], that you find in  "
   ]
  },
  {
   "cell_type": "code",
   "execution_count": null,
   "metadata": {
    "scrolled": true
   },
   "outputs": [],
   "source": [
    "!grep \"moleculetype\" -A 3 topol_Protein_chain_A.itp"
   ]
  },
  {
   "cell_type": "markdown",
   "metadata": {},
   "source": [
    "and"
   ]
  },
  {
   "cell_type": "code",
   "execution_count": null,
   "metadata": {
    "scrolled": true
   },
   "outputs": [],
   "source": [
    "!grep \"moleculetype\" -A 3 topol_Protein_chain_L.itp"
   ]
  },
  {
   "cell_type": "markdown",
   "metadata": {
    "nbpresent": {
     "id": "49a884b4-6326-4c0b-99a0-d66f60bd9e4d"
    }
   },
   "source": [
    "The name \"Protein_chain_A\" defines the molecule name, based on the fact that the protein was labeled as chain A in the PDB file. There are 3 exclusions for bonded neighbors. More information on exclusions can be found in the <a href=http://manual.gromacs.org/current/reference-manual/topologies.html>GROMACS manual</a>."
   ]
  },
  {
   "cell_type": "markdown",
   "metadata": {
    "nbpresent": {
     "id": "db680c9f-9999-4423-b607-47b2746a64c4"
    }
   },
   "source": [
    "## Atoms in a topology"
   ]
  },
  {
   "cell_type": "markdown",
   "metadata": {
    "nbpresent": {
     "id": "98122e18-61f8-44b2-b5cf-6b4fa20ae864"
    }
   },
   "source": [
    "The next section defines the [ atoms ] in the protein. The information is presented as columns:"
   ]
  },
  {
   "cell_type": "code",
   "execution_count": null,
   "metadata": {
    "scrolled": true
   },
   "outputs": [],
   "source": [
    "! grep \"atoms\" -A 4 topol_Protein_chain_A.itp"
   ]
  },
  {
   "cell_type": "markdown",
   "metadata": {
    "nbpresent": {
     "id": "09648857-440c-4e54-86c6-932fa288cfa9"
    }
   },
   "source": [
    "The interpretation of this information is as follows:\n",
    "\n",
    "|Field  |  description |\n",
    "|--|--\n",
    "|nr|Atom number\n",
    "|type| Atom type\n",
    "|resnr|Amino acid residue number\n",
    "|residue| The amino acid residue name- Note that this may be different from .rtp entry. \n",
    "|atom| Atom name\n",
    "|cgnr| Charge group number - Not used anymore \n",
    "|charge| Self-explanatory - The \"qtot\" descriptor is a running total of the charge on the molecule\n",
    "|mass| Also self-explanatory\n",
    "|typeB, chargeB, massB| Used for free energy perturbation (not discussed here) "
   ]
  },
  {
   "cell_type": "markdown",
   "metadata": {
    "nbpresent": {
     "id": "18a65484-38e3-49fc-9dc2-57f04d698628"
    }
   },
   "source": [
    "## Bonds and other interactions"
   ]
  },
  {
   "cell_type": "markdown",
   "metadata": {
    "nbpresent": {
     "id": "0a8bda1d-2727-4a76-983d-dab8112e1dcf"
    }
   },
   "source": [
    "Subsequent sections include [ bonds ], [ pairs ], [ angles ], and [ dihedrals ]. Some of these sections are self-explanatory (bonds, angles, and dihedrals). These interactions are found [here](http://manual.gromacs.org/current/reference-manual/functions.html) and special 1-4 interactions are included under [pairs](http://manual.gromacs.org/current/reference-manual/functions/interaction-methods.html#exclusions-and-1-4-interactions). For format associated to function types [see topology file table](http://manual.gromacs.org/documentation/2020-beta1/reference-manual/topologies/topology-file-formats.html) in GROMACS manual."
   ]
  },
  {
   "cell_type": "markdown",
   "metadata": {},
   "source": [
    "Below we look for these interactions in topolology file. As example we start with chain A. Bonded interactions"
   ]
  },
  {
   "cell_type": "code",
   "execution_count": null,
   "metadata": {
    "scrolled": true
   },
   "outputs": [],
   "source": [
    "!grep \"bonds\" -A 2 topol_Protein_chain_A.itp"
   ]
  },
  {
   "cell_type": "markdown",
   "metadata": {},
   "source": [
    "Pair interactions"
   ]
  },
  {
   "cell_type": "code",
   "execution_count": null,
   "metadata": {
    "scrolled": true
   },
   "outputs": [],
   "source": [
    "!grep \"pairs\" -A 2  topol_Protein_chain_A.itp"
   ]
  },
  {
   "cell_type": "markdown",
   "metadata": {},
   "source": [
    "Angle interactions"
   ]
  },
  {
   "cell_type": "code",
   "execution_count": null,
   "metadata": {
    "scrolled": true
   },
   "outputs": [],
   "source": [
    "!grep \"angles\" -A 2 topol_Protein_chain_A.itp"
   ]
  },
  {
   "cell_type": "markdown",
   "metadata": {},
   "source": [
    "Dihedral interactions"
   ]
  },
  {
   "cell_type": "code",
   "execution_count": null,
   "metadata": {
    "scrolled": true
   },
   "outputs": [],
   "source": [
    "!grep \"dihedrals\" -A 2 topol_Protein_chain_A.itp"
   ]
  },
  {
   "cell_type": "markdown",
   "metadata": {
    "nbpresent": {
     "id": "ef42771f-cf92-4505-a904-9e5b8f9ab0d1"
    }
   },
   "source": [
    "## Water and position restraints"
   ]
  },
  {
   "cell_type": "markdown",
   "metadata": {
    "nbpresent": {
     "id": "b43f5e17-887e-415c-a7da-1b61d8e53b93"
    }
   },
   "source": [
    "The remainder of the file involves including a few other useful/necessary topologies, starting with position restraints. The \"posre.itp\" file was generated by pdb2gmx; it defines a force constant used to keep atoms in place during equilibration (more on this later)."
   ]
  },
  {
   "cell_type": "code",
   "execution_count": null,
   "metadata": {
    "scrolled": true
   },
   "outputs": [],
   "source": [
    "!grep \"posre\" topol*.itp"
   ]
  },
  {
   "cell_type": "code",
   "execution_count": null,
   "metadata": {
    "nbpresent": {
     "id": "04e0801a-6444-4279-b4ed-36245a918cba"
    },
    "scrolled": false
   },
   "outputs": [],
   "source": [
    "!cat posre_Protein_chain_A.itp"
   ]
  },
  {
   "cell_type": "markdown",
   "metadata": {
    "nbpresent": {
     "id": "3efdb33e-1797-47b0-8866-deb26bef0b7b"
    }
   },
   "source": [
    "Here ends the \"Protein_chain_A\" moleculetype definition. Then the \"Protein_chain_L\" moleculetype definition starts. The remainder of the topology file is dedicated to defining other molecules and providing system-level descriptions. The next moleculetype (by default) is the solvent, in this case TIP3P water. Other typical choices for water include SPC, SPC/E, and TIP4P. We chose this by passing \"-water tip3p\" to pdb2gmx. For an excellent summary of the many different water models, click [here](http://www.idc-online.com/technical_references/pdfs/chemical_engineering/Water_models.pdf) , but be aware that not all of these models are present within GROMACS."
   ]
  },
  {
   "cell_type": "markdown",
   "metadata": {
    "nbpresent": {
     "id": "39ea31e7-3219-49d9-b756-2bd0fb8dca0b"
    }
   },
   "source": [
    "## Ions and other parameters"
   ]
  },
  {
   "cell_type": "markdown",
   "metadata": {
    "nbpresent": {
     "id": "ecd3d9b7-4388-4f41-a597-677407b6a8fd"
    }
   },
   "source": [
    "Ion parameters are included next:"
   ]
  },
  {
   "cell_type": "code",
   "execution_count": null,
   "metadata": {
    "scrolled": true
   },
   "outputs": [],
   "source": [
    "!grep \"ions\" topol.top"
   ]
  },
  {
   "cell_type": "markdown",
   "metadata": {},
   "source": [
    "## System level definitions"
   ]
  },
  {
   "cell_type": "markdown",
   "metadata": {
    "nbpresent": {
     "id": "5ccbb2b2-116b-48d2-9212-33ff648831ca"
    }
   },
   "source": [
    "Finally come system-level definitions. The [ system ] directive gives the name of the system that will be written to output files during the simulation. The [ molecules ] directive lists all of the molecules in the system."
   ]
  },
  {
   "cell_type": "code",
   "execution_count": null,
   "metadata": {
    "scrolled": true
   },
   "outputs": [],
   "source": [
    "!tail -8 topol.top"
   ]
  },
  {
   "cell_type": "markdown",
   "metadata": {
    "nbpresent": {
     "id": "8c2b434c-5817-4179-9529-ec89fdb0800d"
    }
   },
   "source": [
    "A few key notes about the `[ molecules ]` directive:\n",
    "\n",
    "- The order of the listed molecules must exactly match the order of the molecules in the coordinate (in this case, .gro) file.\n",
    "- The names listed must match the `[ moleculetype ]` name for each species, not residue names or anything else.\n",
    "\n",
    "If you fail to satisfy these concrete requirements at any time, you will get fatal errors from grompp (discussed later) about mismatched names, molecules not being found, or a number of others."
   ]
  },
  {
   "cell_type": "markdown",
   "metadata": {
    "nbpresent": {
     "id": "3b32f9b6-e20b-460f-ae55-7cdd99ea1892"
    }
   },
   "source": [
    "Now that we have examined the contents of a topology file, we can continue building our system."
   ]
  },
  {
   "cell_type": "markdown",
   "metadata": {
    "nbpresent": {
     "id": "598b0d30-9d4c-4b31-a670-959bb96ab87f"
    }
   },
   "source": [
    "# Solvating the simulation system"
   ]
  },
  {
   "cell_type": "markdown",
   "metadata": {
    "nbpresent": {
     "id": "4c7344d8-d42d-4e4c-918c-0e1a160a1319"
    }
   },
   "source": [
    "Now that you are familiar with the contents of the GROMACS topology, it is time to continue building our system. In this example, we are going to be simulating a simple aqueous system. It is possible to simulate proteins and other molecules in different solvents, provided that good parameters are available for all species involved.\n",
    "\n",
    "There are two steps to defining the box and filling it with solvent:\n",
    "\n",
    "- Define the box dimensions using the editconf module.\n",
    "- Fill the box with water using the solvate module. \n",
    "\n",
    "You are now presented with a choice as to how to treat the unit cell. For the purpose of this tutorial, we will use the rhombic dodecahedron, as its volume is ~71% of the cubic box of the same periodic distance, thus saving on the number of water molecules that need to be added to solvate the protein."
   ]
  },
  {
   "cell_type": "markdown",
   "metadata": {
    "nbpresent": {
     "id": "95ad5707-817d-46aa-b35f-09cfb6796c02"
    }
   },
   "source": [
    "## Defining the simulation box"
   ]
  },
  {
   "cell_type": "markdown",
   "metadata": {
    "nbpresent": {
     "id": "b6a06a69-5b82-4302-a61f-ba3c568c497e"
    }
   },
   "source": [
    "Let's define the box using editconf:"
   ]
  },
  {
   "cell_type": "code",
   "execution_count": null,
   "metadata": {
    "nbpresent": {
     "id": "23d642d0-a609-4be8-aed1-00aee72b22bf"
    },
    "scrolled": false
   },
   "outputs": [],
   "source": [
    "!gmx editconf -f 1fjs_processed.gro -o 1fjs_newbox.gro -c -d 1.0 -bt dodecahedron"
   ]
  },
  {
   "cell_type": "markdown",
   "metadata": {
    "nbpresent": {
     "id": "e68f5978-ef1b-4700-84bb-a40173c8ccf8"
    }
   },
   "source": [
    "The above command centers the protein in the box (-c), and places it at least 1.0 nm from the box edge (-d 1.0). The box type is defined as a rhombic dodecahedron (-bt dodecahedron). Have a look at this [section](http://manual.gromacs.org/current/reference-manual/algorithms/periodic-boundary-conditions.html#pbc) in the manual for more on periodic boundary conditions and dodecahedrons."
   ]
  },
  {
   "cell_type": "markdown",
   "metadata": {
    "nbpresent": {
     "id": "e68f5978-ef1b-4700-84bb-a40173c8ccf8"
    }
   },
   "source": [
    "The distance to the edge of the box is an important parameter. A protein should never interact with its periodic image (minimum image convention), otherwise the forces calculated will be spurious. The minimum image convention implies that the distance between two periodic images of the protein should be larger than the cut-off radius used to truncate non-bonded interactions. Here we will use a cut-off radius of 1.2 nm (see below). Specifying a solute-box distance of 1.0 nm will mean that there are at least 2.0 nm between any two periodic images of a protein. We expect that at that distance all protein-protein interactions are negligble."
   ]
  },
  {
   "cell_type": "markdown",
   "metadata": {
    "nbpresent": {
     "id": "75d89a8d-1463-4767-a002-581b3c015753"
    }
   },
   "source": [
    "## Filling the box with water"
   ]
  },
  {
   "cell_type": "code",
   "execution_count": null,
   "metadata": {
    "nbpresent": {
     "id": "82f1ad5a-cef0-46fe-9494-92477b273cd9"
    },
    "scrolled": false
   },
   "outputs": [],
   "source": [
    "!gmx solvate -cp 1fjs_newbox.gro -cs spc216.gro -o 1fjs_solv.gro -p topol.top"
   ]
  },
  {
   "cell_type": "markdown",
   "metadata": {
    "nbpresent": {
     "id": "3fb8e6fc-1343-47e9-925c-c754b822b91b"
    }
   },
   "source": [
    "The configuration of the protein (-cp) is contained in the output of the previous editconf step, and the configuration of the solvent (-cs) is part of the standard GROMACS installation. We are using spc216.gro, which is a generic equilibrated 3-point solvent model box. You can use spc216.gro as the solvent configuration for SPC, SPC/E, or TIP3P water, since they are all three-point water models. The output is called 1fjs_solv.gro, and we tell solvate the name of the topology file (topol.top) so it can be modified. Note the changes to the [ molecules ] directive of topol.top:"
   ]
  },
  {
   "cell_type": "code",
   "execution_count": null,
   "metadata": {
    "nbpresent": {
     "id": "27850d11-a3ed-4feb-939a-3d687b5ab001"
    },
    "scrolled": false
   },
   "outputs": [],
   "source": [
    "!tail topol.top"
   ]
  },
  {
   "cell_type": "markdown",
   "metadata": {
    "nbpresent": {
     "id": "cf8c6e22-eb31-486d-88d9-67d800524670"
    }
   },
   "source": [
    "\n",
    "`gmx solvate` kept track of how many water molecules it has added, which it then writes to your topology to reflect the changes that have been made. Note that if you use any other (non-water) solvent, solvate will not make these changes to your topology! Its compatibility with updating water molecules is hard-coded."
   ]
  },
  {
   "cell_type": "markdown",
   "metadata": {
    "nbpresent": {
     "id": "33086651-f3c8-43b7-b47f-36645fa72aaa"
    }
   },
   "source": [
    "# Adding Ions"
   ]
  },
  {
   "cell_type": "markdown",
   "metadata": {
    "nbpresent": {
     "id": "1c524b7e-8fcc-420a-b0fb-8ccb7d0f54c1"
    }
   },
   "source": [
    "We now have a solvated system that contains a charged protein. The output of `pdb2gmx` told us that the protein has a net charge of -2e (based on its amino acid composition). If you missed this information in the `pdb2gmx` output, look at the last line of each [ atoms ] directive in topology file; it should read  \"qtot 1.\" for chain A and  \"qtot -3.\" for chain L. Since life does not exist at a net charge, we must add ions to our system. Further, we aim to approximate physiological conditions and use therefore a NaCl concentration of 0.15 M."
   ]
  },
  {
   "cell_type": "markdown",
   "metadata": {
    "nbpresent": {
     "id": "3c3ff084-1058-4bf3-afa0-a0cea3c1df09"
    }
   },
   "source": [
    "## Preparing the input for \"gmx genion\""
   ]
  },
  {
   "cell_type": "markdown",
   "metadata": {
    "nbpresent": {
     "id": "68bf2221-bfce-429a-95d9-156af62a3359"
    }
   },
   "source": [
    "The tool for adding ions within GROMACS is called `genion`. What genion does is read through the topology and replace water molecules with the ions that the user specifies. The input is called a run input file, which has an extension of .tpr; this file is produced by the GROMACS grompp module (GROMACS pre-processor), which will also be used later when we run our first simulation. `grompp` processes the coordinate file and topology (which describes the molecules) to generate an atomic-level input (`.tpr`). The .tpr file contains all the parameters for all of the atoms in the system."
   ]
  },
  {
   "cell_type": "markdown",
   "metadata": {
    "nbpresent": {
     "id": "15158eb8-2025-44e7-88dd-9966aea64b60"
    }
   },
   "source": [
    "To produce a .tpr file with grompp, we will need an additional input file, with the extension .mdp (molecular dynamics parameter file); grompp will assemble the parameters specified in the .mdp file with the coordinates and topology information to generate a .tpr file."
   ]
  },
  {
   "cell_type": "markdown",
   "metadata": {
    "nbpresent": {
     "id": "cc071b1a-1700-4426-9285-a039f320ee60"
    }
   },
   "source": [
    "An .mdp file is normally used to run energy minimization or an MD simulation, but in this case is simply used to generate an atomic description of the system. We can proceed with an completely empty .mdp file in this case, created using *touch* utility, its only role is to create the .tpr file."
   ]
  },
  {
   "cell_type": "code",
   "execution_count": null,
   "metadata": {
    "scrolled": true
   },
   "outputs": [],
   "source": [
    "!touch ions.mdp"
   ]
  },
  {
   "cell_type": "markdown",
   "metadata": {
    "nbpresent": {
     "id": "3f058b29-44cc-4e0c-8462-588b1279457b"
    }
   },
   "source": [
    "Assemble your .tpr file with the following:"
   ]
  },
  {
   "cell_type": "code",
   "execution_count": null,
   "metadata": {
    "nbpresent": {
     "id": "1bc074e1-d521-46ec-b9a2-359cdea24637"
    },
    "scrolled": false
   },
   "outputs": [],
   "source": [
    "!gmx grompp -f ions.mdp -c 1fjs_solv.gro -p topol.top -o ions.tpr"
   ]
  },
  {
   "cell_type": "markdown",
   "metadata": {
    "nbpresent": {
     "id": "9c28bff3-bef7-4d81-aac3-7581c40629c2"
    }
   },
   "source": [
    "Be aware that there are some `NOTE` in the output. In all other cases than generating an output `tpr` for `genion` these are very important and may not be ignored, here however we only need the atomic-level description of our system in the binary file ions.tpr. We will pass this file to genion:"
   ]
  },
  {
   "cell_type": "markdown",
   "metadata": {},
   "source": [
    "*Note: A lot of GROMACS tools promt for input at the command line. As this does not play well with the jupyter notebook setup, we feed the input to the command line with a print command and a newline \\n substituting enter*"
   ]
  },
  {
   "cell_type": "code",
   "execution_count": null,
   "metadata": {
    "nbpresent": {
     "id": "88837846-7a76-4ce4-9419-6588a42e8b1f"
    },
    "scrolled": false
   },
   "outputs": [],
   "source": [
    "!printf \"SOL\\n\" | gmx genion -s ions.tpr -o 1fjs_solv_ions.gro -conc 0.15 -p \\\n",
    "topol.top -pname NA -nname CL -neutral"
   ]
  },
  {
   "cell_type": "markdown",
   "metadata": {
    "nbpresent": {
     "id": "af2e805e-ca9f-4b95-b58f-0d4055f7d165"
    }
   },
   "source": [
    "We chose group \"SOL\" for embedding ions. You do not want to replace parts of your protein with ions."
   ]
  },
  {
   "cell_type": "markdown",
   "metadata": {},
   "source": [
    "*Note: Make sure to run genion only once. `gmx genion` edits the topology \"in-place\" and does not know if there are already Cl or Na ions in the system. If you run it over again, ions will be added until there is no water left to replace with ions.*"
   ]
  },
  {
   "cell_type": "markdown",
   "metadata": {
    "nbpresent": {
     "id": "9f3bfe12-f048-4d58-88ed-b2cb22450ea2"
    }
   },
   "source": [
    "In the genion command, we provide the structure/state file (-s) as input, generate a .gro file as output (-o), process the topology (-p) to reflect the removal of water molecules and addition of ions, define positive and negative ion names (-pname and -nname, respectively), and tell genion to add ions necessary to neutralize the net charge on the protein by adding the correct number of negative ions (-neutral, which in this case will add 2 Na+ ions to offset the -2 charge on the protein). We further use genion to add a specified concentration of ions in addition to simply neutralizing the system by specifying the -neutral and -conc options in conjunction. Refer to the genion man page for information on how to use these options.\n",
    "\n",
    "The names of the ions specified with -pname and -nname GROMACS are standardized and not dependent on the force-field. The specified ion names are always the elemental symbol in all capital letters, which is the [ moleculetype ] name that is then written to the topology. Residue or atom names may or may not append the sign of the charge (+/-), depending on the force field. Do not use atom or residue names in the genion command, or you will encounter errors in subsequent steps."
   ]
  },
  {
   "cell_type": "markdown",
   "metadata": {
    "nbpresent": {
     "id": "e474e9aa-baeb-4ff7-b445-c17bbdd0173a"
    }
   },
   "source": [
    "Your [ molecules ] directive should now be similar to"
   ]
  },
  {
   "cell_type": "markdown",
   "metadata": {
    "nbpresent": {
     "id": "3fe444f7-f9a1-4b1b-8faa-8436793520fe"
    }
   },
   "source": [
    "    [ molecules ]\n",
    "    ; Compound      #mols\n",
    "    Protein_chain_A    1\n",
    "    Protein_chain_L    1\n",
    "    SOL           11703\n",
    "    NA              38\n",
    "    CL              36"
   ]
  },
  {
   "cell_type": "markdown",
   "metadata": {},
   "source": [
    "Let's check the last lines of the topology file"
   ]
  },
  {
   "cell_type": "code",
   "execution_count": null,
   "metadata": {
    "nbpresent": {
     "id": "e6be30a5-ee4c-44f9-bb44-5799f3e70317"
    },
    "scrolled": false
   },
   "outputs": [],
   "source": [
    "!tail -6 topol.top"
   ]
  },
  {
   "cell_type": "markdown",
   "metadata": {},
   "source": [
    "If you see multiple lines of NA and CL, you most likely ran genion multiple times. Start over with the `pdb2gmx`."
   ]
  },
  {
   "cell_type": "markdown",
   "metadata": {
    "nbpresent": {
     "id": "bb96f417-4653-4a5e-914c-54771fe98290"
    }
   },
   "source": [
    "# Energy minimisation"
   ]
  },
  {
   "cell_type": "markdown",
   "metadata": {
    "nbpresent": {
     "id": "60af9d49-7607-43dd-b50e-ed6111b93c45"
    }
   },
   "source": [
    "The solvated, electroneutral system is now assembled. Before we can begin dynamics, we must ensure that the system has no steric clashes or inappropriate geometry. The structure is relaxed through a process called energy minimization (EM)."
   ]
  },
  {
   "cell_type": "markdown",
   "metadata": {
    "nbpresent": {
     "id": "60af9d49-7607-43dd-b50e-ed6111b93c45"
    }
   },
   "source": [
    "To perform energy minimization, we are once again going to use grompp to assemble the structure, topology, and simulation parameters into a binary input file (.tpr), then we will use GROMACS MD engine, mdrun, to run the energy minimization."
   ]
  },
  {
   "cell_type": "markdown",
   "metadata": {
    "nbpresent": {
     "id": "60af9d49-7607-43dd-b50e-ed6111b93c45"
    }
   },
   "source": [
    "Assemble the binary input using grompp using the .mdp parameter file, as input. The simulation parameter file (.mdp) determines how the simulation shall be run. Find more information on all the options in the [manual](http://manual.gromacs.org/documentation/current/user-guide/mdp-options.html) or in the following [webinar](https://bioexcel.eu/webinar-a-walk-through-simulation-parameter-options-mdp-files-for-gromacs-2019-12-05/). There are a lot of parameters that can be set, here we ony set the elemental parametes and leave everything else as default. Let's have a look at the input file:"
   ]
  },
  {
   "cell_type": "code",
   "execution_count": null,
   "metadata": {
    "scrolled": true
   },
   "outputs": [],
   "source": [
    "!cat input/emin-charmm.mdp"
   ]
  },
  {
   "cell_type": "code",
   "execution_count": null,
   "metadata": {
    "nbpresent": {
     "id": "34b6c3cb-5926-4ba5-b97a-8b42457956ce"
    },
    "scrolled": false
   },
   "outputs": [],
   "source": [
    "!gmx grompp -f input/emin-charmm.mdp -c 1fjs_solv_ions.gro -p topol.top -o em.tpr"
   ]
  },
  {
   "cell_type": "markdown",
   "metadata": {
    "nbpresent": {
     "id": "b59bc1fe-5773-440c-ac9e-109d3df55ec4"
    }
   },
   "source": [
    "Make sure you have been updating your topol.top file when running genbox and genion, or else you will get lots of nasty error messages (\"number of coordinates in coordinate file does not match topology,\" etc)."
   ]
  },
  {
   "cell_type": "markdown",
   "metadata": {
    "nbpresent": {
     "id": "a9136c8d-2907-40aa-9eae-d697c9467e49"
    }
   },
   "source": [
    "Once run, we will find the energy-minimized structure in a file called `em.gro`. Additionally to this we will find more information on the run in an ASCII-text log file of the EM process,  `em.log`, a file for storage of energy, `em.edr` and a binary full-precision trajectory `em.trr`. \n"
   ]
  },
  {
   "cell_type": "markdown",
   "metadata": {
    "nbpresent": {
     "id": "b59bc1fe-5773-440c-ac9e-109d3df55ec4"
    }
   },
   "source": [
    "We are now ready to run mdrun to carry out the energy minimisation:"
   ]
  },
  {
   "cell_type": "code",
   "execution_count": null,
   "metadata": {
    "nbpresent": {
     "id": "eb3e7e13-d78e-4c99-806c-99e9b30d3d69"
    },
    "scrolled": false
   },
   "outputs": [],
   "source": [
    "!gmx mdrun -nt 8 -v -deffnm em"
   ]
  },
  {
   "cell_type": "markdown",
   "metadata": {
    "nbpresent": {
     "id": "65593f21-7e6d-426e-a48e-847cd9faa631"
    }
   },
   "source": [
    "The -v flag is for the impatient: it makes mdrun verbose, such that it prints its progress to the screen at every step. The -deffnm flag will define the file names of the input and output. So, if you did not name your grompp output \"em.tpr,\" you will have to explicitly specify its name with the mdrun -s flag."
   ]
  },
  {
   "cell_type": "markdown",
   "metadata": {},
   "source": [
    "*Note: you can download archive with <a href=https://github.com/bioexcel/2021-10-20-febs-gromacs-tutorial/raw/master/reference-data.zip>\"Pre-computed files\"</a> and check them later on your local machine. Energy minimisation files have names starting with em.&ast;*  "
   ]
  },
  {
   "cell_type": "markdown",
   "metadata": {
    "nbpresent": {
     "id": "0274fdde-8eaf-4df7-b0da-f7744035566f"
    }
   },
   "source": [
    "## Determining if the run was successful"
   ]
  },
  {
   "cell_type": "markdown",
   "metadata": {
    "nbpresent": {
     "id": "a1ca837f-1179-4518-a425-cd9ad733cd73"
    }
   },
   "source": [
    "There are two very important factors to evaluate to determine if EM was successful. \n",
    "\n",
    "The first is the potential energy (printed at the end of the EM process, even without -v). Epot should be negative and (for a simple protein in water) on the order of 100000 kJ/mol, depending on the system size and number of water molecules\n",
    "\n",
    "The second important feature is the maximum force, Fmax, the target for which was set in minim.mdp - \"emtol = 1000.0\" - indicating a target Fmax of no greater than 1000 kJ/(mol nm). It is possible to arrive at a reasonable Epot with Fmax > emtol. If this happens, your system may not be stable enough for simulation. Evaluate why it may be happening, and perhaps change your minimization parameters (integrator, emstep, etc).\n",
    "\n"
   ]
  },
  {
   "cell_type": "markdown",
   "metadata": {
    "nbpresent": {
     "id": "08ee3d6c-ad7d-42be-9622-f43d9ab3d1e7"
    }
   },
   "source": [
    "## Analysing the run results"
   ]
  },
  {
   "cell_type": "markdown",
   "metadata": {
    "nbpresent": {
     "id": "e4c99f39-4127-487f-b3fe-fbe5b3595316"
    }
   },
   "source": [
    "Let's do a bit of analysis. The em.edr file contains all of the energy terms that GROMACS collects during EM. You can analyze any .edr file using the GROMACS energy module:"
   ]
  },
  {
   "cell_type": "markdown",
   "metadata": {
    "nbpresent": {
     "id": "4c87141e-8583-497a-8c8c-22ca7e149a3f"
    }
   },
   "source": [
    "To analyse or visualize simulation data in python or jupyter notebooks, we can output a simplified xvg format from gmx-analysis tools with the option `-xvg none`"
   ]
  },
  {
   "cell_type": "code",
   "execution_count": null,
   "metadata": {
    "nbpresent": {
     "id": "9ebad872-0589-4675-a240-b89c396a35c1"
    },
    "scrolled": false
   },
   "outputs": [],
   "source": [
    "!printf \"Potential\\n0\\n\" | gmx energy -f em.edr -o potential.xvg -xvg none"
   ]
  },
  {
   "cell_type": "markdown",
   "metadata": {
    "nbpresent": {
     "id": "a4591650-99ca-436f-a572-7e254adb454e"
    }
   },
   "source": [
    "You will be shown the average of Epot, and a file called \"potential.xvg\" will be written. To plot this data file, you can use the script below. The resulting plot should show a steady convergence of Epot."
   ]
  },
  {
   "cell_type": "code",
   "execution_count": null,
   "metadata": {
    "nbpresent": {
     "id": "4ce04079-a188-4372-ac3f-10665cd8b1a5"
    },
    "scrolled": false
   },
   "outputs": [],
   "source": [
    "import pandas as pd\n",
    "df = pd.read_csv('potential.xvg', sep='\\s+', header=None, names=['time','energy'])\n",
    "df.plot('time')"
   ]
  },
  {
   "cell_type": "markdown",
   "metadata": {
    "nbpresent": {
     "id": "ca79195b-10c4-4c90-8d1c-b4706aeba797"
    }
   },
   "source": [
    "In alternative, you can plot data file using Xmgrace (QtGrace on Windows) plotting tool by directly output xvg format from the analysis tools."
   ]
  },
  {
   "cell_type": "markdown",
   "metadata": {
    "nbpresent": {
     "id": "e6db598c-b3ac-4a16-8044-1662a0646b15"
    }
   },
   "source": [
    "Now that our system is at an energy minimum, we can begin real dynamics."
   ]
  },
  {
   "cell_type": "markdown",
   "metadata": {
    "nbpresent": {
     "id": "4c85e968-f181-42fb-a3b3-ab42facdb15a"
    }
   },
   "source": [
    "# Position restraints "
   ]
  },
  {
   "cell_type": "markdown",
   "metadata": {
    "nbpresent": {
     "id": "2b10cf65-f4fd-4244-bb0b-612e4aa3ade8"
    }
   },
   "source": [
    "EM ensured that we have a reasonable starting structure, in terms of geometry and solvent orientation. To begin real dynamics, we must equilibrate the solvent and ions around the protein. If we were to attempt unrestrained dynamics at this point, the system may collapse. The reason is that the solvent is mostly optimized within itself, and not necessarily with the solute, and ions are randomly placed by replacing water molecules."
   ]
  },
  {
   "cell_type": "markdown",
   "metadata": {
    "nbpresent": {
     "id": "2b10cf65-f4fd-4244-bb0b-612e4aa3ade8"
    }
   },
   "source": [
    "Remember that posre.itp file that pdb2gmx generated a long time ago? We're going to use it now. The purpose of posre.itp is to apply a position restraining force on the heavy atoms of the protein (anything that is not a hydrogen). Movement is permitted, but only after overcoming a substantial energy penalty. The utility of position restraints is that they allow us to relax our solvent and ions around our protein, without the added variable of structural changes in the protein. The origin of the position restraints (the coordinates at which the restraint potential is zero) is provided via a coordinate file passed to the -r option of grompp. Depending from the protein and ion types, this process may also be in the order nanoseconds."
   ]
  },
  {
   "cell_type": "markdown",
   "metadata": {
    "nbpresent": {
     "id": "2b10cf65-f4fd-4244-bb0b-612e4aa3ade8"
    }
   },
   "source": [
    "To use position restraints we need to add \\\"define = -DPOSRES\\\" to the simulation parameter file, .mdp, (more details on the simulation parameters below). Have a look at the .mdp file for this run:"
   ]
  },
  {
   "cell_type": "code",
   "execution_count": null,
   "metadata": {
    "scrolled": true
   },
   "outputs": [],
   "source": [
    "!head -5 input/nvt-charmm.mdp "
   ]
  },
  {
   "cell_type": "markdown",
   "metadata": {},
   "source": [
    "When using position restraints, a file with restraint coordinates must be supplied with -r to gmx grompp (see below). It can be the same file as supplied for -c. "
   ]
  },
  {
   "cell_type": "markdown",
   "metadata": {
    "nbpresent": {
     "id": "4c85e968-f181-42fb-a3b3-ab42facdb15a"
    }
   },
   "source": [
    "# Equilibration run - temperature"
   ]
  },
  {
   "cell_type": "markdown",
   "metadata": {
    "nbpresent": {
     "id": "2b10cf65-f4fd-4244-bb0b-612e4aa3ade8"
    }
   },
   "source": [
    "EM ensured that we have a reasonable starting structure, in terms of geometry and solvent orientation. Now the system needs to be brought to the temperature we wish to simulate and establish the proper orientation about the solute (the protein). After we arrive at the correct temperature (based on kinetic energies), we will apply pressure to the system until it reaches the proper density."
   ]
  },
  {
   "cell_type": "markdown",
   "metadata": {
    "nbpresent": {
     "id": "2b10cf65-f4fd-4244-bb0b-612e4aa3ade8"
    }
   },
   "source": [
    "Equilibration is often conducted in two phases. The first phase is conducted under an NVT ensemble (constant Number of particles, Volume, and Temperature). This ensemble is also referred to as \"isothermal-isochoric\" or \"canonical.\" The timeframe for such a procedure is dependent upon the contents of the system. Typically, 100-200 ps should suffice, and we will conduct a 100-ps NVT equilibration for this exercise. Depending on your machine, this may take a while (just under an hour if run in parallel on 16 cores or so)."
   ]
  },
  {
   "cell_type": "markdown",
   "metadata": {
    "nbpresent": {
     "id": "2b10cf65-f4fd-4244-bb0b-612e4aa3ade8"
    }
   },
   "source": [
    "We will call grompp and mdrun just as we did at the EM step, but this time with the energy minimised structure as input and a different .mdp file for the run. Have a look at the input file for this run:"
   ]
  },
  {
   "cell_type": "code",
   "execution_count": null,
   "metadata": {
    "scrolled": true
   },
   "outputs": [],
   "source": [
    "!cat input/nvt-charmm.mdp"
   ]
  },
  {
   "cell_type": "markdown",
   "metadata": {
    "nbpresent": {
     "id": "cc6aa785-2b71-44bc-8a86-0c95e3b65c82"
    }
   },
   "source": [
    "Instead of energy tolerance, we now give time a step size and a number of steps. Furthermore, we need to set a temperature. Now, we're good to run. Take note of a few parameters in the .mdp file:\n",
    "\n",
    "- `gen_vel = yes`: Initiates velocity generation. Using different random seeds (gen_seed) gives different initial velocities, and thus multiple (different) simulations can be conducted from the same starting structure.\n",
    "- `tcoupl = V-rescale`: The velocity rescaling thermostat is an improvement upon the Berendsen weak coupling method, which did not reproduce a correct kinetic ensemble.\n",
    "- `pcoupl = no`: Pressure coupling is not applied. \n",
    "\n",
    "A full explanation of the parameters used can be found in the GROMACS [manual](http://manual.gromacs.org/documentation/current/user-guide/mdp-options.html), in addition to the comments provided. "
   ]
  },
  {
   "cell_type": "markdown",
   "metadata": {},
   "source": [
    "Now, we're good to run."
   ]
  },
  {
   "cell_type": "code",
   "execution_count": null,
   "metadata": {
    "nbpresent": {
     "id": "2b413eeb-b4a1-4499-b977-156c6a0b4566"
    },
    "scrolled": false
   },
   "outputs": [],
   "source": [
    "!gmx grompp -f input/nvt-charmm.mdp -c em.gro -r em.gro -p topol.top -o nvt.tpr \n",
    "!gmx mdrun -nt 8 -v -deffnm nvt"
   ]
  },
  {
   "cell_type": "markdown",
   "metadata": {
    "nbpresent": {
     "id": "828a3d07-e09e-44a3-8c97-350bb3a42a84"
    }
   },
   "source": [
    "Your computer should be working at full speed now to finish this simulation; it should be done in 5 to 10 minutes."
   ]
  },
  {
   "cell_type": "markdown",
   "metadata": {},
   "source": [
    "*Note: you can download archive with <a href=https://github.com/bioexcel/2021-10-20-febs-gromacs-tutorial/raw/master/reference-data.zip>\"Pre-computed files\"</a> and check them later on your local machine. Temperature equilibration files have names starting with nvt.&ast;*    "
   ]
  },
  {
   "cell_type": "code",
   "execution_count": null,
   "metadata": {
    "nbpresent": {
     "id": "a414818c-cb67-4514-a983-5322d9d388b0"
    },
    "scrolled": false
   },
   "outputs": [],
   "source": [
    "!echo \"Temperature\" | gmx energy -f nvt.edr -o temperature.xvg -xvg none"
   ]
  },
  {
   "cell_type": "code",
   "execution_count": null,
   "metadata": {
    "nbpresent": {
     "id": "4ce04079-a188-4372-ac3f-10665cd8b1a5"
    },
    "scrolled": false
   },
   "outputs": [],
   "source": [
    "import pandas as pd\n",
    "df = pd.read_csv('temperature.xvg', sep='\\s+', header=None, names=['time','temperature'])\n",
    "df.plot('time')"
   ]
  },
  {
   "cell_type": "markdown",
   "metadata": {
    "nbpresent": {
     "id": "00806afa-b604-4964-9616-edc3ff3d046d"
    }
   },
   "source": [
    "From the plot, it is clear that the temperature of the system quickly reaches the target value (300 K), and remains stable over the remainder of the equilibration. For this system, an equilibration period (on the order of 50 ps) may be adequate."
   ]
  },
  {
   "cell_type": "markdown",
   "metadata": {
    "nbpresent": {
     "id": "82f60247-efd9-4559-9b40-ddc31d78b0cf"
    }
   },
   "source": [
    "# Equilibration run - pressure"
   ]
  },
  {
   "cell_type": "markdown",
   "metadata": {
    "nbpresent": {
     "id": "d420cdd6-a94d-49a4-8776-c5ceee7b3cb4"
    }
   },
   "source": [
    "The previous step, NVT equilibration, stabilized the temperature of the system. Prior to data collection, we must also stabilize the pressure (and thus also the density) of the system. Equilibration of pressure is conducted under an NPT ensemble, wherein the Number of particles, Pressure, and Temperature are all constant. The ensemble is also called the \"isothermal-isobaric\" ensemble, and most closely resembles experimental conditions.\n",
    "\n",
    "The .mdp file used for a 100-ps NPT equilibration can be found here. It is not drastically different from the parameter file used for NVT equilibration. Note the addition of the pressure coupling section. Berendsen barostat is used for this equilibation phase."
   ]
  },
  {
   "cell_type": "code",
   "execution_count": null,
   "metadata": {
    "scrolled": true
   },
   "outputs": [],
   "source": [
    "!cat input/npt-charmm.mdp"
   ]
  },
  {
   "cell_type": "markdown",
   "metadata": {
    "nbpresent": {
     "id": "d420cdd6-a94d-49a4-8776-c5ceee7b3cb4"
    }
   },
   "source": [
    "A few other changes:\n",
    "\n",
    "- `continuation = yes`: We are continuing the simulation from the NVT equilibration phase\n",
    "- `gen_vel = no`: Velocities are read from the trajectory (see below) \n",
    "\n",
    "We will call grompp and mdrun just as we did for NVT equilibration. Note that we are now including the -t flag to include the checkpoint file from the NVT equilibration; this file contains all the necessary state variables to continue our simulation. To conserve the velocities produced during NVT, we must include the final coordinate file (output) of the NVT simulation using the option (-c)."
   ]
  },
  {
   "cell_type": "code",
   "execution_count": null,
   "metadata": {
    "nbpresent": {
     "id": "d0031438-f9e0-4d31-9c19-df4dc92d2d22"
    },
    "scrolled": false
   },
   "outputs": [],
   "source": [
    "!gmx grompp -f input/npt-charmm.mdp -c nvt.gro -r nvt.gro -t nvt.cpt -p topol.top -o npt.tpr"
   ]
  },
  {
   "cell_type": "markdown",
   "metadata": {
    "nbpresent": {
     "id": "6fd8fd4f-6972-4eed-91c9-805282079174"
    }
   },
   "source": [
    "Now we'll start an MD simulation just like before - this one will take a few minutes; that's why it is commented out. Go ahead run it if you want to generate your own data.   "
   ]
  },
  {
   "cell_type": "code",
   "execution_count": null,
   "metadata": {
    "nbpresent": {
     "id": "8a3208e1-acc3-40ab-b3be-a26fa2bb071c"
    },
    "scrolled": false
   },
   "outputs": [],
   "source": [
    "!gmx mdrun -nt 8 -v -deffnm npt"
   ]
  },
  {
   "cell_type": "markdown",
   "metadata": {
    "nbpresent": {
     "id": "d0acf72c-7b94-4864-89a4-84674b63a04e"
    }
   },
   "source": [
    "The simulation should take around 5-7 minutes."
   ]
  },
  {
   "cell_type": "markdown",
   "metadata": {},
   "source": [
    "*Note: you can download archive with <a href=https://github.com/bioexcel/2021-10-20-febs-gromacs-tutorial/raw/master/reference-data.zip>\"Pre-computed files\"</a> and check them later on your local machine. Pressure equilibration files have names starting with npt.&ast;*  "
   ]
  },
  {
   "cell_type": "markdown",
   "metadata": {
    "nbpresent": {
     "id": "eb120f75-b472-4cb1-a3ee-21c580ca03e7"
    }
   },
   "source": [
    "Let's analyze the pressure progression, again using energy:"
   ]
  },
  {
   "cell_type": "code",
   "execution_count": null,
   "metadata": {
    "nbpresent": {
     "id": "dd41db3e-bcdb-4cad-a8c7-834ebd3b6078"
    },
    "scrolled": false
   },
   "outputs": [],
   "source": [
    "!echo \"Pressure\" | gmx energy -f npt.edr -o pressure.xvg -xvg none"
   ]
  },
  {
   "cell_type": "code",
   "execution_count": null,
   "metadata": {
    "nbpresent": {
     "id": "4ce04079-a188-4372-ac3f-10665cd8b1a5"
    },
    "scrolled": false
   },
   "outputs": [],
   "source": [
    "import pandas as pd\n",
    "df = pd.read_csv('pressure.xvg', sep='\\s+', header=None, names=['time','pressure'])\n",
    "df.plot('time')"
   ]
  },
  {
   "cell_type": "markdown",
   "metadata": {
    "nbpresent": {
     "id": "24293621-f825-48bb-8493-b42fbc65c616"
    }
   },
   "source": [
    "The pressure value fluctuates widely over the course of the 100-ps equilibration phase, but this behavior is not unexpected. The reference pressure was set to 1 bar, so is this outcome acceptable? Pressure is a quantity that fluctuates widely over the course of an MD simulation, as is clear from the large root-mean-square fluctuation (in the order of 100 bar), so statistically speaking, one cannot distinguish a difference between the obtained average and the target/reference value (1 bar). \n",
    "\n",
    "Let's take a look at density as well using energy."
   ]
  },
  {
   "cell_type": "code",
   "execution_count": null,
   "metadata": {
    "nbpresent": {
     "id": "5f5636cc-2d8e-4fcb-b1a3-a6aa5e059be9"
    },
    "scrolled": false
   },
   "outputs": [],
   "source": [
    "!echo \"Density\" | gmx energy -f npt.edr -o density.xvg -xvg none"
   ]
  },
  {
   "cell_type": "code",
   "execution_count": null,
   "metadata": {
    "nbpresent": {
     "id": "4ce04079-a188-4372-ac3f-10665cd8b1a5"
    },
    "scrolled": true
   },
   "outputs": [],
   "source": [
    "import pandas as pd\n",
    "df = pd.read_csv('density.xvg', sep='\\s+', header=None, names=['time','density'])\n",
    "df.plot('time')"
   ]
  },
  {
   "cell_type": "markdown",
   "metadata": {
    "nbpresent": {
     "id": "55be45c5-3caa-472d-995e-9e9532ff4f86"
    }
   },
   "source": [
    "The average value is close to the experimental value of 1000 kg m-3 and the expected density of the TIP3P model of 1001 kg m-3. The parameters for the TIP3P water model closely replicate experimental values for water. The density values are very stable over time, indicating that the system is well-equilibrated now with respect to pressure and density.\n",
    "\n",
    "*Note: Pressure-related terms are slow to converge, and thus you may have to run NPT equilibration slightly longer than is specified here.*"
   ]
  },
  {
   "cell_type": "markdown",
   "metadata": {
    "nbpresent": {
     "id": "bcefd2f6-8318-40a7-98e0-dc89ecb9ca56"
    }
   },
   "source": [
    "# The \"production\" run"
   ]
  },
  {
   "cell_type": "markdown",
   "metadata": {
    "nbpresent": {
     "id": "f366f0c1-5bb1-47a1-a8af-e6f79e7eb2fc"
    }
   },
   "source": [
    "Upon completion of the two equilibration phases, the system is now well-equilibrated at the desired temperature and pressure. We are now ready to release the position restraints and run production MD for data collection. The process is just like we have seen before, as we will make use of the checkpoint file (which in this case now contains preserve pressure coupling information) to grompp. We will run a 100 ps MD simulation. We use velocity-rescaling temperature coupling as thermostat and stochastic cell rescaling as barostat. A full explanation of the available thermostats and barostats in GROMACS can be found in the manual (see [here](http://manual.gromacs.org/documentation/current/reference-manual/algorithms/molecular-dynamics.html#temperature-coupling) for thermostat and [here](http://manual.gromacs.org/documentation/current/reference-manual/algorithms/molecular-dynamics.html#pressure-coupling) for barostat)"
   ]
  },
  {
   "cell_type": "code",
   "execution_count": null,
   "metadata": {
    "scrolled": true
   },
   "outputs": [],
   "source": [
    "!cat input/md-charmm.mdp"
   ]
  },
  {
   "cell_type": "markdown",
   "metadata": {
    "nbpresent": {
     "id": "f0ff0a16-ecdd-40e6-af2c-4234793043c1"
    }
   },
   "source": [
    "Note we have explictly add a section that controls the output frequency in log file (.log), energy file (.edr), in the trajcotry file (.trr) and the compress trajectory file (.xtc).\n",
    "\n",
    "gmx grompp will print an estimate for generated data and PME load. PME load will dictate how many processors should be dedicated to the PME calculation, and how many for the PP (everything except for PME) calculations. Refer to the [manual](http://manual.gromacs.org/documentation/current/user-guide/mdrun-performance.html#parallelization-schemes) for details."
   ]
  },
  {
   "cell_type": "code",
   "execution_count": null,
   "metadata": {
    "nbpresent": {
     "id": "9749ba51-ceef-4d26-a92b-f056a3a4e4c1"
    },
    "scrolled": false
   },
   "outputs": [],
   "source": [
    "!gmx grompp -f input/md-charmm.mdp -c npt.gro -t npt.cpt -p topol.top -o md.tpr"
   ]
  },
  {
   "cell_type": "code",
   "execution_count": null,
   "metadata": {
    "nbpresent": {
     "id": "94034110-7553-4031-ab62-01022bce77b8"
    },
    "scrolled": false
   },
   "outputs": [],
   "source": [
    "!gmx mdrun -nt 8 -v -deffnm md"
   ]
  },
  {
   "cell_type": "markdown",
   "metadata": {
    "nbpresent": {
     "id": "247e14a4-0892-4f32-9624-8402d0b7e070"
    }
   },
   "source": [
    "As before, this run will take some time around 5-7 minutes.\n",
    "\n",
    "*Note: you can download archive with <a href=https://github.com/bioexcel/2021-10-20-febs-gromacs-tutorial/raw/master/reference-data.zip>\"Pre-computed files\"</a> and check them later on your local machine. Production run files have names starting with md.&ast;*   "
   ]
  },
  {
   "cell_type": "markdown",
   "metadata": {
    "nbpresent": {
     "id": "f5ecb43b-4d2f-44e7-85dd-62f9d2665a17"
    }
   },
   "source": [
    "# Analysis"
   ]
  },
  {
   "cell_type": "markdown",
   "metadata": {
    "nbpresent": {
     "id": "ef9d62ee-3df6-4b4e-ba99-0eb1e6374fb2"
    }
   },
   "source": [
    "Now that we have simulated our protein, we should run some analysis on the system. What types of data are important? This is an important question to ask before running the simulation, so you should have some ideas about the types of data you will want to collect in your own systems. For this tutorial, a few basic tools will be introduced."
   ]
  },
  {
   "cell_type": "markdown",
   "metadata": {},
   "source": [
    "The first tool is make_ndx, that used to create index file. Index groups are necessary for almost every GROMACS tools. All GROMACS tools can generate default index groups. If one needs special index groups, he/she can use gmx make_ndx to generate an index file (ndx). For example the command `splitch 1` splits the group 1 (Protein) in chains and the command `q`  close the tool.  "
   ]
  },
  {
   "cell_type": "code",
   "execution_count": null,
   "metadata": {
    "scrolled": false
   },
   "outputs": [],
   "source": [
    "!printf \"splitch 1\\nq\\n\" | gmx make_ndx -f em.tpr -o "
   ]
  },
  {
   "cell_type": "markdown",
   "metadata": {},
   "source": [
    "Now we can calculate the hydrogen bonds between the two protein chains using another tool gmx hbond. The option -num provide the number of hydrogen bond as a funtion of time.  "
   ]
  },
  {
   "cell_type": "code",
   "execution_count": null,
   "metadata": {
    "scrolled": false
   },
   "outputs": [],
   "source": [
    "!printf \"19\\n20\\n\"| gmx hbond -f md.xtc -s md.tpr -n index.ndx -num -xvg none"
   ]
  },
  {
   "cell_type": "code",
   "execution_count": null,
   "metadata": {
    "nbpresent": {
     "id": "4ce04079-a188-4372-ac3f-10665cd8b1a5"
    },
    "scrolled": true
   },
   "outputs": [],
   "source": [
    "import pandas as pd\n",
    "df = pd.read_csv('hbnum.xvg', sep='\\s+', header=None, names=['time','H-bonds'], usecols=[0, 1])\n",
    "df.plot('time')"
   ]
  },
  {
   "cell_type": "markdown",
   "metadata": {
    "nbpresent": {
     "id": "ef9d62ee-3df6-4b4e-ba99-0eb1e6374fb2"
    }
   },
   "source": [
    "The next tool is trjconv, which is used as a post-processing tool to strip out coordinates, correct for periodicity, or manually alter the trajectory (time units, frame frequency, etc). Here you find a suggested workflow for trjconv [link](https://manual.gromacs.org/2021/user-guide/terminology.html?highlight=periodic%20boundary). This exercise, we will use trjconv to account for any periodicity in the system. The protein will diffuse through the unit cell, and may appear \"broken\" or may \"jump\" across to the other side of the box. To account for such actions, issue the following:"
   ]
  },
  {
   "cell_type": "code",
   "execution_count": null,
   "metadata": {
    "nbpresent": {
     "id": "49e846cb-4d93-4ff7-972e-2a01e68ffe13"
    },
    "scrolled": false
   },
   "outputs": [],
   "source": [
    "!printf \"20\\n1\\n\" | gmx trjconv -s md.tpr -f md.xtc -o md_center.xtc -n index.ndx -center -pbc mol"
   ]
  },
  {
   "cell_type": "markdown",
   "metadata": {
    "nbpresent": {
     "id": "232962b5-46c5-460e-a6cd-d2c59ae98683"
    }
   },
   "source": [
    "Select 20 (\"Protein_chain2\") as the group to be centered and 1 (\"Protein\") for output. We will conduct all our analyses on this \"corrected\" trajectory. Let's look at so obtained trajcetory using vmd. "
   ]
  },
  {
   "cell_type": "code",
   "execution_count": null,
   "metadata": {
    "nbpresent": {
     "id": "f45c2308-0e74-4025-ac1e-200ba2869162"
    },
    "scrolled": false
   },
   "outputs": [],
   "source": [
    "import nglview as ng \n",
    "import mdtraj as md\n",
    "traj = md.load(\"md_center.xtc\", top=\"1fjs_newbox.gro\")\n",
    "view = ng.show_mdtraj(traj)\n",
    "view"
   ]
  },
  {
   "cell_type": "markdown",
   "metadata": {},
   "source": [
    "In alternative, you can use VMD or PyMOL to render the trajectory on your local machine."
   ]
  },
  {
   "cell_type": "markdown",
   "metadata": {
    "nbpresent": {
     "id": "ef9d62ee-3df6-4b4e-ba99-0eb1e6374fb2"
    }
   },
   "source": [
    "Note, the protein should never interact with its periodic image (minimum image convention), otherwise the forces calculated will be spurious. To calculate the distance between the protein and its periodic image, we use the tool mindist with the option -pi. "
   ]
  },
  {
   "cell_type": "code",
   "execution_count": null,
   "metadata": {
    "nbpresent": {
     "id": "49e846cb-4d93-4ff7-972e-2a01e68ffe13"
    },
    "scrolled": false
   },
   "outputs": [],
   "source": [
    "!printf \"1\\n\" | gmx mindist -s md.tpr -f md_center.xtc -pi -od mindist.xvg -xvg none"
   ]
  },
  {
   "cell_type": "code",
   "execution_count": null,
   "metadata": {
    "scrolled": true
   },
   "outputs": [],
   "source": [
    "import pandas as pd\n",
    "df = pd.read_csv('mindist.xvg', sep='\\s+', header=None, names=['time','Distance'], usecols = [0,1])\n",
    "df.plot('time')"
   ]
  },
  {
   "cell_type": "markdown",
   "metadata": {},
   "source": [
    "The distance between the protein and its periodic image should not be smaller than the cut-off used to describe non-bonded interactions."
   ]
  },
  {
   "cell_type": "markdown",
   "metadata": {
    "nbpresent": {
     "id": "232962b5-46c5-460e-a6cd-d2c59ae98683"
    }
   },
   "source": [
    "Now let's look at structural stability. GROMACS has a built-in utility for RMSD calculations called rms. To calculate RMSD relative to the crystal structure from *em.tpr* file, issue this command:"
   ]
  },
  {
   "cell_type": "code",
   "execution_count": null,
   "metadata": {
    "nbpresent": {
     "id": "41a754a7-38be-4f22-b1af-838fefef505b"
    },
    "scrolled": false
   },
   "outputs": [],
   "source": [
    "!printf \"4\\n4\\n\" | gmx rms -s em.tpr -f md_center.xtc -o rmsd_xray.xvg -tu ns -xvg none"
   ]
  },
  {
   "cell_type": "markdown",
   "metadata": {
    "nbpresent": {
     "id": "ca9b922f-429b-45f5-b118-aa633c85c2e6"
    }
   },
   "source": [
    "Choose 4 (\"Backbone\") for both the least-squares fit and the group for RMSD calculation. The -tu flag will output the results in terms of ns, even though the trajectory was written in ps. This is done for clarity of the output (especially if you have a long simulation - 1ns does not look as nice as 100 ns). The output plot will show the RMSD relative to the structure present in the original pdb file:\n"
   ]
  },
  {
   "cell_type": "code",
   "execution_count": null,
   "metadata": {
    "nbpresent": {
     "id": "4ce04079-a188-4372-ac3f-10665cd8b1a5"
    },
    "scrolled": true
   },
   "outputs": [],
   "source": [
    "import pandas as pd\n",
    "df = pd.read_csv('rmsd_xray.xvg', sep='\\s+', header=None, names=['time','RMSD'])\n",
    "df.plot('time')"
   ]
  },
  {
   "cell_type": "markdown",
   "metadata": {
    "nbpresent": {
     "id": "e09ab1d9-4a3c-4f31-a309-524cafbea23f"
    }
   },
   "source": [
    "The time serie shows the RMSD levels off to ~0.11 nm (1 Å), indicating that the structure is stable. \n",
    "\n",
    "The option `-h` provides help information for GROMACS tool. "
   ]
  },
  {
   "cell_type": "code",
   "execution_count": null,
   "metadata": {
    "scrolled": false
   },
   "outputs": [],
   "source": [
    "!gmx rms -h"
   ]
  },
  {
   "cell_type": "markdown",
   "metadata": {
    "nbpresent": {
     "id": "0c6ed6c2-b327-4aa5-be30-5a34dda3fb00"
    }
   },
   "source": [
    "## Radius of gyration"
   ]
  },
  {
   "cell_type": "markdown",
   "metadata": {
    "nbpresent": {
     "id": "5e00cc55-3f22-419c-b7ec-12b1a1974c87"
    }
   },
   "source": [
    "Finally, lets estimate another property of protein in solution. The radius of gyration of a protein is a measure of its compactness. If a protein is stably folded, it will likely maintain a relatively steady value of Rg. If a protein unfolds, its Rg will change over time. Let's analyze the radius of gyration for the protein in our simulation:"
   ]
  },
  {
   "cell_type": "code",
   "execution_count": null,
   "metadata": {
    "nbpresent": {
     "id": "d5801034-d329-48bd-9563-b59b3df88421"
    },
    "scrolled": false
   },
   "outputs": [],
   "source": [
    "!echo \"1\" | gmx gyrate -f md_center.xtc -s md.tpr -o gyrate.xvg -xvg none"
   ]
  },
  {
   "cell_type": "code",
   "execution_count": null,
   "metadata": {
    "nbpresent": {
     "id": "4ce04079-a188-4372-ac3f-10665cd8b1a5"
    },
    "scrolled": true
   },
   "outputs": [],
   "source": [
    "import pandas as pd\n",
    "df = pd.read_csv('gyrate.xvg', sep='\\s+', header=None, names=['time','Rg'], usecols=[0, 1])\n",
    "df.plot('time')"
   ]
  },
  {
   "cell_type": "markdown",
   "metadata": {
    "nbpresent": {
     "id": "ca31ca31-edde-434e-9757-96e683450f2b"
    }
   },
   "source": [
    "We can see from the reasonably invariant Rg values that the protein remains very stable, in its compact (folded) form over the course of 100 ps at 300 K. This result is not unexpected, but illustrates an advanced capacity of GROMACS analysis that comes built-in."
   ]
  }
 ],
 "metadata": {
  "anaconda-cloud": {},
  "kernelspec": {
   "display_name": "Python 3 (ipykernel)",
   "language": "python",
   "name": "python3"
  },
  "language_info": {
   "codemirror_mode": {
    "name": "ipython",
    "version": 3
   },
   "file_extension": ".py",
   "mimetype": "text/x-python",
   "name": "python",
   "nbconvert_exporter": "python",
   "pygments_lexer": "ipython3",
   "version": "3.8.10"
  },
  "nbpresent": {
   "slides": {
    "5ee989b6-b87f-45b2-b186-0f81e2eb6c0e": {
     "id": "5ee989b6-b87f-45b2-b186-0f81e2eb6c0e",
     "prev": null,
     "regions": {
      "1099d9ed-4336-403d-8924-acb02ce1d7c0": {
       "attrs": {
        "height": 0.2,
        "width": 0.4,
        "x": 0.1,
        "y": 0.7
       },
       "id": "1099d9ed-4336-403d-8924-acb02ce1d7c0"
      },
      "159e8040-85d4-4abc-8f26-2cf90a0407d7": {
       "attrs": {
        "height": 0.6,
        "width": 0.8,
        "x": 0.1,
        "y": 0.1
       },
       "id": "159e8040-85d4-4abc-8f26-2cf90a0407d7"
      },
      "d9ecb908-45c1-485f-bb18-bbc91a1fd84e": {
       "attrs": {
        "height": 0.2,
        "width": 0.4,
        "x": 0.5,
        "y": 0.7
       },
       "id": "d9ecb908-45c1-485f-bb18-bbc91a1fd84e"
      }
     }
    }
   },
   "themes": {}
  }
 },
 "nbformat": 4,
 "nbformat_minor": 2
}
